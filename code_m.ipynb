{
 "cells": [
  {
   "cell_type": "code",
   "execution_count": 2,
   "id": "74b727e1",
   "metadata": {},
   "outputs": [],
   "source": [
    "import pandas as pd"
   ]
  },
  {
   "cell_type": "code",
   "execution_count": 3,
   "id": "9d21b426",
   "metadata": {},
   "outputs": [],
   "source": [
    "import numpy as np"
   ]
  },
  {
   "cell_type": "code",
   "execution_count": 4,
   "id": "acc3a9a8",
   "metadata": {},
   "outputs": [],
   "source": [
    "from ast import literal_eval"
   ]
  },
  {
   "cell_type": "code",
   "execution_count": 5,
   "id": "a52e00fd",
   "metadata": {},
   "outputs": [],
   "source": [
    "from nltk.stem import SnowballStemmer"
   ]
  },
  {
   "cell_type": "code",
   "execution_count": 50,
   "id": "17332e39",
   "metadata": {},
   "outputs": [],
   "source": [
    "import difflib"
   ]
  },
  {
   "cell_type": "code",
   "execution_count": 99,
   "id": "aa79f37d",
   "metadata": {},
   "outputs": [],
   "source": [
    "from sklearn.feature_extraction.text import CountVectorizer"
   ]
  },
  {
   "cell_type": "code",
   "execution_count": 6,
   "id": "fa811aa0",
   "metadata": {},
   "outputs": [],
   "source": [
    "from sklearn.feature_extraction.text import TfidfVectorizer\n",
    "from sklearn.metrics.pairwise import cosine_similarity"
   ]
  },
  {
   "cell_type": "code",
   "execution_count": 317,
   "id": "41434e2f",
   "metadata": {},
   "outputs": [],
   "source": [
    "df = pd.read_csv('credits.csv')"
   ]
  },
  {
   "cell_type": "code",
   "execution_count": 318,
   "id": "b70c0e2d",
   "metadata": {},
   "outputs": [
    {
     "name": "stderr",
     "output_type": "stream",
     "text": [
      "C:\\Users\\hp\\AppData\\Local\\Temp\\ipykernel_24624\\4002361806.py:2: DtypeWarning: Columns (10) have mixed types. Specify dtype option on import or set low_memory=False.\n",
      "  df2 = pd.read_csv('movies_metadata.csv')\n"
     ]
    }
   ],
   "source": [
    "df1 = pd.read_csv('keywords.csv')\n",
    "df2 = pd.read_csv('movies_metadata.csv')"
   ]
  },
  {
   "cell_type": "code",
   "execution_count": 322,
   "id": "b058df64",
   "metadata": {},
   "outputs": [
    {
     "name": "stdout",
     "output_type": "stream",
     "text": [
      "<class 'pandas.core.frame.DataFrame'>\n",
      "RangeIndex: 46419 entries, 0 to 46418\n",
      "Data columns (total 2 columns):\n",
      " #   Column    Non-Null Count  Dtype \n",
      "---  ------    --------------  ----- \n",
      " 0   id        46419 non-null  int64 \n",
      " 1   keywords  46419 non-null  object\n",
      "dtypes: int64(1), object(1)\n",
      "memory usage: 725.4+ KB\n"
     ]
    }
   ],
   "source": [
    "df1.info() #id has object datatype"
   ]
  },
  {
   "cell_type": "code",
   "execution_count": 319,
   "id": "c1f0a7ac",
   "metadata": {},
   "outputs": [
    {
     "name": "stdout",
     "output_type": "stream",
     "text": [
      "<class 'pandas.core.frame.DataFrame'>\n",
      "RangeIndex: 45466 entries, 0 to 45465\n",
      "Data columns (total 24 columns):\n",
      " #   Column                 Non-Null Count  Dtype  \n",
      "---  ------                 --------------  -----  \n",
      " 0   adult                  45466 non-null  object \n",
      " 1   belongs_to_collection  4494 non-null   object \n",
      " 2   budget                 45466 non-null  object \n",
      " 3   genres                 45466 non-null  object \n",
      " 4   homepage               7782 non-null   object \n",
      " 5   id                     45466 non-null  int64  \n",
      " 6   imdb_id                45449 non-null  object \n",
      " 7   original_language      45455 non-null  object \n",
      " 8   original_title         45466 non-null  object \n",
      " 9   overview               44512 non-null  object \n",
      " 10  popularity             45461 non-null  object \n",
      " 11  poster_path            45080 non-null  object \n",
      " 12  production_companies   45463 non-null  object \n",
      " 13  production_countries   45463 non-null  object \n",
      " 14  release_date           45379 non-null  object \n",
      " 15  revenue                45460 non-null  float64\n",
      " 16  runtime                45203 non-null  float64\n",
      " 17  spoken_languages       45460 non-null  object \n",
      " 18  status                 45379 non-null  object \n",
      " 19  tagline                20412 non-null  object \n",
      " 20  title                  45460 non-null  object \n",
      " 21  video                  45460 non-null  object \n",
      " 22  vote_average           45460 non-null  float64\n",
      " 23  vote_count             45460 non-null  float64\n",
      "dtypes: float64(4), int64(1), object(19)\n",
      "memory usage: 8.3+ MB\n"
     ]
    }
   ],
   "source": [
    "df2['id'] = pd.to_numeric(df['id']).astype('int64') #converted it to int64\n",
    "df2.info()"
   ]
  },
  {
   "cell_type": "code",
   "execution_count": 10,
   "id": "6890b9c6",
   "metadata": {},
   "outputs": [
    {
     "data": {
      "text/plain": [
       "Index(['adult', 'belongs_to_collection', 'budget', 'genres', 'homepage', 'id',\n",
       "       'imdb_id', 'original_language', 'original_title', 'overview',\n",
       "       'popularity', 'poster_path', 'production_companies',\n",
       "       'production_countries', 'release_date', 'revenue', 'runtime',\n",
       "       'spoken_languages', 'status', 'tagline', 'title', 'video',\n",
       "       'vote_average', 'vote_count'],\n",
       "      dtype='object')"
      ]
     },
     "execution_count": 10,
     "metadata": {},
     "output_type": "execute_result"
    }
   ],
   "source": [
    "df2.columns"
   ]
  },
  {
   "cell_type": "code",
   "execution_count": 12,
   "id": "eb4df9eb",
   "metadata": {},
   "outputs": [
    {
     "data": {
      "text/plain": [
       "Index(['id', 'keywords'], dtype='object')"
      ]
     },
     "execution_count": 12,
     "metadata": {},
     "output_type": "execute_result"
    }
   ],
   "source": [
    "df1.columns"
   ]
  },
  {
   "cell_type": "code",
   "execution_count": 14,
   "id": "c49a951a",
   "metadata": {},
   "outputs": [
    {
     "data": {
      "text/plain": [
       "Index(['cast', 'crew', 'id'], dtype='object')"
      ]
     },
     "execution_count": 14,
     "metadata": {},
     "output_type": "execute_result"
    }
   ],
   "source": [
    "df.columns"
   ]
  },
  {
   "cell_type": "code",
   "execution_count": 315,
   "id": "d7633f0e",
   "metadata": {},
   "outputs": [
    {
     "data": {
      "text/html": [
       "<div>\n",
       "<style scoped>\n",
       "    .dataframe tbody tr th:only-of-type {\n",
       "        vertical-align: middle;\n",
       "    }\n",
       "\n",
       "    .dataframe tbody tr th {\n",
       "        vertical-align: top;\n",
       "    }\n",
       "\n",
       "    .dataframe thead th {\n",
       "        text-align: right;\n",
       "    }\n",
       "</style>\n",
       "<table border=\"1\" class=\"dataframe\">\n",
       "  <thead>\n",
       "    <tr style=\"text-align: right;\">\n",
       "      <th></th>\n",
       "      <th>cast</th>\n",
       "      <th>crew</th>\n",
       "      <th>id</th>\n",
       "    </tr>\n",
       "  </thead>\n",
       "  <tbody>\n",
       "    <tr>\n",
       "      <th>4342</th>\n",
       "      <td>[{'cast_id': 3, 'character': 'Taisto Olavi Kas...</td>\n",
       "      <td>[{'credit_id': '52fe420dc3a36847f800001f', 'de...</td>\n",
       "      <td>2</td>\n",
       "    </tr>\n",
       "    <tr>\n",
       "      <th>12947</th>\n",
       "      <td>[{'cast_id': 5, 'character': 'Nikander', 'cred...</td>\n",
       "      <td>[{'credit_id': '52fe420dc3a36847f8000077', 'de...</td>\n",
       "      <td>3</td>\n",
       "    </tr>\n",
       "    <tr>\n",
       "      <th>17</th>\n",
       "      <td>[{'cast_id': 42, 'character': 'Ted the Bellhop...</td>\n",
       "      <td>[{'credit_id': '52fe420dc3a36847f800011b', 'de...</td>\n",
       "      <td>5</td>\n",
       "    </tr>\n",
       "    <tr>\n",
       "      <th>474</th>\n",
       "      <td>[{'cast_id': 7, 'character': 'Frank Wyatt', 'c...</td>\n",
       "      <td>[{'credit_id': '52fe420dc3a36847f800023d', 'de...</td>\n",
       "      <td>6</td>\n",
       "    </tr>\n",
       "    <tr>\n",
       "      <th>256</th>\n",
       "      <td>[{'cast_id': 3, 'character': 'Luke Skywalker',...</td>\n",
       "      <td>[{'credit_id': '52fe420dc3a36847f8000437', 'de...</td>\n",
       "      <td>11</td>\n",
       "    </tr>\n",
       "    <tr>\n",
       "      <th>...</th>\n",
       "      <td>...</td>\n",
       "      <td>...</td>\n",
       "      <td>...</td>\n",
       "    </tr>\n",
       "    <tr>\n",
       "      <th>45088</th>\n",
       "      <td>[{'cast_id': 0, 'character': 'Bozena', 'credit...</td>\n",
       "      <td>[{'credit_id': '595f97249251412251083338', 'de...</td>\n",
       "      <td>465044</td>\n",
       "    </tr>\n",
       "    <tr>\n",
       "      <th>45283</th>\n",
       "      <td>[{'cast_id': 2, 'character': 'Alec Beggs', 'cr...</td>\n",
       "      <td>[{'credit_id': '5975903bc3a3680cb700867b', 'de...</td>\n",
       "      <td>467731</td>\n",
       "    </tr>\n",
       "    <tr>\n",
       "      <th>21890</th>\n",
       "      <td>[]</td>\n",
       "      <td>[{'credit_id': '597ae87a925141364e00a73e', 'de...</td>\n",
       "      <td>468343</td>\n",
       "    </tr>\n",
       "    <tr>\n",
       "      <th>45408</th>\n",
       "      <td>[{'cast_id': 0, 'character': 'Satu', 'credit_i...</td>\n",
       "      <td>[{'credit_id': '597e22f69251415d7801c74a', 'de...</td>\n",
       "      <td>468707</td>\n",
       "    </tr>\n",
       "    <tr>\n",
       "      <th>20188</th>\n",
       "      <td>[{'cast_id': 0, 'character': 'Manuel(7 years o...</td>\n",
       "      <td>[{'credit_id': '5981feabc3a3680cfb016ff9', 'de...</td>\n",
       "      <td>469172</td>\n",
       "    </tr>\n",
       "  </tbody>\n",
       "</table>\n",
       "<p>45476 rows × 3 columns</p>\n",
       "</div>"
      ],
      "text/plain": [
       "                                                    cast  \\\n",
       "4342   [{'cast_id': 3, 'character': 'Taisto Olavi Kas...   \n",
       "12947  [{'cast_id': 5, 'character': 'Nikander', 'cred...   \n",
       "17     [{'cast_id': 42, 'character': 'Ted the Bellhop...   \n",
       "474    [{'cast_id': 7, 'character': 'Frank Wyatt', 'c...   \n",
       "256    [{'cast_id': 3, 'character': 'Luke Skywalker',...   \n",
       "...                                                  ...   \n",
       "45088  [{'cast_id': 0, 'character': 'Bozena', 'credit...   \n",
       "45283  [{'cast_id': 2, 'character': 'Alec Beggs', 'cr...   \n",
       "21890                                                 []   \n",
       "45408  [{'cast_id': 0, 'character': 'Satu', 'credit_i...   \n",
       "20188  [{'cast_id': 0, 'character': 'Manuel(7 years o...   \n",
       "\n",
       "                                                    crew      id  \n",
       "4342   [{'credit_id': '52fe420dc3a36847f800001f', 'de...       2  \n",
       "12947  [{'credit_id': '52fe420dc3a36847f8000077', 'de...       3  \n",
       "17     [{'credit_id': '52fe420dc3a36847f800011b', 'de...       5  \n",
       "474    [{'credit_id': '52fe420dc3a36847f800023d', 'de...       6  \n",
       "256    [{'credit_id': '52fe420dc3a36847f8000437', 'de...      11  \n",
       "...                                                  ...     ...  \n",
       "45088  [{'credit_id': '595f97249251412251083338', 'de...  465044  \n",
       "45283  [{'credit_id': '5975903bc3a3680cb700867b', 'de...  467731  \n",
       "21890  [{'credit_id': '597ae87a925141364e00a73e', 'de...  468343  \n",
       "45408  [{'credit_id': '597e22f69251415d7801c74a', 'de...  468707  \n",
       "20188  [{'credit_id': '5981feabc3a3680cfb016ff9', 'de...  469172  \n",
       "\n",
       "[45476 rows x 3 columns]"
      ]
     },
     "execution_count": 315,
     "metadata": {},
     "output_type": "execute_result"
    }
   ],
   "source": [
    "sorted_df = df.sort_values('id')\n",
    "sorted_df"
   ]
  },
  {
   "cell_type": "code",
   "execution_count": 320,
   "id": "6f52e652",
   "metadata": {},
   "outputs": [],
   "source": [
    "merged_df = pd.merge(df1, df2, on='id',how='inner')\n",
    "merged_df = pd.merge(merged_df, df, on='id',how='inner') #merged all dataframes\n",
    "merged_df=merged_df[['keywords', 'adult', 'belongs_to_collection','genres','original_language', 'original_title','production_companies',\n",
    "       'production_countries','cast', 'crew']]"
   ]
  },
  {
   "cell_type": "code",
   "execution_count": 12,
   "id": "7bbc8a2a",
   "metadata": {},
   "outputs": [
    {
     "data": {
      "text/html": [
       "<div>\n",
       "<style scoped>\n",
       "    .dataframe tbody tr th:only-of-type {\n",
       "        vertical-align: middle;\n",
       "    }\n",
       "\n",
       "    .dataframe tbody tr th {\n",
       "        vertical-align: top;\n",
       "    }\n",
       "\n",
       "    .dataframe thead th {\n",
       "        text-align: right;\n",
       "    }\n",
       "</style>\n",
       "<table border=\"1\" class=\"dataframe\">\n",
       "  <thead>\n",
       "    <tr style=\"text-align: right;\">\n",
       "      <th></th>\n",
       "      <th>keywords</th>\n",
       "      <th>adult</th>\n",
       "      <th>belongs_to_collection</th>\n",
       "      <th>genres</th>\n",
       "      <th>original_language</th>\n",
       "      <th>original_title</th>\n",
       "      <th>production_companies</th>\n",
       "      <th>production_countries</th>\n",
       "      <th>cast</th>\n",
       "      <th>crew</th>\n",
       "    </tr>\n",
       "  </thead>\n",
       "  <tbody>\n",
       "    <tr>\n",
       "      <th>0</th>\n",
       "      <td>[{'id': 931, 'name': 'jealousy'}, {'id': 4290,...</td>\n",
       "      <td>False</td>\n",
       "      <td>{'id': 10194, 'name': 'Toy Story Collection', ...</td>\n",
       "      <td>[{'id': 16, 'name': 'Animation'}, {'id': 35, '...</td>\n",
       "      <td>en</td>\n",
       "      <td>Toy Story</td>\n",
       "      <td>[{'name': 'Pixar Animation Studios', 'id': 3}]</td>\n",
       "      <td>[{'iso_3166_1': 'US', 'name': 'United States o...</td>\n",
       "      <td>[{'cast_id': 14, 'character': 'Woody (voice)',...</td>\n",
       "      <td>[{'credit_id': '52fe4284c3a36847f8024f49', 'de...</td>\n",
       "    </tr>\n",
       "    <tr>\n",
       "      <th>1</th>\n",
       "      <td>[{'id': 10090, 'name': 'board game'}, {'id': 1...</td>\n",
       "      <td>False</td>\n",
       "      <td>NaN</td>\n",
       "      <td>[{'id': 12, 'name': 'Adventure'}, {'id': 14, '...</td>\n",
       "      <td>en</td>\n",
       "      <td>Jumanji</td>\n",
       "      <td>[{'name': 'TriStar Pictures', 'id': 559}, {'na...</td>\n",
       "      <td>[{'iso_3166_1': 'US', 'name': 'United States o...</td>\n",
       "      <td>[{'cast_id': 1, 'character': 'Alan Parrish', '...</td>\n",
       "      <td>[{'credit_id': '52fe44bfc3a36847f80a7cd1', 'de...</td>\n",
       "    </tr>\n",
       "  </tbody>\n",
       "</table>\n",
       "</div>"
      ],
      "text/plain": [
       "                                            keywords  adult  \\\n",
       "0  [{'id': 931, 'name': 'jealousy'}, {'id': 4290,...  False   \n",
       "1  [{'id': 10090, 'name': 'board game'}, {'id': 1...  False   \n",
       "\n",
       "                               belongs_to_collection  \\\n",
       "0  {'id': 10194, 'name': 'Toy Story Collection', ...   \n",
       "1                                                NaN   \n",
       "\n",
       "                                              genres original_language  \\\n",
       "0  [{'id': 16, 'name': 'Animation'}, {'id': 35, '...                en   \n",
       "1  [{'id': 12, 'name': 'Adventure'}, {'id': 14, '...                en   \n",
       "\n",
       "  original_title                               production_companies  \\\n",
       "0      Toy Story     [{'name': 'Pixar Animation Studios', 'id': 3}]   \n",
       "1        Jumanji  [{'name': 'TriStar Pictures', 'id': 559}, {'na...   \n",
       "\n",
       "                                production_countries  \\\n",
       "0  [{'iso_3166_1': 'US', 'name': 'United States o...   \n",
       "1  [{'iso_3166_1': 'US', 'name': 'United States o...   \n",
       "\n",
       "                                                cast  \\\n",
       "0  [{'cast_id': 14, 'character': 'Woody (voice)',...   \n",
       "1  [{'cast_id': 1, 'character': 'Alan Parrish', '...   \n",
       "\n",
       "                                                crew  \n",
       "0  [{'credit_id': '52fe4284c3a36847f8024f49', 'de...  \n",
       "1  [{'credit_id': '52fe44bfc3a36847f80a7cd1', 'de...  "
      ]
     },
     "execution_count": 12,
     "metadata": {},
     "output_type": "execute_result"
    }
   ],
   "source": [
    "merged_df.head(2)"
   ]
  },
  {
   "cell_type": "code",
   "execution_count": 38,
   "id": "cf51606c",
   "metadata": {},
   "outputs": [
    {
     "data": {
      "text/plain": [
       "\"{'id': 10194, 'name': 'Toy Story Collection', 'poster_path': '/7G9915LfUQ2lVfwMEEhDsn3kT4B.jpg', 'backdrop_path': '/9FBwqcd9IRruEDUrTdcaafOMKUq.jpg'}\""
      ]
     },
     "execution_count": 38,
     "metadata": {},
     "output_type": "execute_result"
    }
   ],
   "source": [
    "merged_df['belongs_to_collection'][0]"
   ]
  },
  {
   "cell_type": "code",
   "execution_count": 42,
   "id": "b879d430",
   "metadata": {},
   "outputs": [
    {
     "data": {
      "text/plain": [
       "0        [{'iso_3166_1': 'US', 'name': 'United States o...\n",
       "1        [{'iso_3166_1': 'US', 'name': 'United States o...\n",
       "2        [{'iso_3166_1': 'US', 'name': 'United States o...\n",
       "3        [{'iso_3166_1': 'US', 'name': 'United States o...\n",
       "4        [{'iso_3166_1': 'US', 'name': 'United States o...\n",
       "                               ...                        \n",
       "46641               [{'iso_3166_1': 'IR', 'name': 'Iran'}]\n",
       "46642        [{'iso_3166_1': 'PH', 'name': 'Philippines'}]\n",
       "46643    [{'iso_3166_1': 'US', 'name': 'United States o...\n",
       "46644             [{'iso_3166_1': 'RU', 'name': 'Russia'}]\n",
       "46645     [{'iso_3166_1': 'GB', 'name': 'United Kingdom'}]\n",
       "Name: production_countries, Length: 46646, dtype: object"
      ]
     },
     "execution_count": 42,
     "metadata": {},
     "output_type": "execute_result"
    }
   ],
   "source": [
    "merged_df['production_countries']"
   ]
  },
  {
   "cell_type": "code",
   "execution_count": 54,
   "id": "35b93278",
   "metadata": {},
   "outputs": [
    {
     "data": {
      "text/plain": [
       "\"[{'name': 'A Band Apart', 'id': 59}, {'name': 'Dimension Films', 'id': 7405}, {'name': 'Los Hooligans Productions', 'id': 11705}, {'name': 'Miramax', 'id': 53009}]\""
      ]
     },
     "execution_count": 54,
     "metadata": {},
     "output_type": "execute_result"
    }
   ],
   "source": [
    "merged_df['production_companies'][69]"
   ]
  },
  {
   "cell_type": "code",
   "execution_count": 26,
   "id": "ba9a7e82",
   "metadata": {},
   "outputs": [
    {
     "data": {
      "text/plain": [
       "Index(['id', 'keywords', 'adult', 'belongs_to_collection', 'budget', 'genres',\n",
       "       'homepage', 'imdb_id', 'original_language', 'original_title',\n",
       "       'overview', 'popularity', 'poster_path', 'production_companies',\n",
       "       'production_countries', 'release_date', 'revenue', 'runtime',\n",
       "       'spoken_languages', 'status', 'tagline', 'title', 'video',\n",
       "       'vote_average', 'vote_count', 'cast', 'crew'],\n",
       "      dtype='object')"
      ]
     },
     "execution_count": 26,
     "metadata": {},
     "output_type": "execute_result"
    }
   ],
   "source": [
    "merged_df.columns"
   ]
  },
  {
   "cell_type": "code",
   "execution_count": 216,
   "id": "5ac86b31",
   "metadata": {},
   "outputs": [],
   "source": [
    "merged_df=merged_df[['keywords', 'adult', 'belongs_to_collection','genres','original_language', 'original_title','production_companies',\n",
    "       'production_countries','cast', 'crew']]"
   ]
  },
  {
   "cell_type": "code",
   "execution_count": 164,
   "id": "802fd927",
   "metadata": {},
   "outputs": [
    {
     "data": {
      "text/html": [
       "<div>\n",
       "<style scoped>\n",
       "    .dataframe tbody tr th:only-of-type {\n",
       "        vertical-align: middle;\n",
       "    }\n",
       "\n",
       "    .dataframe tbody tr th {\n",
       "        vertical-align: top;\n",
       "    }\n",
       "\n",
       "    .dataframe thead th {\n",
       "        text-align: right;\n",
       "    }\n",
       "</style>\n",
       "<table border=\"1\" class=\"dataframe\">\n",
       "  <thead>\n",
       "    <tr style=\"text-align: right;\">\n",
       "      <th></th>\n",
       "      <th>keywords</th>\n",
       "      <th>adult</th>\n",
       "      <th>belongs_to_collection</th>\n",
       "      <th>genres</th>\n",
       "      <th>original_language</th>\n",
       "      <th>original_title</th>\n",
       "      <th>production_companies</th>\n",
       "      <th>production_countries</th>\n",
       "      <th>cast</th>\n",
       "      <th>crew</th>\n",
       "    </tr>\n",
       "  </thead>\n",
       "  <tbody>\n",
       "    <tr>\n",
       "      <th>0</th>\n",
       "      <td>[jealousy, toy, boy, friendship]</td>\n",
       "      <td>False</td>\n",
       "      <td>{'id': 10194, 'name': 'Toy Story Collection', ...</td>\n",
       "      <td>[{'id': 16, 'name': 'Animation'}, {'id': 35, '...</td>\n",
       "      <td>en</td>\n",
       "      <td>Toy Story</td>\n",
       "      <td>[{'name': 'Pixar Animation Studios', 'id': 3}]</td>\n",
       "      <td>[{'iso_3166_1': 'US', 'name': 'United States o...</td>\n",
       "      <td>[{'cast_id': 14, 'character': 'Woody (voice)',...</td>\n",
       "      <td>[{'credit_id': '52fe4284c3a36847f8024f49', 'de...</td>\n",
       "    </tr>\n",
       "  </tbody>\n",
       "</table>\n",
       "</div>"
      ],
      "text/plain": [
       "                           keywords  adult  \\\n",
       "0  [jealousy, toy, boy, friendship]  False   \n",
       "\n",
       "                               belongs_to_collection  \\\n",
       "0  {'id': 10194, 'name': 'Toy Story Collection', ...   \n",
       "\n",
       "                                              genres original_language  \\\n",
       "0  [{'id': 16, 'name': 'Animation'}, {'id': 35, '...                en   \n",
       "\n",
       "  original_title                            production_companies  \\\n",
       "0      Toy Story  [{'name': 'Pixar Animation Studios', 'id': 3}]   \n",
       "\n",
       "                                production_countries  \\\n",
       "0  [{'iso_3166_1': 'US', 'name': 'United States o...   \n",
       "\n",
       "                                                cast  \\\n",
       "0  [{'cast_id': 14, 'character': 'Woody (voice)',...   \n",
       "\n",
       "                                                crew  \n",
       "0  [{'credit_id': '52fe4284c3a36847f8024f49', 'de...  "
      ]
     },
     "execution_count": 164,
     "metadata": {},
     "output_type": "execute_result"
    }
   ],
   "source": [
    "merged_df.head(1)"
   ]
  },
  {
   "cell_type": "code",
   "execution_count": 217,
   "id": "46dcd51b",
   "metadata": {},
   "outputs": [],
   "source": [
    "features = ['cast', 'crew', 'keywords', 'genres','production_companies','production_countries']\n",
    "for feature in features:\n",
    "    merged_df[feature] = merged_df[feature].apply(lambda x: [] if pd.isnull(x) else literal_eval(x))"
   ]
  },
  {
   "cell_type": "code",
   "execution_count": 58,
   "id": "f1da8b84",
   "metadata": {},
   "outputs": [
    {
     "name": "stdout",
     "output_type": "stream",
     "text": [
      "<class 'pandas.core.frame.DataFrame'>\n",
      "Int64Index: 46646 entries, 0 to 46645\n",
      "Data columns (total 10 columns):\n",
      " #   Column                 Non-Null Count  Dtype \n",
      "---  ------                 --------------  ----- \n",
      " 0   keywords               46646 non-null  object\n",
      " 1   adult                  46646 non-null  object\n",
      " 2   belongs_to_collection  4569 non-null   object\n",
      " 3   genres                 46646 non-null  object\n",
      " 4   original_language      46635 non-null  object\n",
      " 5   original_title         46646 non-null  object\n",
      " 6   production_companies   46642 non-null  object\n",
      " 7   production_countries   46642 non-null  object\n",
      " 8   cast                   46646 non-null  object\n",
      " 9   crew                   46646 non-null  object\n",
      "dtypes: object(10)\n",
      "memory usage: 4.9+ MB\n"
     ]
    }
   ],
   "source": [
    "merged_df.info()"
   ]
  },
  {
   "cell_type": "code",
   "execution_count": 81,
   "id": "c85619a6",
   "metadata": {
    "scrolled": true
   },
   "outputs": [
    {
     "data": {
      "text/plain": [
       "\"[{'id': 931, 'name': 'jealousy'}, {'id': 4290, 'name': 'toy'}, {'id': 5202, 'name': 'boy'}, {'id': 6054, 'name': 'friendship'}, {'id': 9713, 'name': 'friends'}, {'id': 9823, 'name': 'rivalry'}, {'id': 165503, 'name': 'boy next door'}, {'id': 170722, 'name': 'new toy'}, {'id': 187065, 'name': 'toy comes to life'}]\""
      ]
     },
     "execution_count": 81,
     "metadata": {},
     "output_type": "execute_result"
    }
   ],
   "source": [
    " merged_df['keywords'][0]"
   ]
  },
  {
   "cell_type": "code",
   "execution_count": 76,
   "id": "bae99d17",
   "metadata": {},
   "outputs": [
    {
     "data": {
      "text/plain": [
       "'Heat'"
      ]
     },
     "execution_count": 76,
     "metadata": {},
     "output_type": "execute_result"
    }
   ],
   "source": [
    "merged_df['original_title'][5]"
   ]
  },
  {
   "cell_type": "code",
   "execution_count": 151,
   "id": "0cec9724",
   "metadata": {},
   "outputs": [
    {
     "data": {
      "text/plain": [
       "[{'id': 931, 'name': 'jealousy'},\n",
       " {'id': 4290, 'name': 'toy'},\n",
       " {'id': 5202, 'name': 'boy'},\n",
       " {'id': 6054, 'name': 'friendship'},\n",
       " {'id': 9713, 'name': 'friends'},\n",
       " {'id': 9823, 'name': 'rivalry'},\n",
       " {'id': 165503, 'name': 'boy next door'},\n",
       " {'id': 170722, 'name': 'new toy'},\n",
       " {'id': 187065, 'name': 'toy comes to life'}]"
      ]
     },
     "execution_count": 151,
     "metadata": {},
     "output_type": "execute_result"
    }
   ],
   "source": [
    "y = merged_df['keywords']\n",
    "y[0]"
   ]
  },
  {
   "cell_type": "code",
   "execution_count": 218,
   "id": "c0474b18",
   "metadata": {},
   "outputs": [],
   "source": [
    "def get_list(x):\n",
    "    if isinstance(x, list):\n",
    "        names = [i['name'] for i in x]\n",
    "        #Check if more than 3 elements exist. If yes, return only first 3. If no, return entire list.\n",
    "        if len(names) > 3:\n",
    "            names = names[:3]\n",
    "        return names\n",
    "\n",
    "    #Return empty list in case of missing/malformed data\n",
    "    return []"
   ]
  },
  {
   "cell_type": "code",
   "execution_count": 219,
   "id": "799c2df5",
   "metadata": {},
   "outputs": [],
   "source": [
    "merged_df['keywords']=merged_df['keywords'].apply(get_list)"
   ]
  },
  {
   "cell_type": "code",
   "execution_count": 17,
   "id": "b31b2aa1",
   "metadata": {},
   "outputs": [
    {
     "data": {
      "text/plain": [
       "0                                     [jealousy, toy, boy]\n",
       "1        [board game, disappearance, based on children'...\n",
       "2             [fishing, best friend, duringcreditsstinger]\n",
       "3        [based on novel, interracial relationship, sin...\n",
       "4                       [baby, midlife crisis, confidence]\n",
       "                               ...                        \n",
       "46641                      [wrestling, sport, silent film]\n",
       "46642                                                   []\n",
       "46643                     [physical abuse, sexual assault]\n",
       "46644                                                   []\n",
       "46645                                                   []\n",
       "Name: keywords, Length: 46646, dtype: object"
      ]
     },
     "execution_count": 17,
     "metadata": {},
     "output_type": "execute_result"
    }
   ],
   "source": [
    "merged_df['keywords']  #keywords settled"
   ]
  },
  {
   "cell_type": "code",
   "execution_count": 176,
   "id": "80efddae",
   "metadata": {},
   "outputs": [
    {
     "data": {
      "text/plain": [
       "0        {'id': 10194, 'name': 'Toy Story Collection', ...\n",
       "1                                                      NaN\n",
       "2        {'id': 119050, 'name': 'Grumpy Old Men Collect...\n",
       "3                                                      NaN\n",
       "4        {'id': 96871, 'name': 'Father of the Bride Col...\n",
       "                               ...                        \n",
       "46641                                                  NaN\n",
       "46642                                                  NaN\n",
       "46643                                                  NaN\n",
       "46644                                                  NaN\n",
       "46645                                                  NaN\n",
       "Name: belongs_to_collection, Length: 46646, dtype: object"
      ]
     },
     "execution_count": 176,
     "metadata": {},
     "output_type": "execute_result"
    }
   ],
   "source": [
    "merged_df['belongs_to_collection']"
   ]
  },
  {
   "cell_type": "code",
   "execution_count": 175,
   "id": "7dc93269",
   "metadata": {},
   "outputs": [
    {
     "data": {
      "text/plain": [
       "str"
      ]
     },
     "execution_count": 175,
     "metadata": {},
     "output_type": "execute_result"
    }
   ],
   "source": [
    "type(merged_df['belongs_to_collection'][0]) #problem"
   ]
  },
  {
   "cell_type": "code",
   "execution_count": 220,
   "id": "ba9c8302",
   "metadata": {},
   "outputs": [],
   "source": [
    "merged_df['belongs_to_collection'] = merged_df['belongs_to_collection'].apply(lambda x: '' if pd.isnull(x) else literal_eval(x))"
   ]
  },
  {
   "cell_type": "code",
   "execution_count": 221,
   "id": "96a03300",
   "metadata": {},
   "outputs": [
    {
     "data": {
      "text/plain": [
       "0                  Toy Story Collection\n",
       "1                                      \n",
       "2             Grumpy Old Men Collection\n",
       "3                                      \n",
       "4        Father of the Bride Collection\n",
       "                      ...              \n",
       "46641                                  \n",
       "46642                                  \n",
       "46643                                  \n",
       "46644                                  \n",
       "46645                                  \n",
       "Name: belongs_to_collection, Length: 46646, dtype: object"
      ]
     },
     "execution_count": 221,
     "metadata": {},
     "output_type": "execute_result"
    }
   ],
   "source": [
    "merged_df['belongs_to_collection'] = merged_df['belongs_to_collection'].apply(lambda x: x['name'] if isinstance(x, dict) else '')\n",
    "merged_df['belongs_to_collection'] #good 'belongs_to_collection'settled"
   ]
  },
  {
   "cell_type": "code",
   "execution_count": 221,
   "id": "763af580",
   "metadata": {},
   "outputs": [
    {
     "data": {
      "text/plain": [
       "[{'id': 18, 'name': 'Drama'},\n",
       " {'id': 9648, 'name': 'Mystery'},\n",
       " {'id': 878, 'name': 'Science Fiction'},\n",
       " {'id': 53, 'name': 'Thriller'}]"
      ]
     },
     "execution_count": 221,
     "metadata": {},
     "output_type": "execute_result"
    }
   ],
   "source": [
    "merged_df['genres'][101]"
   ]
  },
  {
   "cell_type": "code",
   "execution_count": 222,
   "id": "f0ecaf09",
   "metadata": {},
   "outputs": [],
   "source": [
    "merged_df['genres'] = merged_df['genres'].apply(lambda x: [i['name'] for i in x] if isinstance(x, list) else [])"
   ]
  },
  {
   "cell_type": "code",
   "execution_count": 224,
   "id": "9cf2e2df",
   "metadata": {},
   "outputs": [
    {
     "data": {
      "text/plain": [
       "0         [Animation, Comedy, Family]\n",
       "1        [Adventure, Fantasy, Family]\n",
       "2                   [Romance, Comedy]\n",
       "3            [Comedy, Drama, Romance]\n",
       "4                            [Comedy]\n",
       "                     ...             \n",
       "46641                 [Drama, Family]\n",
       "46642                         [Drama]\n",
       "46643       [Action, Drama, Thriller]\n",
       "46644                              []\n",
       "46645                              []\n",
       "Name: genres, Length: 46646, dtype: object"
      ]
     },
     "execution_count": 224,
     "metadata": {},
     "output_type": "execute_result"
    }
   ],
   "source": [
    "merged_df['genres'] #good"
   ]
  },
  {
   "cell_type": "code",
   "execution_count": 230,
   "id": "b7bf9259",
   "metadata": {},
   "outputs": [
    {
     "data": {
      "text/plain": [
       "[{'name': 'Warner Bros.', 'id': 6194}, {'name': 'Lancaster Gate', 'id': 19464}]"
      ]
     },
     "execution_count": 230,
     "metadata": {},
     "output_type": "execute_result"
    }
   ],
   "source": [
    "merged_df['production_companies'][2]"
   ]
  },
  {
   "cell_type": "code",
   "execution_count": 223,
   "id": "66d40f39",
   "metadata": {},
   "outputs": [],
   "source": [
    "merged_df['production_companies']=merged_df['production_companies'].apply(lambda x: [i['name'] for i in x] if isinstance(x, list) else [])"
   ]
  },
  {
   "cell_type": "code",
   "execution_count": 224,
   "id": "a3d2bd7a",
   "metadata": {},
   "outputs": [],
   "source": [
    "merged_df['production_companies'] = merged_df['production_companies'].apply(lambda x: x[:3] if len(x) >=3 else x)"
   ]
  },
  {
   "cell_type": "code",
   "execution_count": 225,
   "id": "b2acbc0b",
   "metadata": {},
   "outputs": [],
   "source": [
    "merged_df['production_countries']=merged_df['production_countries'].apply(lambda x: [i['name'] for i in x] if isinstance(x, list) else [])"
   ]
  },
  {
   "cell_type": "code",
   "execution_count": 226,
   "id": "67c57f67",
   "metadata": {},
   "outputs": [],
   "source": [
    "merged_df['production_countries'] = merged_df['production_countries'].apply(lambda x: x[:2] if len(x) >=2 else x)"
   ]
  },
  {
   "cell_type": "code",
   "execution_count": 227,
   "id": "8bd3ba9f",
   "metadata": {},
   "outputs": [],
   "source": [
    "merged_df['cast'] = merged_df['cast'].apply(lambda x: [i['name'] for i in x] if isinstance(x, list) else [])\n",
    "merged_df['cast'] = merged_df['cast'].apply(lambda x: x[:3] if len(x) >=3 else x)"
   ]
  },
  {
   "cell_type": "code",
   "execution_count": 228,
   "id": "b1aed50a",
   "metadata": {},
   "outputs": [
    {
     "data": {
      "text/plain": [
       "0                      [Tom Hanks, Tim Allen, Don Rickles]\n",
       "1           [Robin Williams, Jonathan Hyde, Kirsten Dunst]\n",
       "2               [Walter Matthau, Jack Lemmon, Ann-Margret]\n",
       "3        [Whitney Houston, Angela Bassett, Loretta Devine]\n",
       "4               [Steve Martin, Diane Keaton, Martin Short]\n",
       "                               ...                        \n",
       "46641                      [Jeanne d'Alcy, Georges Méliès]\n",
       "46642                                                   []\n",
       "46643          [Sridevi Kapoor, Sajal Ali, Akshaye Khanna]\n",
       "46644          [Markie Adams, Roberto Aguire, Tina Arning]\n",
       "46645          [Giulio Brogi, Renato Cestiè, Vito Cipolla]\n",
       "Name: cast, Length: 46646, dtype: object"
      ]
     },
     "execution_count": 228,
     "metadata": {},
     "output_type": "execute_result"
    }
   ],
   "source": [
    "merged_df['cast']"
   ]
  },
  {
   "cell_type": "code",
   "execution_count": 243,
   "id": "480ff7a5",
   "metadata": {},
   "outputs": [
    {
     "data": {
      "text/plain": [
       "[{'credit_id': '52fe4284c3a36847f8024f49',\n",
       "  'department': 'Directing',\n",
       "  'gender': 2,\n",
       "  'id': 7879,\n",
       "  'job': 'Director',\n",
       "  'name': 'John Lasseter',\n",
       "  'profile_path': '/7EdqiNbr4FRjIhKHyPPdFfEEEFG.jpg'},\n",
       " {'credit_id': '52fe4284c3a36847f8024f4f',\n",
       "  'department': 'Writing',\n",
       "  'gender': 2,\n",
       "  'id': 12891,\n",
       "  'job': 'Screenplay',\n",
       "  'name': 'Joss Whedon',\n",
       "  'profile_path': '/dTiVsuaTVTeGmvkhcyJvKp2A5kr.jpg'},\n",
       " {'credit_id': '52fe4284c3a36847f8024f55',\n",
       "  'department': 'Writing',\n",
       "  'gender': 2,\n",
       "  'id': 7,\n",
       "  'job': 'Screenplay',\n",
       "  'name': 'Andrew Stanton',\n",
       "  'profile_path': '/pvQWsu0qc8JFQhMVJkTHuexUAa1.jpg'},\n",
       " {'credit_id': '52fe4284c3a36847f8024f5b',\n",
       "  'department': 'Writing',\n",
       "  'gender': 2,\n",
       "  'id': 12892,\n",
       "  'job': 'Screenplay',\n",
       "  'name': 'Joel Cohen',\n",
       "  'profile_path': '/dAubAiZcvKFbboWlj7oXOkZnTSu.jpg'},\n",
       " {'credit_id': '52fe4284c3a36847f8024f61',\n",
       "  'department': 'Writing',\n",
       "  'gender': 0,\n",
       "  'id': 12893,\n",
       "  'job': 'Screenplay',\n",
       "  'name': 'Alec Sokolow',\n",
       "  'profile_path': '/v79vlRYi94BZUQnkkyznbGUZLjT.jpg'},\n",
       " {'credit_id': '52fe4284c3a36847f8024f67',\n",
       "  'department': 'Production',\n",
       "  'gender': 1,\n",
       "  'id': 12894,\n",
       "  'job': 'Producer',\n",
       "  'name': 'Bonnie Arnold',\n",
       "  'profile_path': None},\n",
       " {'credit_id': '52fe4284c3a36847f8024f6d',\n",
       "  'department': 'Production',\n",
       "  'gender': 0,\n",
       "  'id': 12895,\n",
       "  'job': 'Executive Producer',\n",
       "  'name': 'Ed Catmull',\n",
       "  'profile_path': None},\n",
       " {'credit_id': '52fe4284c3a36847f8024f73',\n",
       "  'department': 'Production',\n",
       "  'gender': 2,\n",
       "  'id': 12896,\n",
       "  'job': 'Producer',\n",
       "  'name': 'Ralph Guggenheim',\n",
       "  'profile_path': None},\n",
       " {'credit_id': '52fe4284c3a36847f8024f79',\n",
       "  'department': 'Production',\n",
       "  'gender': 2,\n",
       "  'id': 12897,\n",
       "  'job': 'Executive Producer',\n",
       "  'name': 'Steve Jobs',\n",
       "  'profile_path': '/mOMP3SwD5qWQSR0ldCIByd3guTV.jpg'},\n",
       " {'credit_id': '52fe4284c3a36847f8024f8b',\n",
       "  'department': 'Editing',\n",
       "  'gender': 2,\n",
       "  'id': 8,\n",
       "  'job': 'Editor',\n",
       "  'name': 'Lee Unkrich',\n",
       "  'profile_path': '/bdTCCXjgOV3YyaNmLGYGOxFQMOc.jpg'},\n",
       " {'credit_id': '52fe4284c3a36847f8024f91',\n",
       "  'department': 'Art',\n",
       "  'gender': 2,\n",
       "  'id': 7883,\n",
       "  'job': 'Art Direction',\n",
       "  'name': 'Ralph Eggleston',\n",
       "  'profile_path': '/uUfcGKDsKO1aROMpXRs67Hn6RvR.jpg'},\n",
       " {'credit_id': '598331bf925141421201044b',\n",
       "  'department': 'Editing',\n",
       "  'gender': 2,\n",
       "  'id': 1168870,\n",
       "  'job': 'Editor',\n",
       "  'name': 'Robert Gordon',\n",
       "  'profile_path': None},\n",
       " {'credit_id': '5892168cc3a36809660095f9',\n",
       "  'department': 'Sound',\n",
       "  'gender': 0,\n",
       "  'id': 1552883,\n",
       "  'job': 'Foley Editor',\n",
       "  'name': 'Mary Helen Leasman',\n",
       "  'profile_path': None},\n",
       " {'credit_id': '5531824d9251415289000945',\n",
       "  'department': 'Visual Effects',\n",
       "  'gender': 0,\n",
       "  'id': 1453514,\n",
       "  'job': 'Animation',\n",
       "  'name': 'Kim Blanchette',\n",
       "  'profile_path': None},\n",
       " {'credit_id': '589215969251412dcb009bf6',\n",
       "  'department': 'Sound',\n",
       "  'gender': 0,\n",
       "  'id': 1414182,\n",
       "  'job': 'ADR Editor',\n",
       "  'name': 'Marilyn McCoppen',\n",
       "  'profile_path': None},\n",
       " {'credit_id': '589217099251412dc500a018',\n",
       "  'department': 'Sound',\n",
       "  'gender': 2,\n",
       "  'id': 7885,\n",
       "  'job': 'Orchestrator',\n",
       "  'name': 'Randy Newman',\n",
       "  'profile_path': '/w0JzfoiM25nrnxYOzosPHRq6mlE.jpg'},\n",
       " {'credit_id': '5693e6b29251417b0e0000e3',\n",
       "  'department': 'Editing',\n",
       "  'gender': 0,\n",
       "  'id': 1429549,\n",
       "  'job': 'Color Timer',\n",
       "  'name': 'Dale E. Grahn',\n",
       "  'profile_path': None},\n",
       " {'credit_id': '572e2522c3a36869e6001a9c',\n",
       "  'department': 'Visual Effects',\n",
       "  'gender': 0,\n",
       "  'id': 7949,\n",
       "  'job': 'CG Painter',\n",
       "  'name': 'Robin Cooper',\n",
       "  'profile_path': None},\n",
       " {'credit_id': '574f12309251415ca1000012',\n",
       "  'department': 'Writing',\n",
       "  'gender': 2,\n",
       "  'id': 7879,\n",
       "  'job': 'Original Story',\n",
       "  'name': 'John Lasseter',\n",
       "  'profile_path': '/7EdqiNbr4FRjIhKHyPPdFfEEEFG.jpg'},\n",
       " {'credit_id': '574f1240c3a3682e7300001c',\n",
       "  'department': 'Writing',\n",
       "  'gender': 2,\n",
       "  'id': 12890,\n",
       "  'job': 'Original Story',\n",
       "  'name': 'Pete Docter',\n",
       "  'profile_path': '/r6ngPgnReA3RHmKjmSoVsc6Awjp.jpg'},\n",
       " {'credit_id': '574f12519251415c92000015',\n",
       "  'department': 'Writing',\n",
       "  'gender': 0,\n",
       "  'id': 7911,\n",
       "  'job': 'Original Story',\n",
       "  'name': 'Joe Ranft',\n",
       "  'profile_path': '/f1BoWC2JbCcfP1e5hKfGsxkHzVU.jpg'},\n",
       " {'credit_id': '574f12cec3a3682e82000022',\n",
       "  'department': 'Crew',\n",
       "  'gender': 0,\n",
       "  'id': 1629419,\n",
       "  'job': 'Post Production Supervisor',\n",
       "  'name': 'Patsy Bouge',\n",
       "  'profile_path': None},\n",
       " {'credit_id': '574f14f19251415ca1000082',\n",
       "  'department': 'Art',\n",
       "  'gender': 0,\n",
       "  'id': 7961,\n",
       "  'job': 'Sculptor',\n",
       "  'name': 'Norm DeCarlo',\n",
       "  'profile_path': None},\n",
       " {'credit_id': '5751ae4bc3a3683772002b7f',\n",
       "  'department': 'Visual Effects',\n",
       "  'gender': 2,\n",
       "  'id': 12905,\n",
       "  'job': 'Animation Director',\n",
       "  'name': 'Ash Brannon',\n",
       "  'profile_path': '/6ueWgPEEBHvS3De2BHYQnYjRTig.jpg'},\n",
       " {'credit_id': '5891edbe9251412dc5007cd6',\n",
       "  'department': 'Sound',\n",
       "  'gender': 2,\n",
       "  'id': 7885,\n",
       "  'job': 'Music',\n",
       "  'name': 'Randy Newman',\n",
       "  'profile_path': '/w0JzfoiM25nrnxYOzosPHRq6mlE.jpg'},\n",
       " {'credit_id': '589213d39251412dc8009832',\n",
       "  'department': 'Directing',\n",
       "  'gender': 0,\n",
       "  'id': 1748707,\n",
       "  'job': 'Layout',\n",
       "  'name': 'Roman Figun',\n",
       "  'profile_path': None},\n",
       " {'credit_id': '5892173dc3a3680968009351',\n",
       "  'department': 'Sound',\n",
       "  'gender': 2,\n",
       "  'id': 4949,\n",
       "  'job': 'Orchestrator',\n",
       "  'name': 'Don Davis',\n",
       "  'profile_path': None},\n",
       " {'credit_id': '589217cec3a3686b0a0052ba',\n",
       "  'department': 'Sound',\n",
       "  'gender': 0,\n",
       "  'id': 1372885,\n",
       "  'job': 'Music Editor',\n",
       "  'name': 'James Flamberg',\n",
       "  'profile_path': None},\n",
       " {'credit_id': '58921831c3a3686348004a64',\n",
       "  'department': 'Editing',\n",
       "  'gender': 0,\n",
       "  'id': 1739962,\n",
       "  'job': 'Negative Cutter',\n",
       "  'name': 'Mary Beth Smith',\n",
       "  'profile_path': None},\n",
       " {'credit_id': '58921838c3a36809700096c0',\n",
       "  'department': 'Editing',\n",
       "  'gender': 0,\n",
       "  'id': 1748513,\n",
       "  'job': 'Negative Cutter',\n",
       "  'name': 'Rick Mackay',\n",
       "  'profile_path': None},\n",
       " {'credit_id': '589218429251412dd1009d1b',\n",
       "  'department': 'Art',\n",
       "  'gender': 0,\n",
       "  'id': 1458006,\n",
       "  'job': 'Title Designer',\n",
       "  'name': 'Susan Bradley',\n",
       "  'profile_path': None},\n",
       " {'credit_id': '5891ed99c3a3680966007670',\n",
       "  'department': 'Crew',\n",
       "  'gender': 0,\n",
       "  'id': 1748557,\n",
       "  'job': 'Supervising Technical Director',\n",
       "  'name': 'William Reeves',\n",
       "  'profile_path': None},\n",
       " {'credit_id': '5891edcec3a3686b0a002eb2',\n",
       "  'department': 'Sound',\n",
       "  'gender': 2,\n",
       "  'id': 7885,\n",
       "  'job': 'Songs',\n",
       "  'name': 'Randy Newman',\n",
       "  'profile_path': '/w0JzfoiM25nrnxYOzosPHRq6mlE.jpg'},\n",
       " {'credit_id': '5891edf9c3a36809700075e6',\n",
       "  'department': 'Writing',\n",
       "  'gender': 2,\n",
       "  'id': 7,\n",
       "  'job': 'Original Story',\n",
       "  'name': 'Andrew Stanton',\n",
       "  'profile_path': '/pvQWsu0qc8JFQhMVJkTHuexUAa1.jpg'},\n",
       " {'credit_id': '58920f0b9251412dd7009104',\n",
       "  'department': 'Crew',\n",
       "  'gender': 2,\n",
       "  'id': 12890,\n",
       "  'job': 'Supervising Animator',\n",
       "  'name': 'Pete Docter',\n",
       "  'profile_path': '/r6ngPgnReA3RHmKjmSoVsc6Awjp.jpg'},\n",
       " {'credit_id': '58920f1fc3a3680977009021',\n",
       "  'department': 'Sound',\n",
       "  'gender': 2,\n",
       "  'id': 2216,\n",
       "  'job': 'Sound Designer',\n",
       "  'name': 'Gary Rydstrom',\n",
       "  'profile_path': '/jZpr1nVfO7lldWI0YtmP1FGw7Rj.jpg'},\n",
       " {'credit_id': '58920f389251412dd700912d',\n",
       "  'department': 'Production',\n",
       "  'gender': 0,\n",
       "  'id': 12909,\n",
       "  'job': 'Production Supervisor',\n",
       "  'name': 'Karen Robert Jackson',\n",
       "  'profile_path': None},\n",
       " {'credit_id': '58920fbd9251412dcb00969c',\n",
       "  'department': 'Crew',\n",
       "  'gender': 0,\n",
       "  'id': 953331,\n",
       "  'job': 'Executive Music Producer',\n",
       "  'name': 'Chris Montan',\n",
       "  'profile_path': None},\n",
       " {'credit_id': '589210069251412dd7009219',\n",
       "  'department': 'Visual Effects',\n",
       "  'gender': 0,\n",
       "  'id': 7893,\n",
       "  'job': 'Animation Director',\n",
       "  'name': 'Rich Quade',\n",
       "  'profile_path': None},\n",
       " {'credit_id': '589210329251412dcd00943b',\n",
       "  'department': 'Visual Effects',\n",
       "  'gender': 0,\n",
       "  'id': 8025,\n",
       "  'job': 'Animation',\n",
       "  'name': 'Michael Berenstein',\n",
       "  'profile_path': None},\n",
       " {'credit_id': '5892103bc3a368096a009180',\n",
       "  'department': 'Visual Effects',\n",
       "  'gender': 0,\n",
       "  'id': 78009,\n",
       "  'job': 'Animation',\n",
       "  'name': 'Colin Brady',\n",
       "  'profile_path': None},\n",
       " {'credit_id': '5892105dc3a3680968008db2',\n",
       "  'department': 'Visual Effects',\n",
       "  'gender': 0,\n",
       "  'id': 1748682,\n",
       "  'job': 'Animation',\n",
       "  'name': 'Davey Crockett Feiten',\n",
       "  'profile_path': None},\n",
       " {'credit_id': '589210669251412dcd009466',\n",
       "  'department': 'Visual Effects',\n",
       "  'gender': 0,\n",
       "  'id': 1454030,\n",
       "  'job': 'Animation',\n",
       "  'name': 'Angie Glocka',\n",
       "  'profile_path': None},\n",
       " {'credit_id': '5892107c9251412dd1009613',\n",
       "  'department': 'Visual Effects',\n",
       "  'gender': 0,\n",
       "  'id': 1748683,\n",
       "  'job': 'Animation',\n",
       "  'name': 'Rex Grignon',\n",
       "  'profile_path': None},\n",
       " {'credit_id': '5892108ac3a3680973008d3f',\n",
       "  'department': 'Visual Effects',\n",
       "  'gender': 0,\n",
       "  'id': 1748684,\n",
       "  'job': 'Animation',\n",
       "  'name': 'Tom K. Gurney',\n",
       "  'profile_path': None},\n",
       " {'credit_id': '58921093c3a3686348004477',\n",
       "  'department': 'Visual Effects',\n",
       "  'gender': 2,\n",
       "  'id': 8029,\n",
       "  'job': 'Animation',\n",
       "  'name': 'Jimmy Hayward',\n",
       "  'profile_path': '/lTDRpudEY7BDwTefXbXzMlmb0ui.jpg'},\n",
       " {'credit_id': '5892109b9251412dcd0094b0',\n",
       "  'department': 'Visual Effects',\n",
       "  'gender': 0,\n",
       "  'id': 1426773,\n",
       "  'job': 'Animation',\n",
       "  'name': 'Hal T. Hickel',\n",
       "  'profile_path': None},\n",
       " {'credit_id': '589210a29251412dc5009a29',\n",
       "  'department': 'Visual Effects',\n",
       "  'gender': 0,\n",
       "  'id': 8035,\n",
       "  'job': 'Animation',\n",
       "  'name': 'Karen Kiser',\n",
       "  'profile_path': None},\n",
       " {'credit_id': '589210ccc3a3680977009191',\n",
       "  'department': 'Visual Effects',\n",
       "  'gender': 0,\n",
       "  'id': 1748688,\n",
       "  'job': 'Animation',\n",
       "  'name': 'Anthony B. LaMolinara',\n",
       "  'profile_path': None},\n",
       " {'credit_id': '589210d7c3a3686b0a004c1f',\n",
       "  'department': 'Visual Effects',\n",
       "  'gender': 0,\n",
       "  'id': 587314,\n",
       "  'job': 'Animation',\n",
       "  'name': 'Guionne Leroy',\n",
       "  'profile_path': None},\n",
       " {'credit_id': '589210e1c3a36809770091a7',\n",
       "  'department': 'Visual Effects',\n",
       "  'gender': 2,\n",
       "  'id': 7918,\n",
       "  'job': 'Animation',\n",
       "  'name': 'Bud Luckey',\n",
       "  'profile_path': '/pcCh7G19FKMNijmPQg1PMH1btic.jpg'},\n",
       " {'credit_id': '589210ee9251412dc200978a',\n",
       "  'department': 'Visual Effects',\n",
       "  'gender': 0,\n",
       "  'id': 1748689,\n",
       "  'job': 'Animation',\n",
       "  'name': 'Les Major',\n",
       "  'profile_path': None},\n",
       " {'credit_id': '589210fa9251412dc8009595',\n",
       "  'department': 'Visual Effects',\n",
       "  'gender': 2,\n",
       "  'id': 7892,\n",
       "  'job': 'Animation',\n",
       "  'name': 'Glenn McQueen',\n",
       "  'profile_path': None},\n",
       " {'credit_id': '589211029251412dc8009598',\n",
       "  'department': 'Visual Effects',\n",
       "  'gender': 0,\n",
       "  'id': 555795,\n",
       "  'job': 'Animation',\n",
       "  'name': 'Mark Oftedal',\n",
       "  'profile_path': None},\n",
       " {'credit_id': '5892110b9251412dc800959d',\n",
       "  'department': 'Visual Effects',\n",
       "  'gender': 2,\n",
       "  'id': 7882,\n",
       "  'job': 'Animation',\n",
       "  'name': 'Jeff Pidgeon',\n",
       "  'profile_path': '/yLddkg5HcgbJg00cS13GVBnP0HY.jpg'},\n",
       " {'credit_id': '58921113c3a36863480044e4',\n",
       "  'department': 'Visual Effects',\n",
       "  'gender': 0,\n",
       "  'id': 8017,\n",
       "  'job': 'Animation',\n",
       "  'name': 'Jeff Pratt',\n",
       "  'profile_path': None},\n",
       " {'credit_id': '5892111c9251412dcb0097e9',\n",
       "  'department': 'Visual Effects',\n",
       "  'gender': 0,\n",
       "  'id': 1184140,\n",
       "  'job': 'Animation',\n",
       "  'name': 'Steve Rabatich',\n",
       "  'profile_path': None},\n",
       " {'credit_id': '58921123c3a36809700090f6',\n",
       "  'department': 'Visual Effects',\n",
       "  'gender': 0,\n",
       "  'id': 8049,\n",
       "  'job': 'Animation',\n",
       "  'name': 'Roger Rose',\n",
       "  'profile_path': None},\n",
       " {'credit_id': '5892112b9251412dcb0097fb',\n",
       "  'department': 'Visual Effects',\n",
       "  'gender': 0,\n",
       "  'id': 1509559,\n",
       "  'job': 'Animation',\n",
       "  'name': 'Steve Segal',\n",
       "  'profile_path': None},\n",
       " {'credit_id': '589211349251412dc80095c3',\n",
       "  'department': 'Visual Effects',\n",
       "  'gender': 0,\n",
       "  'id': 1748691,\n",
       "  'job': 'Animation',\n",
       "  'name': 'Doug Sheppeck',\n",
       "  'profile_path': None},\n",
       " {'credit_id': '5892113cc3a3680970009106',\n",
       "  'department': 'Visual Effects',\n",
       "  'gender': 0,\n",
       "  'id': 8050,\n",
       "  'job': 'Animation',\n",
       "  'name': 'Alan Sperling',\n",
       "  'profile_path': None},\n",
       " {'credit_id': '58921148c3a3686b0a004c99',\n",
       "  'department': 'Visual Effects',\n",
       "  'gender': 0,\n",
       "  'id': 8010,\n",
       "  'job': 'Animation',\n",
       "  'name': 'Doug Sweetland',\n",
       "  'profile_path': None},\n",
       " {'credit_id': '58921150c3a3680966009125',\n",
       "  'department': 'Visual Effects',\n",
       "  'gender': 0,\n",
       "  'id': 8044,\n",
       "  'job': 'Animation',\n",
       "  'name': 'David Tart',\n",
       "  'profile_path': None},\n",
       " {'credit_id': '589211629251412dc5009b00',\n",
       "  'department': 'Visual Effects',\n",
       "  'gender': 0,\n",
       "  'id': 1454034,\n",
       "  'job': 'Animation',\n",
       "  'name': 'Ken Willard',\n",
       "  'profile_path': None},\n",
       " {'credit_id': '589211c1c3a3686b0a004d28',\n",
       "  'department': 'Visual Effects',\n",
       "  'gender': 0,\n",
       "  'id': 7887,\n",
       "  'job': 'Visual Effects Supervisor',\n",
       "  'name': 'Thomas Porter',\n",
       "  'profile_path': None},\n",
       " {'credit_id': '589211d4c3a3680968008ed9',\n",
       "  'department': 'Visual Effects',\n",
       "  'gender': 0,\n",
       "  'id': 1406878,\n",
       "  'job': 'Visual Effects',\n",
       "  'name': 'Mark Thomas Henne',\n",
       "  'profile_path': None},\n",
       " {'credit_id': '589211f59251412dd4008e65',\n",
       "  'department': 'Visual Effects',\n",
       "  'gender': 0,\n",
       "  'id': 1748698,\n",
       "  'job': 'Visual Effects',\n",
       "  'name': 'Oren Jacob',\n",
       "  'profile_path': None},\n",
       " {'credit_id': '58921242c3a368096a00939b',\n",
       "  'department': 'Visual Effects',\n",
       "  'gender': 0,\n",
       "  'id': 1748699,\n",
       "  'job': 'Visual Effects',\n",
       "  'name': 'Darwyn Peachey',\n",
       "  'profile_path': None},\n",
       " {'credit_id': '5892124b9251412dc5009bd2',\n",
       "  'department': 'Visual Effects',\n",
       "  'gender': 0,\n",
       "  'id': 1748701,\n",
       "  'job': 'Visual Effects',\n",
       "  'name': 'Mitch Prater',\n",
       "  'profile_path': None},\n",
       " {'credit_id': '58921264c3a3686b0a004dbf',\n",
       "  'department': 'Visual Effects',\n",
       "  'gender': 0,\n",
       "  'id': 1748703,\n",
       "  'job': 'Visual Effects',\n",
       "  'name': 'Brian M. Rosen',\n",
       "  'profile_path': None},\n",
       " {'credit_id': '589212709251412dcd009676',\n",
       "  'department': 'Lighting',\n",
       "  'gender': 1,\n",
       "  'id': 12912,\n",
       "  'job': 'Lighting Supervisor',\n",
       "  'name': 'Sharon Calahan',\n",
       "  'profile_path': None},\n",
       " {'credit_id': '5892127fc3a3686b0a004de5',\n",
       "  'department': 'Lighting',\n",
       "  'gender': 0,\n",
       "  'id': 7899,\n",
       "  'job': 'Lighting Supervisor',\n",
       "  'name': 'Galyn Susman',\n",
       "  'profile_path': None},\n",
       " {'credit_id': '589212cdc3a3680970009268',\n",
       "  'department': 'Visual Effects',\n",
       "  'gender': 0,\n",
       "  'id': 12915,\n",
       "  'job': 'CG Painter',\n",
       "  'name': 'William Cone',\n",
       "  'profile_path': None},\n",
       " {'credit_id': '5892130f9251412dc8009791',\n",
       "  'department': 'Art',\n",
       "  'gender': 0,\n",
       "  'id': 1748705,\n",
       "  'job': 'Sculptor',\n",
       "  'name': 'Shelley Daniels Lekven',\n",
       "  'profile_path': None},\n",
       " {'credit_id': '5892131c9251412dd4008f4c',\n",
       "  'department': 'Visual Effects',\n",
       "  'gender': 2,\n",
       "  'id': 7889,\n",
       "  'job': 'Character Designer',\n",
       "  'name': 'Bob Pauley',\n",
       "  'profile_path': None},\n",
       " {'credit_id': '589213249251412dd100987b',\n",
       "  'department': 'Visual Effects',\n",
       "  'gender': 2,\n",
       "  'id': 7918,\n",
       "  'job': 'Character Designer',\n",
       "  'name': 'Bud Luckey',\n",
       "  'profile_path': '/pcCh7G19FKMNijmPQg1PMH1btic.jpg'},\n",
       " {'credit_id': '5892132b9251412dc80097b1',\n",
       "  'department': 'Visual Effects',\n",
       "  'gender': 2,\n",
       "  'id': 7,\n",
       "  'job': 'Character Designer',\n",
       "  'name': 'Andrew Stanton',\n",
       "  'profile_path': '/pvQWsu0qc8JFQhMVJkTHuexUAa1.jpg'},\n",
       " {'credit_id': '58921332c3a368634800467b',\n",
       "  'department': 'Visual Effects',\n",
       "  'gender': 0,\n",
       "  'id': 12915,\n",
       "  'job': 'Character Designer',\n",
       "  'name': 'William Cone',\n",
       "  'profile_path': None},\n",
       " {'credit_id': '5892135f9251412dd4008f90',\n",
       "  'department': 'Visual Effects',\n",
       "  'gender': 0,\n",
       "  'id': 1748706,\n",
       "  'job': 'Character Designer',\n",
       "  'name': 'Steve Johnson',\n",
       "  'profile_path': None},\n",
       " {'credit_id': '58921384c3a3680973008fd4',\n",
       "  'department': 'Visual Effects',\n",
       "  'gender': 0,\n",
       "  'id': 1176752,\n",
       "  'job': 'Character Designer',\n",
       "  'name': 'Dan Haskett',\n",
       "  'profile_path': None},\n",
       " {'credit_id': '5892138e9251412dc20099fc',\n",
       "  'department': 'Visual Effects',\n",
       "  'gender': 0,\n",
       "  'id': 1088034,\n",
       "  'job': 'Character Designer',\n",
       "  'name': 'Tom Holloway',\n",
       "  'profile_path': '/a0r0T2usTBpgMI5aZbRBDW1fTl8.jpg'},\n",
       " {'credit_id': '58921395c3a368097700942f',\n",
       "  'department': 'Visual Effects',\n",
       "  'gender': 0,\n",
       "  'id': 1447465,\n",
       "  'job': 'Character Designer',\n",
       "  'name': 'Jean Gillmore',\n",
       "  'profile_path': None},\n",
       " {'credit_id': '589213e2c3a3680973009026',\n",
       "  'department': 'Directing',\n",
       "  'gender': 0,\n",
       "  'id': 1748709,\n",
       "  'job': 'Layout',\n",
       "  'name': 'Desirée Mourad',\n",
       "  'profile_path': None},\n",
       " {'credit_id': '589214099251412dc5009d57',\n",
       "  'department': 'Art',\n",
       "  'gender': 0,\n",
       "  'id': 1748710,\n",
       "  'job': 'Set Dresser',\n",
       "  'name': \"Kelly O'Connell\",\n",
       "  'profile_path': None},\n",
       " {'credit_id': '58921411c3a3686b0a004f70',\n",
       "  'department': 'Art',\n",
       "  'gender': 0,\n",
       "  'id': 1443471,\n",
       "  'job': 'Set Dresser',\n",
       "  'name': 'Sonoko Konishi',\n",
       "  'profile_path': None},\n",
       " {'credit_id': '58921434c3a368096a00956e',\n",
       "  'department': 'Art',\n",
       "  'gender': 0,\n",
       "  'id': 1748711,\n",
       "  'job': 'Set Dresser',\n",
       "  'name': 'Ann M. Rockwell',\n",
       "  'profile_path': None},\n",
       " {'credit_id': '5892144ac3a36809680090de',\n",
       "  'department': 'Editing',\n",
       "  'gender': 0,\n",
       "  'id': 1748712,\n",
       "  'job': 'Editorial Manager',\n",
       "  'name': 'Julie M. McDonald',\n",
       "  'profile_path': None},\n",
       " {'credit_id': '58921479c3a368096800910f',\n",
       "  'department': 'Editing',\n",
       "  'gender': 0,\n",
       "  'id': 1589729,\n",
       "  'job': 'Assistant Editor',\n",
       "  'name': 'Robin Lee',\n",
       "  'profile_path': None},\n",
       " {'credit_id': '5892148b9251412dd10099cc',\n",
       "  'department': 'Editing',\n",
       "  'gender': 0,\n",
       "  'id': 1748716,\n",
       "  'job': 'Assistant Editor',\n",
       "  'name': 'Tom Freeman',\n",
       "  'profile_path': None},\n",
       " {'credit_id': '589214959251412dcb009b1f',\n",
       "  'department': 'Editing',\n",
       "  'gender': 0,\n",
       "  'id': 1748717,\n",
       "  'job': 'Assistant Editor',\n",
       "  'name': 'Ada Cochavi',\n",
       "  'profile_path': None},\n",
       " {'credit_id': '5892149ec3a3686348004798',\n",
       "  'department': 'Editing',\n",
       "  'gender': 0,\n",
       "  'id': 1336438,\n",
       "  'job': 'Assistant Editor',\n",
       "  'name': 'Dana Mulligan',\n",
       "  'profile_path': None},\n",
       " {'credit_id': '589214adc3a368096a0095db',\n",
       "  'department': 'Editing',\n",
       "  'gender': 0,\n",
       "  'id': 1748718,\n",
       "  'job': 'Editorial Coordinator',\n",
       "  'name': 'Deirdre Morrison',\n",
       "  'profile_path': None},\n",
       " {'credit_id': '589214c7c3a368097700952b',\n",
       "  'department': 'Production',\n",
       "  'gender': 0,\n",
       "  'id': 1748719,\n",
       "  'job': 'Production Coordinator',\n",
       "  'name': 'Lori Lombardo',\n",
       "  'profile_path': None},\n",
       " {'credit_id': '589214cec3a368096a009603',\n",
       "  'department': 'Production',\n",
       "  'gender': 0,\n",
       "  'id': 1748720,\n",
       "  'job': 'Production Coordinator',\n",
       "  'name': 'Ellen Devine',\n",
       "  'profile_path': None},\n",
       " {'credit_id': '589214e39251412dc8009904',\n",
       "  'department': 'Crew',\n",
       "  'gender': 0,\n",
       "  'id': 1468014,\n",
       "  'job': 'Unit Publicist',\n",
       "  'name': 'Lauren Beth Strogoff',\n",
       "  'profile_path': None},\n",
       " {'credit_id': '58921544c3a3686b0a00507d',\n",
       "  'department': 'Sound',\n",
       "  'gender': 2,\n",
       "  'id': 2216,\n",
       "  'job': 'Sound Re-Recording Mixer',\n",
       "  'name': 'Gary Rydstrom',\n",
       "  'profile_path': '/jZpr1nVfO7lldWI0YtmP1FGw7Rj.jpg'},\n",
       " {'credit_id': '5892154c9251412dd1009a56',\n",
       "  'department': 'Sound',\n",
       "  'gender': 0,\n",
       "  'id': 1425978,\n",
       "  'job': 'Sound Re-Recording Mixer',\n",
       "  'name': 'Gary Summers',\n",
       "  'profile_path': None},\n",
       " {'credit_id': '58921555c3a36809680091bd',\n",
       "  'department': 'Sound',\n",
       "  'gender': 2,\n",
       "  'id': 8276,\n",
       "  'job': 'Supervising Sound Editor',\n",
       "  'name': 'Tim Holland',\n",
       "  'profile_path': None},\n",
       " {'credit_id': '589215c39251412dcb009c12',\n",
       "  'department': 'Sound',\n",
       "  'gender': 0,\n",
       "  'id': 7069,\n",
       "  'job': 'Sound Effects Editor',\n",
       "  'name': 'Pat Jackson',\n",
       "  'profile_path': None},\n",
       " {'credit_id': '58921698c3a368096a009788',\n",
       "  'department': 'Crew',\n",
       "  'gender': 2,\n",
       "  'id': 15894,\n",
       "  'job': 'Sound Design Assistant',\n",
       "  'name': 'Tom Myers',\n",
       "  'profile_path': None},\n",
       " {'credit_id': '589216a89251412dc2009ca4',\n",
       "  'department': 'Sound',\n",
       "  'gender': 0,\n",
       "  'id': 1414177,\n",
       "  'job': 'Assistant Sound Editor',\n",
       "  'name': 'J.R. Grubbs',\n",
       "  'profile_path': None},\n",
       " {'credit_id': '589216c19251412dc2009cb9',\n",
       "  'department': 'Sound',\n",
       "  'gender': 1,\n",
       "  'id': 1748724,\n",
       "  'job': 'Assistant Sound Editor',\n",
       "  'name': 'Susan Sanford',\n",
       "  'profile_path': None},\n",
       " {'credit_id': '589216ccc3a3680973009274',\n",
       "  'department': 'Sound',\n",
       "  'gender': 0,\n",
       "  'id': 1748725,\n",
       "  'job': 'Assistant Sound Editor',\n",
       "  'name': 'Susan Popovic',\n",
       "  'profile_path': None},\n",
       " {'credit_id': '589216d79251412dc8009aa0',\n",
       "  'department': 'Sound',\n",
       "  'gender': 0,\n",
       "  'id': 8067,\n",
       "  'job': 'Assistant Sound Editor',\n",
       "  'name': 'Dan Engstrom',\n",
       "  'profile_path': None},\n",
       " {'credit_id': '589216e49251412dcd009a4f',\n",
       "  'department': 'Production',\n",
       "  'gender': 1,\n",
       "  'id': 7902,\n",
       "  'job': 'Casting Consultant',\n",
       "  'name': 'Ruth Lambert',\n",
       "  'profile_path': None},\n",
       " {'credit_id': '589216f39251412dc2009cf3',\n",
       "  'department': 'Production',\n",
       "  'gender': 0,\n",
       "  'id': 84493,\n",
       "  'job': 'ADR Voice Casting',\n",
       "  'name': 'Mickie McGowan',\n",
       "  'profile_path': '/k7TjJBfINsg8vLQxJwos6XObAD6.jpg'}]"
      ]
     },
     "execution_count": 243,
     "metadata": {},
     "output_type": "execute_result"
    }
   ],
   "source": [
    "merged_df['crew'][0]"
   ]
  },
  {
   "cell_type": "code",
   "execution_count": 229,
   "id": "f57af976",
   "metadata": {},
   "outputs": [],
   "source": [
    "def get_director(x):\n",
    "    for i in x:\n",
    "        if i['job'] == 'Director':\n",
    "            return i['name']\n",
    "    return ''"
   ]
  },
  {
   "cell_type": "code",
   "execution_count": 230,
   "id": "94302ba5",
   "metadata": {},
   "outputs": [],
   "source": [
    "merged_df['director'] = merged_df['crew'].apply(get_director)"
   ]
  },
  {
   "cell_type": "code",
   "execution_count": 231,
   "id": "ecbc723d",
   "metadata": {},
   "outputs": [],
   "source": [
    "merged_df = merged_df.drop('crew', axis=1)"
   ]
  },
  {
   "cell_type": "code",
   "execution_count": 372,
   "id": "c8f21926",
   "metadata": {
    "scrolled": true
   },
   "outputs": [
    {
     "data": {
      "text/html": [
       "<div>\n",
       "<style scoped>\n",
       "    .dataframe tbody tr th:only-of-type {\n",
       "        vertical-align: middle;\n",
       "    }\n",
       "\n",
       "    .dataframe tbody tr th {\n",
       "        vertical-align: top;\n",
       "    }\n",
       "\n",
       "    .dataframe thead th {\n",
       "        text-align: right;\n",
       "    }\n",
       "</style>\n",
       "<table border=\"1\" class=\"dataframe\">\n",
       "  <thead>\n",
       "    <tr style=\"text-align: right;\">\n",
       "      <th></th>\n",
       "      <th>keywords</th>\n",
       "      <th>adult</th>\n",
       "      <th>belongs_to_collection</th>\n",
       "      <th>genres</th>\n",
       "      <th>original_language</th>\n",
       "      <th>production_companies</th>\n",
       "      <th>production_countries</th>\n",
       "      <th>cast</th>\n",
       "      <th>director</th>\n",
       "    </tr>\n",
       "  </thead>\n",
       "  <tbody>\n",
       "    <tr>\n",
       "      <th>0</th>\n",
       "      <td>jealousi toy boy</td>\n",
       "      <td>False</td>\n",
       "      <td>toystorycollection</td>\n",
       "      <td>animation comedy family</td>\n",
       "      <td>en</td>\n",
       "      <td>pixaranimationstudios</td>\n",
       "      <td>unitedstatesofamerica</td>\n",
       "      <td>tomhanks timallen donrickles</td>\n",
       "      <td>johnlasseter</td>\n",
       "    </tr>\n",
       "    <tr>\n",
       "      <th>1</th>\n",
       "      <td>boardgam disappear basedonchildren'sbook</td>\n",
       "      <td>False</td>\n",
       "      <td></td>\n",
       "      <td>adventure fantasy family</td>\n",
       "      <td>en</td>\n",
       "      <td>tristarpictures teitlerfilm interscopecommunic...</td>\n",
       "      <td>unitedstatesofamerica</td>\n",
       "      <td>robinwilliams jonathanhyde kirstendunst</td>\n",
       "      <td>joejohnston</td>\n",
       "    </tr>\n",
       "  </tbody>\n",
       "</table>\n",
       "</div>"
      ],
      "text/plain": [
       "                                   keywords  adult belongs_to_collection  \\\n",
       "0                          jealousi toy boy  False    toystorycollection   \n",
       "1  boardgam disappear basedonchildren'sbook  False                         \n",
       "\n",
       "                     genres original_language  \\\n",
       "0   animation comedy family                en   \n",
       "1  adventure fantasy family                en   \n",
       "\n",
       "                                production_companies   production_countries  \\\n",
       "0                              pixaranimationstudios  unitedstatesofamerica   \n",
       "1  tristarpictures teitlerfilm interscopecommunic...  unitedstatesofamerica   \n",
       "\n",
       "                                      cast      director  \n",
       "0             tomhanks timallen donrickles  johnlasseter  \n",
       "1  robinwilliams jonathanhyde kirstendunst   joejohnston  "
      ]
     },
     "execution_count": 372,
     "metadata": {},
     "output_type": "execute_result"
    }
   ],
   "source": [
    "merged_df.head(2)"
   ]
  },
  {
   "cell_type": "code",
   "execution_count": 232,
   "id": "6796445c",
   "metadata": {},
   "outputs": [],
   "source": [
    "merged_df['cast'] = merged_df['cast'].apply(lambda x: [str.lower(i.replace(\" \", \"\")) for i in x])"
   ]
  },
  {
   "cell_type": "code",
   "execution_count": 233,
   "id": "41892ba0",
   "metadata": {},
   "outputs": [],
   "source": [
    "merged_df['director'] = merged_df['director'].astype('str').apply(lambda x: str.lower(x.replace(\" \", \"\")))\n",
    "merged_df['director'] = merged_df['director'].apply(lambda x: [x,x, x]) #Mention Director 3 times to give it more weight relative to the entire cast."
   ]
  },
  {
   "cell_type": "code",
   "execution_count": 234,
   "id": "8d06bc27",
   "metadata": {},
   "outputs": [],
   "source": [
    "merged_df['production_countries'] = merged_df['production_countries'].apply(lambda x: [str.lower(i.replace(\" \", \"\")) for i in x])"
   ]
  },
  {
   "cell_type": "code",
   "execution_count": 235,
   "id": "52ba8d8b",
   "metadata": {},
   "outputs": [],
   "source": [
    "merged_df['production_companies'] = merged_df['production_companies'].apply(lambda x: [str.lower(i.replace(\" \", \"\")) for i in x])"
   ]
  },
  {
   "cell_type": "code",
   "execution_count": 236,
   "id": "d1b582c3",
   "metadata": {},
   "outputs": [],
   "source": [
    "merged_df['genres'] = merged_df['genres'].apply(lambda x: [str.lower(i.replace(\" \", \"\")) for i in x])"
   ]
  },
  {
   "cell_type": "code",
   "execution_count": 268,
   "id": "8bdf39dd",
   "metadata": {},
   "outputs": [],
   "source": [
    "#merged_df['belongs_to_collection'] = merged_df['belongs_to_collection'].apply(lambda x: [str.lower(i.replace(\" \", \"\")) for i in x])"
   ]
  },
  {
   "cell_type": "code",
   "execution_count": 237,
   "id": "e1fcc052",
   "metadata": {},
   "outputs": [],
   "source": [
    "merged_df = merged_df.drop('original_title', axis=1)"
   ]
  },
  {
   "cell_type": "code",
   "execution_count": 238,
   "id": "74bf462d",
   "metadata": {},
   "outputs": [],
   "source": [
    "merged_df['keywords'] = merged_df['keywords'].apply(lambda x: [str.lower(i.replace(\" \", \"\")) for i in x])"
   ]
  },
  {
   "cell_type": "code",
   "execution_count": 239,
   "id": "f8a80883",
   "metadata": {},
   "outputs": [],
   "source": [
    "merged_df['belongs_to_collection']=merged_df['belongs_to_collection'].str.lower().str.replace(\" \", \"\")"
   ]
  },
  {
   "cell_type": "code",
   "execution_count": 240,
   "id": "b9bdb18c",
   "metadata": {},
   "outputs": [],
   "source": [
    "stemmer = SnowballStemmer('english')"
   ]
  },
  {
   "cell_type": "code",
   "execution_count": 241,
   "id": "492b4297",
   "metadata": {},
   "outputs": [],
   "source": [
    "merged_df['keywords'] = merged_df['keywords'].apply(lambda x: [stemmer.stem(i) for i in x])"
   ]
  },
  {
   "cell_type": "code",
   "execution_count": 242,
   "id": "b62df51f",
   "metadata": {},
   "outputs": [],
   "source": [
    "merged_df['director'] = merged_df['director'].apply(lambda x: x[:1] if len(x) >=1 else x)"
   ]
  },
  {
   "cell_type": "code",
   "execution_count": 243,
   "id": "feea3316",
   "metadata": {},
   "outputs": [],
   "source": [
    "features=['keywords','genres','production_companies','production_countries','cast','director']\n",
    "for i in features:\n",
    "    merged_df[i]=merged_df[i].apply(lambda x: ' '.join(x))"
   ]
  },
  {
   "cell_type": "code",
   "execution_count": 246,
   "id": "eb68f30a",
   "metadata": {},
   "outputs": [
    {
     "name": "stdout",
     "output_type": "stream",
     "text": [
      "<class 'pandas.core.frame.DataFrame'>\n",
      "Int64Index: 46646 entries, 0 to 46645\n",
      "Data columns (total 9 columns):\n",
      " #   Column                 Non-Null Count  Dtype \n",
      "---  ------                 --------------  ----- \n",
      " 0   keywords               46646 non-null  object\n",
      " 1   adult                  46646 non-null  object\n",
      " 2   belongs_to_collection  46646 non-null  object\n",
      " 3   genres                 46646 non-null  object\n",
      " 4   original_language      46646 non-null  object\n",
      " 5   production_companies   46646 non-null  object\n",
      " 6   production_countries   46646 non-null  object\n",
      " 7   cast                   46646 non-null  object\n",
      " 8   director               46646 non-null  object\n",
      "dtypes: object(9)\n",
      "memory usage: 3.6+ MB\n"
     ]
    }
   ],
   "source": [
    "merged_df.info()"
   ]
  },
  {
   "cell_type": "code",
   "execution_count": 245,
   "id": "99491b26",
   "metadata": {},
   "outputs": [],
   "source": [
    "merged_df['original_language']=merged_df['original_language'].apply(lambda x: '' if pd.isnull(x) else x)"
   ]
  },
  {
   "cell_type": "code",
   "execution_count": 247,
   "id": "27a10e6a",
   "metadata": {},
   "outputs": [],
   "source": [
    "merged_df['TfidfTXT']=merged_df['director']+' '+merged_df['adult']+' '+merged_df['keywords']+' '+3*merged_df['belongs_to_collection']+' '+merged_df['genres']#+' '+merged_df['production_companies']+' '+merged_df['cast']"
   ]
  },
  {
   "cell_type": "code",
   "execution_count": 248,
   "id": "7507afba",
   "metadata": {},
   "outputs": [
    {
     "data": {
      "text/plain": [
       "0        johnlasseter False jealousi toy boy toystoryco...\n",
       "1        joejohnston False boardgam disappear basedonch...\n",
       "2        howarddeutch False fish bestfriend duringcredi...\n",
       "3        forestwhitaker False basedonnovel interracialr...\n",
       "4        charlesshyer False babi midlifecrisi confid fa...\n",
       "                               ...                        \n",
       "46641    georgesméliès False wrestl sport silentfilm  d...\n",
       "46642                          robertgardner False   drama\n",
       "46643    raviudyawar False physicalabus sexualassault  ...\n",
       "46644                                shanraj.kehl False   \n",
       "46645                                paolotaviani False   \n",
       "Name: TfidfTXT, Length: 46646, dtype: object"
      ]
     },
     "execution_count": 248,
     "metadata": {},
     "output_type": "execute_result"
    }
   ],
   "source": [
    "merged_df['TfidfTXT']"
   ]
  },
  {
   "cell_type": "code",
   "execution_count": 249,
   "id": "936580dc",
   "metadata": {},
   "outputs": [],
   "source": [
    "vectorizer = TfidfVectorizer()"
   ]
  },
  {
   "cell_type": "code",
   "execution_count": 250,
   "id": "babceed3",
   "metadata": {},
   "outputs": [],
   "source": [
    "feature_vectors = vectorizer.fit_transform(merged_df['TfidfTXT'][:3300])"
   ]
  },
  {
   "cell_type": "code",
   "execution_count": 251,
   "id": "f241a949",
   "metadata": {},
   "outputs": [
    {
     "data": {
      "text/plain": [
       "<3300x4893 sparse matrix of type '<class 'numpy.float64'>'\n",
       "\twith 23371 stored elements in Compressed Sparse Row format>"
      ]
     },
     "execution_count": 251,
     "metadata": {},
     "output_type": "execute_result"
    }
   ],
   "source": [
    "feature_vectors"
   ]
  },
  {
   "cell_type": "code",
   "execution_count": 378,
   "id": "1993439a",
   "metadata": {},
   "outputs": [],
   "source": [
    "#feature_vectors_float16 = feature_vectors.astype(np.float16)"
   ]
  },
  {
   "cell_type": "code",
   "execution_count": 252,
   "id": "d31e8a47",
   "metadata": {},
   "outputs": [],
   "source": [
    "similarity = cosine_similarity(feature_vectors)"
   ]
  },
  {
   "cell_type": "code",
   "execution_count": 253,
   "id": "4bfdb262",
   "metadata": {},
   "outputs": [
    {
     "data": {
      "text/plain": [
       "array([[1.        , 0.03591903, 0.01676607, ..., 0.00478857, 0.00634119,\n",
       "        0.02137111],\n",
       "       [0.03591903, 1.        , 0.00300381, ..., 0.04766301, 0.06311695,\n",
       "        0.00382885],\n",
       "       [0.01676607, 0.00300381, 1.        , ..., 0.00479324, 0.00634737,\n",
       "        0.02139196],\n",
       "       ...,\n",
       "       [0.00478857, 0.04766301, 0.00479324, ..., 1.        , 0.10071699,\n",
       "        0.00610978],\n",
       "       [0.00634119, 0.06311695, 0.00634737, ..., 0.10071699, 1.        ,\n",
       "        0.00809077],\n",
       "       [0.02137111, 0.00382885, 0.02139196, ..., 0.00610978, 0.00809077,\n",
       "        1.        ]])"
      ]
     },
     "execution_count": 253,
     "metadata": {},
     "output_type": "execute_result"
    }
   ],
   "source": [
    "similarity"
   ]
  },
  {
   "cell_type": "code",
   "execution_count": 254,
   "id": "f447d2b6",
   "metadata": {},
   "outputs": [
    {
     "name": "stdout",
     "output_type": "stream",
     "text": [
      " Enter your favourite movie name : Toy Story\n"
     ]
    }
   ],
   "source": [
    "movie_name = input(' Enter your favourite movie name : ')"
   ]
  },
  {
   "cell_type": "code",
   "execution_count": 255,
   "id": "ac19ad7e",
   "metadata": {},
   "outputs": [],
   "source": [
    "list_of_all_titles = df2['original_title'][:3300].tolist()"
   ]
  },
  {
   "cell_type": "code",
   "execution_count": 256,
   "id": "ace2f8e2",
   "metadata": {},
   "outputs": [
    {
     "data": {
      "text/plain": [
       "['Toy Story', 'Toy Story 2', 'Tommy Boy']"
      ]
     },
     "execution_count": 256,
     "metadata": {},
     "output_type": "execute_result"
    }
   ],
   "source": [
    "find_close_match = difflib.get_close_matches(movie_name, list_of_all_titles)\n",
    "find_close_match"
   ]
  },
  {
   "cell_type": "code",
   "execution_count": 257,
   "id": "28078f89",
   "metadata": {},
   "outputs": [],
   "source": [
    "close_match = find_close_match[0]"
   ]
  },
  {
   "cell_type": "code",
   "execution_count": 258,
   "id": "0a7805a8",
   "metadata": {},
   "outputs": [
    {
     "data": {
      "text/plain": [
       "0"
      ]
     },
     "execution_count": 258,
     "metadata": {},
     "output_type": "execute_result"
    }
   ],
   "source": [
    "index_of_the_movie = df2[df2.original_title == close_match].index[0]\n",
    "index_of_the_movie"
   ]
  },
  {
   "cell_type": "code",
   "execution_count": 259,
   "id": "f071132b",
   "metadata": {},
   "outputs": [
    {
     "data": {
      "text/plain": [
       "(2997, 0.12524485821702988)"
      ]
     },
     "execution_count": 259,
     "metadata": {},
     "output_type": "execute_result"
    }
   ],
   "source": [
    "similarity_score[2997] #toy story 2"
   ]
  },
  {
   "cell_type": "code",
   "execution_count": 260,
   "id": "1b6c6f0a",
   "metadata": {},
   "outputs": [
    {
     "data": {
      "text/plain": [
       "'johnlasseter False jealousi toy boy toystorycollectiontoystorycollectiontoystorycollection animation comedy family'"
      ]
     },
     "execution_count": 260,
     "metadata": {},
     "output_type": "execute_result"
    }
   ],
   "source": [
    "merged_df['TfidfTXT'][0]"
   ]
  },
  {
   "cell_type": "code",
   "execution_count": 310,
   "id": "28914f43",
   "metadata": {},
   "outputs": [
    {
     "data": {
      "text/plain": [
       "'margarethevontrotta False anti-commun polit womandirector  drama romance'"
      ]
     },
     "execution_count": 310,
     "metadata": {},
     "output_type": "execute_result"
    }
   ],
   "source": [
    "merged_df['TfidfTXT'][677]"
   ]
  },
  {
   "cell_type": "code",
   "execution_count": 311,
   "id": "61d834d9",
   "metadata": {},
   "outputs": [
    {
     "data": {
      "text/plain": [
       "40001"
      ]
     },
     "execution_count": 311,
     "metadata": {},
     "output_type": "execute_result"
    }
   ],
   "source": [
    "df['id'][677]"
   ]
  },
  {
   "cell_type": "code",
   "execution_count": 306,
   "id": "27ac93a1",
   "metadata": {},
   "outputs": [
    {
     "data": {
      "text/plain": [
       "\"[{'credit_id': '52fe457ac3a36847f80c9aff', 'department': 'Production', 'gender': 2, 'id': 2147, 'job': 'Producer', 'name': 'Oren Koules', 'profile_path': None}, {'credit_id': '5735235ec3a368025100060a', 'department': 'Production', 'gender': 0, 'id': 4952, 'job': 'Casting', 'name': 'Nancy Foy', 'profile_path': '/blCkmS4dqNsbPGuQfozHE6wgWBw.jpg'}, {'credit_id': '546378a1c3a368124d0023a0', 'department': 'Writing', 'gender': 2, 'id': 7748, 'job': 'Novel', 'name': 'Cornell Woolrich', 'profile_path': '/rsiAv7XyWhQrpQecLDzsYfB1teu.jpg'}, {'credit_id': '52fe457ac3a36847f80c9af9', 'department': 'Sound', 'gender': 2, 'id': 9152, 'job': 'Original Music Composer', 'name': 'Patrick Doyle', 'profile_path': '/mo87kZiHO5gsoax80Us0S2CPmS.jpg'}, {'credit_id': '52fe457ac3a36847f80c9ad7', 'department': 'Directing', 'gender': 2, 'id': 24318, 'job': 'Director', 'name': 'Richard Benjamin', 'profile_path': '/9BQ5QcoCA7sfQzPvBpX8U4zDXqn.jpg'}, {'credit_id': '52fe457ac3a36847f80c9b17', 'department': 'Editing', 'gender': 1, 'id': 33830, 'job': 'Editor', 'name': 'Jacqueline Cambas', 'profile_path': None}, {'credit_id': '52fe457ac3a36847f80c9b05', 'department': 'Production', 'gender': 0, 'id': 57680, 'job': 'Producer', 'name': 'Dale Pollock', 'profile_path': None}, {'credit_id': '546378ab0e0a26780300246b', 'department': 'Writing', 'gender': 2, 'id': 57986, 'job': 'Screenplay', 'name': 'Phoef Sutton', 'profile_path': None}, {'credit_id': '53fdab3b0e0a262de50016c5', 'department': 'Camera', 'gender': 2, 'id': 59443, 'job': 'Director of Photography', 'name': 'Alex Nepomniaschy', 'profile_path': None}, {'credit_id': '52fe457ac3a36847f80c9b0b', 'department': 'Production', 'gender': 2, 'id': 206366, 'job': 'Producer', 'name': 'Ross Canter', 'profile_path': None}, {'credit_id': '52fe457ac3a36847f80c9b1d', 'department': 'Editing', 'gender': 0, 'id': 933105, 'job': 'Editor', 'name': 'William Fletcher', 'profile_path': None}, {'credit_id': '546378b40e0a267800002476', 'department': 'Writing', 'gender': 0, 'id': 1384855, 'job': 'Screenplay', 'name': 'Lisa-Maria Radano', 'profile_path': None}]\""
      ]
     },
     "execution_count": 306,
     "metadata": {},
     "output_type": "execute_result"
    }
   ],
   "source": [
    "df['crew'][677]"
   ]
  },
  {
   "cell_type": "code",
   "execution_count": 271,
   "id": "9266290f",
   "metadata": {},
   "outputs": [
    {
     "data": {
      "text/plain": [
       "0    [{'id': 16, 'name': 'Animation'}, {'id': 35, '...\n",
       "Name: genres, dtype: object"
      ]
     },
     "execution_count": 271,
     "metadata": {},
     "output_type": "execute_result"
    }
   ],
   "source": [
    "df2[df2['original_title']=='Toy Story']['genres']"
   ]
  },
  {
   "cell_type": "code",
   "execution_count": 273,
   "id": "5ffb00e9",
   "metadata": {},
   "outputs": [
    {
     "data": {
      "text/plain": [
       "2997    [{'id': 16, 'name': 'Animation'}, {'id': 35, '...\n",
       "Name: genres, dtype: object"
      ]
     },
     "execution_count": 273,
     "metadata": {},
     "output_type": "execute_result"
    }
   ],
   "source": [
    "df2[df2['original_title']=='Toy Story 2']['genres']"
   ]
  },
  {
   "cell_type": "code",
   "execution_count": 262,
   "id": "b301cdcf",
   "metadata": {},
   "outputs": [
    {
     "name": "stdout",
     "output_type": "stream",
     "text": [
      "[(0, 1.0000000000000002), (1, 0.035919026459725584), (2, 0.016766065936181976), (3, 0.018859330915349373), (4, 0.01662469018652658), (5, 0.004110156429375586), (6, 0.022215084356006533), (7, 0.06976587461175522), (8, 0.003925633709791419), (9, 0.0035258145465273303), (10, 0.020768471582051286), (11, 0.022765714072427657), (12, 0.09173332047239972), (13, 0.003657956841073183), (14, 0.0037062613860202142), (15, 0.003860742315766037), (16, 0.004101459594504675), (17, 0.0189696125790692), (18, 0.016319887994020333), (19, 0.01946572656353396), (20, 0.0183863144338955), (21, 0.0038175263283160028), (22, 0.004115574083526918), (23, 0.0032140351493088505), (24, 0.0044422664829976595), (25, 0.13609552810887898), (26, 0.05991141983392091), (27, 0.003550170334347501), (28, 0.003477535017906247), (29, 0.003605411118745815), (30, 0.003362633178546181), (31, 0.0035891817347469776), (32, 0.005447419314266058), (33, 0.04848696788047049), (34, 0.0036007929479771965), (35, 0.004218781306941847), (36, 0.06391826186291594), (37, 0.06305417058353369), (38, 0.01932758599679666), (39, 0.004869138312299952), (40, 0.004047081470390206), (41, 0.003345374684206323), (42, 0.12189623676939608), (43, 0.003276411101469112), (44, 0.02055463154387487), (45, 0.0037785927802093484), (46, 0.0037057240926313085), (47, 0.09720478960010896), (48, 0.003972622493326914), (49, 0.0036154434599348717), (50, 0.004534585719660478), (51, 0.01995633092425696), (52, 0.005293735933604173), (53, 0.05672394131654209), (54, 0.004300280827151441), (55, 0.006764020021581753), (56, 0.017761563091204982), (57, 0.019963676324917322), (58, 0.006138088635219614), (59, 0.04085743559536214), (60, 0.003533879261562891), (61, 0.037848434284893304), (62, 0.016247297355578127), (63, 0.019069356009650377), (64, 0.018016300005525128), (65, 0.0031600757265869213), (66, 0.08452036371237293), (67, 0.0186328538212871), (68, 0.016762586582345553), (69, 0.0034384207166001115), (70, 0.0039868470712585554), (71, 0.026369803822290407), (72, 0.0038821156872021955), (73, 0.004130369361574375), (74, 0.0840907078205744), (75, 0.0031050796279437245), (76, 0.005968047901679011), (77, 0.002882376580224564), (78, 0.003936042553975811), (79, 0.042284742601710855), (80, 0.0040009453502260275), (81, 0.02096436016138406), (82, 0.0037531911614778635), (83, 0.007362042085182524), (84, 0.0030325084891857277), (85, 0.003618878167781135), (86, 0.057783395031163864), (87, 0.017774500038364473), (88, 0.003895880413289053), (89, 0.00773552164533159), (90, 0.003750744440867473), (91, 0.02177074722620491), (92, 0.02464216083775197), (93, 0.003825378416781816), (94, 0.018521486488590404), (95, 0.0036141530322697556), (96, 0.004644031710095393), (97, 0.003830430552921008), (98, 0.003963141672447264), (99, 0.021099694592236734), (100, 0.03473139306729163), (101, 0.003946654086232587), (102, 0.019631267529072266), (103, 0.004208661489962572), (104, 0.05881340851932256), (105, 0.050721263060495514), (106, 0.005968047901679011), (107, 0.004095883956743582), (108, 0.00358121523069135), (109, 0.004184168757760903), (110, 0.020575683366001386), (111, 0.007038350860008417), (112, 0.0035388910131861438), (113, 0.018073601824878972), (114, 0.0032029050027927077), (115, 0.0197318775074986), (116, 0.020251131419218357), (117, 0.020586396024972323), (118, 0.050577744033626235), (119, 0.005171297376393881), (120, 0.01878657834922698), (121, 0.013554662401258057), (122, 0.006875396029405887), (123, 0.014622312643792868), (124, 0.0037553022322540995), (125, 0.005879196393524116), (126, 0.006764020021581753), (127, 0.032279863563972125), (128, 0.026961566200190103), (129, 0.16312985964521892), (130, 0.003695975198279842), (131, 0.018736879888184416), (132, 0.0055007051769982145), (133, 0.016896478154297574), (134, 0.00502311388404564), (135, 0.020339581746629705), (136, 0.004149797257241612), (137, 0.006764020021581753), (138, 0.003624845587980878), (139, 0.021930418822279196), (140, 0.003594786156853396), (141, 0.022290265998851106), (142, 0.017091675244562593), (143, 0.04185091138699276), (144, 0.0038136373345391958), (145, 0.02098441556811028), (146, 0.029493387878680843), (147, 0.004128259425046885), (148, 0.0033614911408585573), (149, 0.004169478710060463), (150, 0.0033238812497590033), (151, 0.004214945367555122), (152, 0.0035921105769288683), (153, 0.016459393713361765), (154, 0.03430033399593738), (155, 0.05358231374696583), (156, 0.0036183510940378965), (157, 0.0033071776145647625), (158, 0.0036958666762315255), (159, 0.0035967019410746196), (160, 0.0032289956448995085), (161, 0.003701734437067431), (162, 0.003603710293694635), (163, 0.018418328871136775), (164, 0.006261267260486698), (165, 0.0033596125366911907), (166, 0.0029634124081510185), (167, 0.004067165309554575), (168, 0.019738981139595584), (169, 0.003536272167719273), (170, 0.003678954340920705), (171, 0.017983884505506056), (172, 0.004038294063804098), (173, 0.020679261742249832), (174, 0.0033732432413203003), (175, 0.03301946160025865), (176, 0.044619890146300675), (177, 0.019663814470094847), (178, 0.035909054438588814), (179, 0.019102583338465855), (180, 0.003826336229947831), (181, 0.00399424271226443), (182, 0.0014510221609684427), (183, 0.022304651430562546), (184, 0.021536542743378816), (185, 0.0030638072144059895), (186, 0.017763512429250422), (187, 0.003983415266195264), (188, 0.0036351561188971166), (189, 0.012380799072004683), (190, 0.00320573385863604), (191, 0.016780140231440626), (192, 0.018882420202996665), (193, 0.003191385280262269), (194, 0.00381051359058443), (195, 0.003912601230113789), (196, 0.003993238577052671), (197, 0.006478048905417988), (198, 0.0038777517822214404), (199, 0.003983112715638774), (200, 0.022789071245959608), (201, 0.003209742646011663), (202, 0.09057502797197758), (203, 0.004488857062901492), (204, 0.003975729287505579), (205, 0.003712147812593671), (206, 0.0036090869724108416), (207, 0.0034926350305813977), (208, 0.00773552164533159), (209, 0.0535514374672897), (210, 0.003644496682665901), (211, 0.0037355668593805394), (212, 0.0022196457257638094), (213, 0.03167584566559964), (214, 0.003914846981911617), (215, 0.019548242277191014), (216, 0.05909118974698972), (217, 0.003915718592605757), (218, 0.04102512382048811), (219, 0.01682102136369073), (220, 0.018560745481543087), (221, 0.0033374200366032085), (222, 0.003925181905338088), (223, 0.003803876609870112), (224, 0.019166392121456193), (225, 0.003117515702277517), (226, 0.004277826461564567), (227, 0.01617599504152852), (228, 0.019052885614378717), (229, 0.003792996976541048), (230, 0.021324082245154252), (231, 0.019816630655927783), (232, 0.02094538593905717), (233, 0.019126956606836637), (234, 0.04638218986473278), (235, 0.12027812106954966), (236, 0.005646226470652409), (237, 0.04764857844053455), (238, 0.003578464073152422), (239, 0.052760640235509984), (240, 0.16529710346257295), (241, 0.0057799649346835374), (242, 0.0036071262136470545), (243, 0.004223456144973834), (244, 0.09883686967148267), (245, 0.0030331236597888793), (246, 0.06359863608264951), (247, 0.0061683764016152555), (248, 0.01887923653109338), (249, 0.003656548569744704), (250, 0.00417535079553064), (251, 0.019310260716193916), (252, 0.06077873512150094), (253, 0.00384417979706625), (254, 0.05396006007838578), (255, 0.004713221626993902), (256, 0.0031503219533184517), (257, 0.0036916466746367005), (258, 0.04588899850005916), (259, 0.004141392440777145), (260, 0.006726535771188752), (261, 0.12628832978076532), (262, 0.0039585580693191815), (263, 0.053978509704083466), (264, 0.0036148250385539702), (265, 0.003690326354741444), (266, 0.003497391774371617), (267, 0.0039146370015654495), (268, 0.019261339482295838), (269, 0.003679615913788082), (270, 0.09455055409446564), (271, 0.018931800032079688), (272, 0.01742181953748702), (273, 0.048000954475051774), (274, 0.032279863563972125), (275, 0.022373422934050678), (276, 0.0036864410086328765), (277, 0.02057724571100227), (278, 0.0036037544106442684), (279, 0.0038134544559237002), (280, 0.0057799649346835374), (281, 0.0042185976748017745), (282, 0.0030905679526595066), (283, 0.0063807917289101165), (284, 0.003827062297620125), (285, 0.02094680943477127), (286, 0.003524711715858705), (287, 0.003498058572494124), (288, 0.0037177482277649275), (289, 0.004515011536688958), (290, 0.022771482960420312), (291, 0.12926654565289972), (292, 0.003818445557169073), (293, 0.0047561228482263605), (294, 0.037391466372003336), (295, 0.004006484038040385), (296, 0.0037325762655238607), (297, 0.003392292717662257), (298, 0.0033087960800125605), (299, 0.003646351512089976), (300, 0.019353672538058694), (301, 0.020551592927811353), (302, 0.0032992585088900566), (303, 0.00331933496520703), (304, 0.016364704380957103), (305, 0.006643805911805593), (306, 0.07838069730173022), (307, 0.0035393604220829286), (308, 0.037391466372003336), (309, 0.07278659301416643), (310, 0.043484606618408556), (311, 0.0036391787052068468), (312, 0.0034674949990240234), (313, 0.05232886274033273), (314, 0.0042076437471505876), (315, 0.0036528934779683324), (316, 0.003689437557046857), (317, 0.02058888725542118), (318, 0.028704066156848285), (319, 0.019955264071930146), (320, 0.03637276763911042), (321, 0.003978098923202946), (322, 0.018198478269135603), (323, 0.01520260809049974), (324, 0.002287455428981599), (325, 0.003962700894638925), (326, 0.00666179265483767), (327, 0.0032132671702651367), (328, 0.03637276763911042), (329, 0.0045463645824900464), (330, 0.0038892465706352095), (331, 0.003068292752654739), (332, 0.0038449131440024746), (333, 0.003645946865486237), (334, 0.021401620476212947), (335, 0.003893508837550481), (336, 0.01930666486699924), (337, 0.020192980021710605), (338, 0.05684287117753096), (339, 0.016316142083871058), (340, 0.02101007595867084), (341, 0.0030660736907515843), (342, 0.0037846647502754057), (343, 0.017844274785930196), (344, 0.0036447736377890447), (345, 0.004015568284357501), (346, 0.06155886024790433), (347, 0.01975093541430025), (348, 0.0030876872953572282), (349, 0.004259929157487023), (350, 0.0735245894626118), (351, 0.01969097123091988), (352, 0.019727031848089143), (353, 0.0035587593158417532), (354, 0.018814657206802463), (355, 0.018385897379514918), (356, 0.019048330366758383), (357, 0.04135006919169118), (358, 0.003056691739652913), (359, 0.0977060780351389), (360, 0.00354491894996019), (361, 0.0034955306000244743), (362, 0.01632726279944631), (363, 0.017903817806578248), (364, 0.0042609280455216305), (365, 0.016732501388321826), (366, 0.021914693829596873), (367, 0.0036099790801183075), (368, 0.0038074917961111836), (369, 0.05040674117306406), (370, 0.0038027291954229377), (371, 0.0036162066483533865), (372, 0.003376905582954456), (373, 0.01994528353137811), (374, 0.0032727161470710673), (375, 0.0041837273700477805), (376, 0.003989778110904768), (377, 0.0037474139291076678), (378, 0.003933589231312647), (379, 0.0038429928345543422), (380, 0.020463010378849143), (381, 0.01952275112821323), (382, 0.01819688682576792), (383, 0.006643805911805593), (384, 0.006643805911805593), (385, 0.003024551726158923), (386, 0.0034997677542746627), (387, 0.09391253327817604), (388, 0.002991469162394147), (389, 0.017919797376157794), (390, 0.00479964688727738), (391, 0.003498060016320981), (392, 0.003178662047774285), (393, 0.0037481751251908424), (394, 0.0036975484139537673), (395, 0.0037616420709657853), (396, 0.0061683764016152555), (397, 0.021607305004388847), (398, 0.006764020021581753), (399, 0.004488857062901492), (400, 0.003468961463021686), (401, 0.007362042085182524), (402, 0.0037990383519702566), (403, 0.0035573652338061874), (404, 0.005698449390478676), (405, 0.1692889170091611), (406, 0.02015175580238772), (407, 0.0043831611037778665), (408, 0.01768882976788367), (409, 0.0902293750836008), (410, 0.016744321774815853), (411, 0.018456238371891663), (412, 0.01991051396617387), (413, 0.017776858406822565), (414, 0.01960201656910214), (415, 0.01722790267947533), (416, 0.04460701307548942), (417, 0.0038565649223661746), (418, 0.0038184978255027505), (419, 0.004793989770833595), (420, 0.0035113782299822528), (421, 0.0035321253701714314), (422, 0.004047792636836476), (423, 0.004079307500837453), (424, 0.03358484047800173), (425, 0.020120531317593705), (426, 0.003934259995156981), (427, 0.016136588594398083), (428, 0.032562265863636225), (429, 0.003746285431232814), (430, 0.04984191746015892), (431, 0.0041439786175666935), (432, 0.0544861473354431), (433, 0.022572888355724175), (434, 0.0043664808440043515), (435, 0.02109781418768821), (436, 0.02103635631583415), (437, 0.0037735178230495175), (438, 0.004583499488486489), (439, 0.018126721781306004), (440, 0.023052590519247084), (441, 0.003987041622155689), (442, 0.034922843358963826), (443, 0.0036428447507669813), (444, 0.01681830862408026), (445, 0.01781857017333141), (446, 0.004214484974053041), (447, 0.027336963571091256), (448, 0.01813526910984471), (449, 0.00382654605895717), (450, 0.0335248598577228), (451, 0.00356393444737787), (452, 0.0022980054011460796), (453, 0.0033884824324963434), (454, 0.003364696952147116), (455, 0.10367421932747108), (456, 0.004002273541000275), (457, 0.027084508064796134), (458, 0.007536294268862718), (459, 0.0031178248507949032), (460, 0.0037030511355519357), (461, 0.011447093393516024), (462, 0.0198812022511567), (463, 0.01866447314682231), (464, 0.0036164285699081147), (465, 0.024726279082941817), (466, 0.024343812398329), (467, 0.016322983452077954), (468, 0.018230591784366954), (469, 0.0038322860535544793), (470, 0.004498044365269094), (471, 0.03177689974569414), (472, 0.0033739923127436033), (473, 0.041821820288316394), (474, 0.003759177520931543), (475, 0.0032841648513984158), (476, 0.0038880480363615313), (477, 0.004195336000179256), (478, 0.003505681998655052), (479, 0.05430892717468866), (480, 0.05844073796007988), (481, 0.09883686967148267), (482, 0.01954013958997304), (483, 0.004308529531698929), (484, 0.01923103287108892), (485, 0.003517674218435507), (486, 0.003766908585013173), (487, 0.021632191834850233), (488, 0.0036659086581499667), (489, 0.003868129694714935), (490, 0.1299073505387769), (491, 0.017626474401456968), (492, 0.02075900007444729), (493, 0.003718709328359233), (494, 0.01949225949805975), (495, 0.0670880097223518), (496, 0.025208243257604325), (497, 0.0034994166497508542), (498, 0.01843941448325241), (499, 0.004003902473638392), (500, 0.058285582993522746), (501, 0.003733855721700427), (502, 0.003794592445809441), (503, 0.00433942468918803), (504, 0.004055488020114327), (505, 0.003754578623733562), (506, 0.003972243453581465), (507, 0.005692475523729174), (508, 0.017217928616611568), (509, 0.02216052791191301), (510, 0.003787567909377786), (511, 0.018303728677194195), (512, 0.004165190732500359), (513, 0.021627759892774046), (514, 0.0033187520229749504), (515, 0.01984270851484781), (516, 0.0037285282746104534), (517, 0.003593865265908926), (518, 0.005954196208213584), (519, 0.004302079010776658), (520, 0.003781208984694671), (521, 0.006643805911805593), (522, 0.003645464890591295), (523, 0.0207796983452593), (524, 0.0036168883173319896), (525, 0.004024098635410835), (526, 0.04226222607916022), (527, 0.017193781681972876), (528, 0.003220545915821092), (529, 0.00369239450532523), (530, 0.022717717833707955), (531, 0.0796339699982131), (532, 0.020221318762038393), (533, 0.0189441082633535), (534, 0.021529394693171194), (535, 0.005026993209163775), (536, 0.003454260379953504), (537, 0.019728469856320454), (538, 0.019087502301105477), (539, 0.0034516017367315047), (540, 0.005714962485686688), (541, 0.05867830716638039), (542, 0.00392138206262016), (543, 0.0034691540876286373), (544, 0.006249983401256402), (545, 0.054072413784251726), (546, 0.12032067018396586), (547, 0.022028954328728263), (548, 0.002959073075049727), (549, 0.00383042981729287), (550, 0.0036803515736257447), (551, 0.0037869465970405336), (552, 0.10817361486057273), (553, 0.017927429139397457), (554, 0.005962008802857587), (555, 0.003345412072575234), (556, 0.01994685376088602), (557, 0.005022396764519927), (558, 0.022203316572758536), (559, 0.0034459784005459494), (560, 0.02330796268859338), (561, 0.02182694700747395), (562, 0.022183156831548492), (563, 0.07346514361156009), (564, 0.0039773203063629145), (565, 0.02572276487012981), (566, 0.0063807917289101165), (567, 0.027963518332248864), (568, 0.020120081713752423), (569, 0.060697168513544314), (570, 0.026470152994184773), (571, 0.05722538641301272), (572, 0.006032390319111781), (573, 0.027726199236598692), (574, 0.003553918603859125), (575, 0.022241115764253774), (576, 0.02968425609667867), (577, 0.003974151630726097), (578, 0.018175491490180953), (579, 0.05515703925306938), (580, 0.0035403491757864756), (581, 0.11954723718248372), (582, 0.0031326775693464267), (583, 0.003478780844608789), (584, 0.0037244496110526754), (585, 0.0034677839956733115), (586, 0.0038506875709955943), (587, 0.12074800100406889), (588, 0.09963224649913173), (589, 0.1264404749459833), (590, 0.020250456239760593), (591, 0.019268584582394888), (592, 0.003842464938366011), (593, 0.004850540612023771), (594, 0.003331416486751116), (595, 0.005962008802857587), (596, 0.03559379542617527), (597, 0.01870071747370904), (598, 0.0034386990277375227), (599, 0.003750395043606841), (600, 0.0037936152488324006), (601, 0.060184740672023486), (602, 0.06803245384549556), (603, 0.003059458400534642), (604, 0.02335156505839487), (605, 0.004088692976582114), (606, 0.003463738875208396), (607, 0.018021876350241897), (608, 0.14051038064230054), (609, 0.003966862846731498), (610, 0.032279863563972125), (611, 0.0610062683953091), (612, 0.003055722294144135), (613, 0.0037895335214672156), (614, 0.0572783037237256), (615, 0.004632213796690932), (616, 0.02449802663410615), (617, 0.01852499428580099), (618, 0.018804552365192427), (619, 0.003638022536443017), (620, 0.006764020021581753), (621, 0.004056887288586585), (622, 0.12142329075804757), (623, 0.0033827798101005286), (624, 0.017792984765145767), (625, 0.04183494833290767), (626, 0.018613773078837555), (627, 0.006372214386138531), (628, 0.062361465784360144), (629, 0.020584090109821596), (630, 0.02109861923044195), (631, 0.003351785920743492), (632, 0.06261595823868835), (633, 0.0063807917289101165), (634, 0.03358484047800173), (635, 0.02618646821093088), (636, 0.004025123301661768), (637, 0.003656489767922998), (638, 0.002378617881326969), (639, 0.025208243257604325), (640, 0.0035803283662166666), (641, 0.018960734907279748), (642, 0.0029884469930958244), (643, 0.0032501881410977236), (644, 0.0074096364320033305), (645, 0.006643805911805593), (646, 0.021113048281838423), (647, 0.01781857017333141), (648, 0.006764020021581753), (649, 0.00357266684918893), (650, 0.01827356778919912), (651, 0.11648960146895561), (652, 0.004289654299830019), (653, 0.019501847865696646), (654, 0.017729758555579428), (655, 0.018837979289900157), (656, 0.1279784686742644), (657, 0.0031171481519213597), (658, 0.0033529571518418765), (659, 0.0032576573606887737), (660, 0.017666086909104806), (661, 0.0572783037237256), (662, 0.13205840742336447), (663, 0.0034363780252379323), (664, 0.0038991096961178877), (665, 0.029407771889119604), (666, 0.005744727031672478), (667, 0.004161667495867329), (668, 0.0030349470449149638), (669, 0.0047561228482263605), (670, 0.005471521734932511), (671, 0.007362042085182524), (672, 0.0038715316818124686), (673, 0.004197328647572281), (674, 0.0063807917289101165), (675, 0.09697821045635714), (676, 0.00395846632082078), (677, 0.00395846632082078), (678, 0.00395846632082078), (679, 0.00395846632082078), (680, 0.00395846632082078), (681, 0.00395846632082078), (682, 0.00395846632082078), (683, 0.00395846632082078), (684, 0.018194521321028584), (685, 0.003565886443727544), (686, 0.005772511801080166), (687, 0.004572259498481882), (688, 0.0039228889482598546), (689, 0.004876222667629383), (690, 0.021118549258291448), (691, 0.146464089917996), (692, 0.006764020021581753), (693, 0.05407241378425172), (694, 0.004553202236822051), (695, 0.004403920759187088), (696, 0.0037843926892276677), (697, 0.0033880224969630984), (698, 0.0336739742143273), (699, 0.003895303877178953), (700, 0.0038736466643112207), (701, 0.018287444570314768), (702, 0.12154512486395914), (703, 0.01762161052216857), (704, 0.04234472500338134), (705, 0.0059288826009634135), (706, 0.0033842614329982314), (707, 0.0037576025149802894), (708, 0.0032584591232739913), (709, 0.0035892139287146655), (710, 0.029250781532268302), (711, 0.01506807818901821), (712, 0.014983862704114512), (713, 0.005968047901679011), (714, 0.005772511801080166), (715, 0.0038228322152005726), (716, 0.01977457885428101), (717, 0.007431513572537642), (718, 0.0572783037237256), (719, 0.036756778257830566), (720, 0.12742798773764807), (721, 0.0042827158890374), (722, 0.0034091655348386794), (723, 0.0037355800987599573), (724, 0.01768654214040782), (725, 0.016881141534703804), (726, 0.0036199702168297765), (727, 0.003286717389385419), (728, 0.006643805911805593), (729, 0.03358484047800173), (730, 0.06865785703990075), (731, 0.0033613661182787416), (732, 0.018420800797574577), (733, 0.03451617072906621), (734, 0.0874119529426353), (735, 0.003874225795915729), (736, 0.06416292255441894), (737, 0.0029363313656251837), (738, 0.0035595192544251903), (739, 0.020023304951161804), (740, 0.021755915886648672), (741, 0.0049158702731370366), (742, 0.020817548199267753), (743, 0.003913256349151395), (744, 0.05365551725010108), (745, 0.003593119083818044), (746, 0.005009615499370024), (747, 0.006764020021581753), (748, 0.005562116560568988), (749, 0.004011665478474981), (750, 0.0038299013418278596), (751, 0.0037030174876233925), (752, 0.03301946160025865), (753, 0.12534925136026476), (754, 0.01819130766095043), (755, 0.005375652762775781), (756, 0.06479523909717191), (757, 0.0036709631764437227), (758, 0.004459280787714812), (759, 0.005486398567589553), (760, 0.001346256065491664), (761, 0.003649435028923981), (762, 0.00370149011108069), (763, 0.007362042085182524), (764, 0.005269895200580007), (765, 0.0037846121681378232), (766, 0.018978347352036882), (767, 0.00311941412064755), (768, 0.007328835802297736), (769, 0.0036655500040263015), (770, 0.11538220703009414), (771, 0.020939902657539908), (772, 0.01891157180721161), (773, 0.003867856226673713), (774, 0.005968047901679011), (775, 0.015619260671830082), (776, 0.005402809415203403), (777, 0.005729150290559221), (778, 0.006764020021581753), (779, 0.006764020021581753), (780, 0.006764020021581753), (781, 0.03301946160025865), (782, 0.006643805911805593), (783, 0.020477922314842644), (784, 0.0038363975189467945), (785, 0.018795482762870002), (786, 0.0036371011224961155), (787, 0.06187842402178856), (788, 0.003413375443135293), (789, 0.026272273976411513), (790, 0.018670487719720224), (791, 0.003987961025004369), (792, 0.004047988363624512), (793, 0.03473139306729163), (794, 0.003597617196712352), (795, 0.018141154002792807), (796, 0.05887136565646611), (797, 0.005962008802857587), (798, 0.09883686967148267), (799, 0.006764020021581753), (800, 0.0036928474631848056), (801, 0.006139270068342786), (802, 0.01675491366921697), (803, 0.03358484047800173), (804, 0.0033677652733097624), (805, 0.004679275596428733), (806, 0.025352712190468644), (807, 0.0035299609785333914), (808, 0.01902029878752623), (809, 0.006643805911805593), (810, 0.0067727026724370394), (811, 0.1197014845982347), (812, 0.017698722602348258), (813, 0.01867021485331132), (814, 0.020074898934007268), (815, 0.0037178087256165755), (816, 0.019892576854518652), (817, 0.018536785289461635), (818, 0.0035702189628849827), (819, 0.0035139298157562844), (820, 0.05702445110212764), (821, 0.01835589930835061), (822, 0.0031220353220215535), (823, 0.05707476198899658), (824, 0.0038486038270608923), (825, 0.017748027626698075), (826, 0.006643805911805593), (827, 0.006764020021581753), (828, 0.006764020021581753), (829, 0.007049914309876132), (830, 0.00396117641356611), (831, 0.023644038360334314), (832, 0.0023962957260624793), (833, 0.003994605899398405), (834, 0.004071773877874497), (835, 0.015755128410557713), (836, 0.00360874882148605), (837, 0.003529117460994848), (838, 0.005879196393524116), (839, 0.006764020021581753), (840, 0.00479964688727738), (841, 0.0036083168576609777), (842, 0.02164982617756389), (843, 0.0033435431208936306), (844, 0.020553777786333), (845, 0.004625475743197736), (846, 0.004625475743197736), (847, 0.004302610392007259), (848, 0.004302610392007259), (849, 0.004625475743197736), (850, 0.004625475743197736), (851, 0.004302610392007259), (852, 0.004302610392007259), (853, 0.003612264355516951), (854, 0.003464658750308626), (855, 0.058069743457545904), (856, 0.004022322486268785), (857, 0.0034330557866270248), (858, 0.06288429001169314), (859, 0.032279863563972125), (860, 0.10926016912772678), (861, 0.00396117641356611), (862, 0.0038646580264111), (863, 0.004494084529851305), (864, 0.004262683644263832), (865, 0.03301946160025865), (866, 0.006643805911805593), (867, 0.004354489332193349), (868, 0.004038236544694476), (869, 0.054488486774822854), (870, 0.003425394673101988), (871, 0.006764020021581753), (872, 0.06183976129986201), (873, 0.018062615329128562), (874, 0.005414366036817041), (875, 0.12071119056892204), (876, 0.006764020021581753), (877, 0.02095586899282703), (878, 0.0034472639387985), (879, 0.021948205987980213), (880, 0.003858223773512869), (881, 0.0034344850985473636), (882, 0.0063807917289101165), (883, 0.004163571480347755), (884, 0.004030918830833426), (885, 0.01934586246222106), (886, 0.017660338778778144), (887, 0.021118071393766355), (888, 0.019480997136166564), (889, 0.01986219334011787), (890, 0.004045874468153108), (891, 0.004221379165540368), (892, 0.018926180566845297), (893, 0.0038555237451129254), (894, 0.019392474815145146), (895, 0.00425500564440843), (896, 0.019385006645850245), (897, 0.019938163192790924), (898, 0.02027467401981872), (899, 0.0043740661937812335), (900, 0.003926415524456292), (901, 0.04139468911496857), (902, 0.019825298051045867), (903, 0.019919896068265282), (904, 0.06543242849077083), (905, 0.018270197745121113), (906, 0.04695867598416662), (907, 0.0038056358475624507), (908, 0.021612047475402955), (909, 0.12093058474630732), (910, 0.0040358321231570736), (911, 0.003326410154378918), (912, 0.003997202001801637), (913, 0.1151317525332562), (914, 0.01858631962616615), (915, 0.004202283062859697), (916, 0.003697067186931283), (917, 0.004207229707381751), (918, 0.004251351701628267), (919, 0.0037387080360383957), (920, 0.00390000123503649), (921, 0.06820150601082972), (922, 0.017387178537339128), (923, 0.019418796776357796), (924, 0.020759679024137306), (925, 0.021156022286438775), (926, 0.01843669933281311), (927, 0.0035413247028379287), (928, 0.00411603469613769), (929, 0.0040535610531621915), (930, 0.003229782433352194), (931, 0.0036121342481921577), (932, 0.019918712169524674), (933, 0.021329526481596202), (934, 0.020561883070980908), (935, 0.12782522732490753), (936, 0.004356617030396126), (937, 0.017498059247686625), (938, 0.024246809446161408), (939, 0.05502928825232883), (940, 0.052092693602261604), (941, 0.021052752730678845), (942, 0.020093311041902463), (943, 0.0037298598813768546), (944, 0.005014675800195589), (945, 0.019691368693412165), (946, 0.00357309913488736), (947, 0.0187409934604991), (948, 0.04389274101361489), (949, 0.003623679108211415), (950, 0.019030456801620306), (951, 0.003229718761646744), (952, 0.0042754081539752905), (953, 0.003896253313217117), (954, 0.003461457604418002), (955, 0.0031631168672728352), (956, 0.00368989317833659), (957, 0.02039574637414157), (958, 0.004247368350981674), (959, 0.00427625597848166), (960, 0.017620593739579006), (961, 0.11727161450221132), (962, 0.022915978209209042), (963, 0.004093800004584799), (964, 0.004093800004584799), (965, 0.004093800004584799), (966, 0.004093800004584799), (967, 0.004093800004584799), (968, 0.004093800004584799), (969, 0.004093800004584799), (970, 0.004093800004584799), (971, 0.003551181964331037), (972, 0.004869138312299952), (973, 0.004334855936516076), (974, 0.00616619049357436), (975, 0.003638334789482172), (976, 0.005275018025432677), (977, 0.018316843809418185), (978, 0.06752667198551295), (979, 0.044119719278009735), (980, 0.0038226204192347403), (981, 0.01949875144264869), (982, 0.004797835428058209), (983, 0.003521984254180732), (984, 0.003990504848060285), (985, 0.003602149307381812), (986, 0.0038869578731199807), (987, 0.00426207006132203), (988, 0.0037115480811460346), (989, 0.002941530891134922), (990, 0.0034938892562526185), (991, 0.15458292296384535), (992, 0.017344093284344806), (993, 0.03358484047800173), (994, 0.006764020021581753), (995, 0.004106649362151095), (996, 0.003407199648186075), (997, 0.0530567026943921), (998, 0.004144142437220751), (999, 0.07887545353019922), (1000, 0.037337337700074566), (1001, 0.044802559029567056), (1002, 0.05776542594522233), (1003, 0.05267444122887835), (1004, 0.00370686404874736), (1005, 0.05512870818242499), (1006, 0.003558512663178049), (1007, 0.057348993221466124), (1008, 0.052790936259987764), (1009, 0.04415092414658245), (1010, 0.06965249017550958), (1011, 0.003808848411908026), (1012, 0.019783133244834595), (1013, 0.07988536030402231), (1014, 0.103503190089912), (1015, 0.12145167921629689), (1016, 0.09480849073580297), (1017, 0.10953895245766283), (1018, 0.1407116393076353), (1019, 0.003670404253879647), (1020, 0.0697399983269357), (1021, 0.12188510070153079), (1022, 0.12820379624503128), (1023, 0.13547168439776358), (1024, 0.1197594953891937), (1025, 0.1081502650096127), (1026, 0.016628310632666565), (1027, 0.04518663646682068), (1028, 0.0038980150170288236), (1029, 0.0031917138511594013), (1030, 0.003594475591832125), (1031, 0.005562116560568988), (1032, 0.0032475992055417627), (1033, 0.0041660823264934406), (1034, 0.01964431793813768), (1035, 0.004210532623033291), (1036, 0.0046362321964120564), (1037, 0.022405698395413936), (1038, 0.021383038212299952), (1039, 0.0040217516916208045), (1040, 0.0037428129209893133), (1041, 0.004013208600072107), (1042, 0.021468196213058875), (1043, 0.0069628073455250405), (1044, 0.004342462678162953), (1045, 0.0038208809066863944), (1046, 0.00493739560609042), (1047, 0.007049914309876132), (1048, 0.02205442988076598), (1049, 0.004237257952023117), (1050, 0.003659012257351534), (1051, 0.019526921549502422), (1052, 0.0037884522683653984), (1053, 0.003649146310361968), (1054, 0.005327606385707719), (1055, 0.10393462591991896), (1056, 0.0046971798036046335), (1057, 0.020500519842639356), (1058, 0.017988605812090757), (1059, 0.0037597026420837934), (1060, 0.0035353278410415316), (1061, 0.0038855360697319704), (1062, 0.003629643950766565), (1063, 0.044246383953629266), (1064, 0.032279863563972125), (1065, 0.0039931964395183315), (1066, 0.021417185371861703), (1067, 0.019837325583527292), (1068, 0.021000035321103092), (1069, 0.01967634363119033), (1070, 0.01810523251255587), (1071, 0.029676006588804517), (1072, 0.018065305084679618), (1073, 0.004054546638308786), (1074, 0.003800827275809951), (1075, 0.15115874186758435), (1076, 0.00610501645401797), (1077, 0.00357466651265006), (1078, 0.0035364120708669144), (1079, 0.0036591331363549666), (1080, 0.011508039713887702), (1081, 0.0036428812781448597), (1082, 0.004044054009285944), (1083, 0.004230323315182009), (1084, 0.0037675695729800646), (1085, 0.0035267536378054934), (1086, 0.042533228665433145), (1087, 0.03358484047800173), (1088, 0.037702152257978586), (1089, 0.0028095371026621617), (1090, 0.0036450574995200093), (1091, 0.019777421059523834), (1092, 0.003969033319622426), (1093, 0.00435426910268721), (1094, 0.003335563892003707), (1095, 0.004583499488486489), (1096, 0.03358484047800173), (1097, 0.006261267260486698), (1098, 0.003404766688232079), (1099, 0.02193512553830184), (1100, 0.018353208089802262), (1101, 0.003879521120458846), (1102, 0.03134180205653622), (1103, 0.0072077950179686625), (1104, 0.004004719262307468), (1105, 0.005302413031517915), (1106, 0.0042420027171195945), (1107, 0.003987887575647916), (1108, 0.022412958733216824), (1109, 0.004583499488486489), (1110, 0.0038027389670906657), (1111, 0.007983272952383536), (1112, 0.061181950612730754), (1113, 0.0035773151974570917), (1114, 0.004132125932145163), (1115, 0.0024151697218363325), (1116, 0.003196852764065476), (1117, 0.0031784054895441683), (1118, 0.003266438541872236), (1119, 0.003899607104032901), (1120, 0.02280826618161259), (1121, 0.018882681467034486), (1122, 0.0063807917289101165), (1123, 0.006764020021581753), (1124, 0.0035170685020392595), (1125, 0.0054064462527500315), (1126, 0.02002355623169423), (1127, 0.004488857062901492), (1128, 0.0038412223228089463), (1129, 0.00479964688727738), (1130, 0.0036062953893733246), (1131, 0.08611436549889967), (1132, 0.005409176426050224), (1133, 0.0035965074049589115), (1134, 0.07664889154868965), (1135, 0.007186299646155344), (1136, 0.004336663390544665), (1137, 0.003631193528908684), (1138, 0.005147676527665468), (1139, 0.006643805911805593), (1140, 0.00479964688727738), (1141, 0.006764020021581753), (1142, 0.020541539380012824), (1143, 0.0038349760804891105), (1144, 0.018316254086378204), (1145, 0.025519335854095066), (1146, 0.01909382314425029), (1147, 0.005879196393524116), (1148, 0.019441428625549578), (1149, 0.0036086344410542655), (1150, 0.005562116560568988), (1151, 0.004669541710734441), (1152, 0.01860745765004756), (1153, 0.003641141621378124), (1154, 0.003228107109658295), (1155, 0.03358484047800173), (1156, 0.017347663666064144), (1157, 0.0035448688565806663), (1158, 0.0043181561963628965), (1159, 0.0039502349601265), (1160, 0.0038475139943298714), (1161, 0.027643482403223858), (1162, 0.003787937986416798), (1163, 0.0035822972875827856), (1164, 0.019831944431259782), (1165, 0.003756989247718118), (1166, 0.004326886793310168), (1167, 0.004092719831743108), (1168, 0.020243603708122393), (1169, 0.005637488513692617), (1170, 0.01795224799149284), (1171, 0.0037031910533796503), (1172, 0.0037381543347726072), (1173, 0.00357460864856154), (1174, 0.011286279560243338), (1175, 0.003302081417111748), (1176, 0.05285882044277908), (1177, 0.0034226129522609734), (1178, 0.017940083678704435), (1179, 0.003358122134408833), (1180, 0.0032683995518145415), (1181, 0.017927429139397457), (1182, 0.003824786928248703), (1183, 0.003414599297090145), (1184, 0.004486604252908598), (1185, 0.004171777094533403), (1186, 0.00370840904260117), (1187, 0.0037172515375844904), (1188, 0.0032919738213238532), (1189, 0.0039006944114973467), (1190, 0.0036255177981790124), (1191, 0.004774957407215964), (1192, 0.003358122134408833), (1193, 0.01753122145532757), (1194, 0.004196007155839349), (1195, 0.003951693858269809), (1196, 0.0038586532939442167), (1197, 0.003520747249142094), (1198, 0.018520875991975688), (1199, 0.003047860245540514), (1200, 0.004529745985217392), (1201, 0.08423971357343926), (1202, 0.0036502127607419862), (1203, 0.0036688259272998278), (1204, 0.02146269972037369), (1205, 0.004092467043476082), (1206, 0.13539935403785058), (1207, 0.01898102909759427), (1208, 0.0038249576107529594), (1209, 0.003450190112371184), (1210, 0.0037437682054752303), (1211, 0.016330077588996614), (1212, 0.021104633045239664), (1213, 0.03219967472279628), (1214, 0.0037576792048488626), (1215, 0.019818484963118513), (1216, 0.0034543171134218766), (1217, 0.01862519596371148), (1218, 0.003607304709389988), (1219, 0.018110093769452187), (1220, 0.025597358919051575), (1221, 0.0039383783982129845), (1222, 0.004005477929330102), (1223, 0.003948209240088282), (1224, 0.003711360041276961), (1225, 0.0037334009043925613), (1226, 0.003728836677822444), (1227, 0.003915242469208757), (1228, 0.00345740096524999), (1229, 0.0036616481991666966), (1230, 0.0035289334457125373), (1231, 0.017787555220370316), (1232, 0.02034936131201266), (1233, 0.018016300005525128), (1234, 0.0038136717722461067), (1235, 0.004520191771275196), (1236, 0.0036691909816304324), (1237, 0.015582914741145761), (1238, 0.0035223102188445816), (1239, 0.003624544045927926), (1240, 0.0033801339216072137), (1241, 0.017101547227356788), (1242, 0.004179940914213981), (1243, 0.00383224365711873), (1244, 0.00393233706241579), (1245, 0.01987115290682955), (1246, 0.05240978886072939), (1247, 0.022021264840145802), (1248, 0.0032702045158207824), (1249, 0.021630125555699504), (1250, 0.07424718705390876), (1251, 0.003447342000913589), (1252, 0.004209051312817393), (1253, 0.01647914452559058), (1254, 0.019429293733502325), (1255, 0.023333624133325483), (1256, 0.00404849398284002), (1257, 0.019933706562232482), (1258, 0.09647231067469897), (1259, 0.0036537667043861264), (1260, 0.004064308476415961), (1261, 0.021126265216424783), (1262, 0.0034535475089183918), (1263, 0.0033781903241016506), (1264, 0.018347340428601144), (1265, 0.0029206603827219824), (1266, 0.0036868091830901404), (1267, 0.0035057535356735796), (1268, 0.020372786037173282), (1269, 0.003489733270021312), (1270, 0.01957536419641727), (1271, 0.003551313562304921), (1272, 0.01759051528863655), (1273, 0.0035919709749927713), (1274, 0.0038807528695373045), (1275, 0.019314968966045294), (1276, 0.003287611167505419), (1277, 0.004083936850304085), (1278, 0.004364915597142549), (1279, 0.003279660336255622), (1280, 0.004169153462033421), (1281, 0.003987931206606149), (1282, 0.022894965770013834), (1283, 0.006764020021581753), (1284, 0.005465052297965996), (1285, 0.003672962330582144), (1286, 0.059389650136880016), (1287, 0.003736082230914762), (1288, 0.029870818068886047), (1289, 0.029143435635336192), (1290, 0.0053954085703322935), (1291, 0.02275596114400486), (1292, 0.01987906880070813), (1293, 0.0572783037237256), (1294, 0.003553223316566997), (1295, 0.019142691566522384), (1296, 0.0032295041720276766), (1297, 0.004433499973123065), (1298, 0.003629126941542331), (1299, 0.00345572909124692), (1300, 0.0037165991734670555), (1301, 0.00323664521071727), (1302, 0.0036878368584014327), (1303, 0.004304514465556133), (1304, 0.0038986341270814124), (1305, 0.003849365033947496), (1306, 0.003897685931310711), (1307, 0.0036665299783619587), (1308, 0.002851631615901734), (1309, 0.01860545630050541), (1310, 0.0033354935477878183), (1311, 0.003532717186463725), (1312, 0.004032206009410746), (1313, 0.001785166687627597), (1314, 0.003372702752007012), (1315, 0.003189964575747331), (1316, 0.004535117335643022), (1317, 0.004183496954947753), (1318, 0.003592957930082529), (1319, 0.0034629065712350232), (1320, 0.003437766383824004), (1321, 0.003382813102823408), (1322, 0.003951522686873591), (1323, 0.00345828707659772), (1324, 0.0039909345328585635), (1325, 0.0038546158606293296), (1326, 0.02024551619433295), (1327, 0.003517960794975032), (1328, 0.0033280723975932505), (1329, 0.0022792207926425868), (1330, 0.003692883841625231), (1331, 0.003795811644958261), (1332, 0.054104685612063184), (1333, 0.0063807917289101165), (1334, 0.003369168698252244), (1335, 0.05528561884500799), (1336, 0.006372214386138531), (1337, 0.019820100786145826), (1338, 0.0036186415293479055), (1339, 0.026482403295213907), (1340, 0.0054064462527500315), (1341, 0.004065025573867223), (1342, 0.003663034051795691), (1343, 0.0024396573479432), (1344, 0.0024118029569280093), (1345, 0.0023582357532471792), (1346, 0.002351481994132606), (1347, 0.0028512594260745004), (1348, 0.0024820197821471086), (1349, 0.003683522380232074), (1350, 0.003236207579959507), (1351, 0.003590998702827181), (1352, 0.0033877505085522174), (1353, 0.04885293817651086), (1354, 0.0035294377479176556), (1355, 0.003599041106230134), (1356, 0.004869138312299952), (1357, 0.0032300341948067425), (1358, 0.003051549303598543), (1359, 0.0032013951772733385), (1360, 0.003384899549656962), (1361, 0.0033000345376430085), (1362, 0.016833576806514525), (1363, 0.019143184984100288), (1364, 0.02048233344497393), (1365, 0.01983768967780363), (1366, 0.019738853550477903), (1367, 0.020774629258968558), (1368, 0.01811141092634384), (1369, 0.006096801128542296), (1370, 0.004117100402422169), (1371, 0.003732900707584048), (1372, 0.0038664136639759046), (1373, 0.00397112923190374), (1374, 0.004186300763947088), (1375, 0.0992821930568259), (1376, 0.0037366134798385354), (1377, 0.003390402051318151), (1378, 0.0032146541268832235), (1379, 0.018773577299895355), (1380, 0.059390020941734824), (1381, 0.0039612636850887145), (1382, 0.0034336232882796044), (1383, 0.004697481711797415), (1384, 0.017792984765145767), (1385, 0.0048508902543369925), (1386, 0.0035533436743138387), (1387, 0.003710327512931312), (1388, 0.004358412615163805), (1389, 0.0055007051769982145), (1390, 0.0032692570064605077), (1391, 0.004063680571293818), (1392, 0.0034114753713220614), (1393, 0.018167284536760347), (1394, 0.05091316519919007), (1395, 0.0031902309238002204), (1396, 0.003929961193157281), (1397, 0.017639676637017924), (1398, 0.030331442070442773), (1399, 0.01900252189294048), (1400, 0.018830814694757617), (1401, 0.005180976051611323), (1402, 0.003821783853811979), (1403, 0.004595499468511953), (1404, 0.003970048454810457), (1405, 0.03358484047800173), (1406, 0.019483124366436917), (1407, 0.0173880452090045), (1408, 0.003782606675887136), (1409, 0.005968047901679011), (1410, 0.02893156275821384), (1411, 0.011445069054946128), (1412, 0.017865053212486326), (1413, 0.01614427280191074), (1414, 0.012380799072004683), (1415, 0.018663153311251724), (1416, 0.005917250409722027), (1417, 0.01853378654220307), (1418, 0.03219967472279628), (1419, 0.026175020073752976), (1420, 0.020802584596416422), (1421, 0.01968056512672807), (1422, 0.02930215641900719), (1423, 0.00433546347351637), (1424, 0.10285915204526551), (1425, 0.012134021907002024), (1426, 0.0572783037237256), (1427, 0.01866447314682231), (1428, 0.004088330929944533), (1429, 0.004903293271123433), (1430, 0.003670475119096359), (1431, 0.03358484047800173), (1432, 0.019591103295104856), (1433, 0.005968047901679011), (1434, 0.005183652257475927), (1435, 0.003905342227029008), (1436, 0.01840873829133707), (1437, 0.07097044495123722), (1438, 0.0039149385026484166), (1439, 0.020078312447147494), (1440, 0.018828530125034583), (1441, 0.0030556808485297476), (1442, 0.003301948373889409), (1443, 0.01641705782824896), (1444, 0.004330625006145267), (1445, 0.020911746345786603), (1446, 0.0200351580361276), (1447, 0.005978068763690909), (1448, 0.0038539680821169267), (1449, 0.0035524451233295185), (1450, 0.1261611886207651), (1451, 0.01895073685238287), (1452, 0.021105149708805778), (1453, 0.03668635207743677), (1454, 0.006875396029405887), (1455, 0.0038981768758105965), (1456, 0.003452980828100532), (1457, 0.0030432090657474234), (1458, 0.017396608905667826), (1459, 0.005085627547913243), (1460, 0.004368962761321322), (1461, 0.01872901319880583), (1462, 0.0069628073455250405), (1463, 0.004076490176555521), (1464, 0.0038400023130118633), (1465, 0.0038583569218390307), (1466, 0.006643805911805593), (1467, 0.01876781463684944), (1468, 0.018603856012044364), (1469, 0.005922472655243001), (1470, 0.003441509082502389), (1471, 0.01905201956832677), (1472, 0.016999050847852207), (1473, 0.003823198682859565), (1474, 0.00483895570763907), (1475, 0.01948566882453293), (1476, 0.005879196393524116), (1477, 0.003962537886086852), (1478, 0.003732900707584048), (1479, 0.036642979516339165), (1480, 0.06450824424623401), (1481, 0.0035862370482571417), (1482, 0.0572783037237256), (1483, 0.0178320709525018), (1484, 0.0030519123364273542), (1485, 0.03473139306729163), (1486, 0.005233446113255988), (1487, 0.003918777513986513), (1488, 0.02276151052043735), (1489, 0.2221392795504276), (1490, 0.03451617072906621), (1491, 0.1575252279013067), (1492, 0.017507769069168684), (1493, 0.006764020021581753), (1494, 0.003241568612593033), (1495, 0.005772511801080166), (1496, 0.021909909102988942), (1497, 0.0379059041889213), (1498, 0.0069628073455250405), (1499, 0.018874400690433883), (1500, 0.021213150219010338), (1501, 0.05762441613257628), (1502, 0.0040776838770837), (1503, 0.005962008802857587), (1504, 0.006032926492702329), (1505, 0.0056945903528394844), (1506, 0.003255289776090917), (1507, 0.004354664503849001), (1508, 0.028831224412641125), (1509, 0.0572783037237256), (1510, 0.017267217372220443), (1511, 0.003419742102461972), (1512, 0.06004246547976871), (1513, 0.012027161338075383), (1514, 0.019447639189147), (1515, 0.12851192103636697), (1516, 0.004477460780592628), (1517, 0.0034344850985473636), (1518, 0.019050682397752303), (1519, 0.003060702287192579), (1520, 0.02435655762009898), (1521, 0.003843113215715037), (1522, 0.00349432446509662), (1523, 0.003799492645045752), (1524, 0.003736952758398987), (1525, 0.006643805911805593), (1526, 0.0037446368672687303), (1527, 0.026940344618561186), (1528, 0.01641128193428933), (1529, 0.020818491716461406), (1530, 0.04826893473414221), (1531, 0.05875669713202534), (1532, 0.004006528106608365), (1533, 0.02597032386691646), (1534, 0.003829234367579115), (1535, 0.0030582223846171842), (1536, 0.05447857678920582), (1537, 0.003891653649945194), (1538, 0.0034732955624853243), (1539, 0.0029419469017522635), (1540, 0.04859978265618798), (1541, 0.019750077422479195), (1542, 0.022258066304525446), (1543, 0.003284881420254722), (1544, 0.0038620123038885464), (1545, 0.004303390510752281), (1546, 0.003691932645773725), (1547, 0.0036409086024058288), (1548, 0.005756343249674578), (1549, 0.0034566072124465413), (1550, 0.06450261407822035), (1551, 0.0031378777698885373), (1552, 0.018981029744489057), (1553, 0.019795575908956836), (1554, 0.003257557229503834), (1555, 0.004570034474842415), (1556, 0.004249100536875986), (1557, 0.003406384132683088), (1558, 0.00454225527647951), (1559, 0.02106470691082792), (1560, 0.03301946160025865), (1561, 0.021271698589576615), (1562, 0.003661123848476081), (1563, 0.00385319218882829), (1564, 0.004054829433427992), (1565, 0.0032716097915604825), (1566, 0.0031746254086325995), (1567, 0.016771182148935578), (1568, 0.030154219739160812), (1569, 0.0032310047080086517), (1570, 0.004033758720829586), (1571, 0.0037824579459577678), (1572, 0.0034488174803453146), (1573, 0.003723799821543069), (1574, 0.0063807917289101165), (1575, 0.01664701237311736), (1576, 0.0040532208121846335), (1577, 0.032279863563972125), (1578, 0.003988577969087787), (1579, 0.004247502948669861), (1580, 0.0035547870011134997), (1581, 0.01814685186736511), (1582, 0.01790955392912352), (1583, 0.01847117826610683), (1584, 0.018936776607772494), (1585, 0.0039459683849976035), (1586, 0.003250552796340431), (1587, 0.0038980194789122596), (1588, 0.05943016783801159), (1589, 0.0036688590748337477), (1590, 0.016129451166570503), (1591, 0.003634929579631435), (1592, 0.006155025100143815), (1593, 0.0035234009758864553), (1594, 0.0033256950874356902), (1595, 0.003555377634341139), (1596, 0.04372562423149738), (1597, 0.003807195366713703), (1598, 0.003900733121231883), (1599, 0.004583499488486489), (1600, 0.02087114071324446), (1601, 0.0033480840520764095), (1602, 0.0035627015126444175), (1603, 0.0035318735556237944), (1604, 0.003878398386429607), (1605, 0.018266010800465297), (1606, 0.006096801128542296), (1607, 0.012028534548247444), (1608, 0.020400710998805645), (1609, 0.0032899015906753316), (1610, 0.003362615322431757), (1611, 0.003488051539960654), (1612, 0.003941623827484879), (1613, 0.003992895760470941), (1614, 0.003708265884760367), (1615, 0.004097405698394369), (1616, 0.004144871291377318), (1617, 0.0037459979116059774), (1618, 0.0032538683333769827), (1619, 0.019516450263707536), (1620, 0.004068249254001229), (1621, 0.01862758319301979), (1622, 0.017782169771341807), (1623, 0.0028624535860239495), (1624, 0.019658363950290695), (1625, 0.003837521482486772), (1626, 0.0037846294174239447), (1627, 0.07165323179940068), (1628, 0.003899637202902228), (1629, 0.003319955715941997), (1630, 0.11831385258415966), (1631, 0.021516571873585886), (1632, 0.003184754946523298), (1633, 0.003707165827054619), (1634, 0.0036472341388381242), (1635, 0.13065551486603236), (1636, 0.0037055293781895226), (1637, 0.003756403354600994), (1638, 0.0030945850217380237), (1639, 0.020371682198162492), (1640, 0.02128194639927941), (1641, 0.018343555512413526), (1642, 0.05878570261790206), (1643, 0.020726802840098004), (1644, 0.0040993747418489), (1645, 0.0050409673663717154), (1646, 0.0572783037237256), (1647, 0.05310876063947952), (1648, 0.030111100294806677), (1649, 0.00489761841404096), (1650, 0.003692938102541994), (1651, 0.0613242161346708), (1652, 0.0572783037237256), (1653, 0.027374544181363748), (1654, 0.030111100294806677), (1655, 0.0031228819845134557), (1656, 0.003400937210537806), (1657, 0.0037088490564947552), (1658, 0.0037023568914507036), (1659, 0.003638361275167679), (1660, 0.003774775273413788), (1661, 0.005941343274073783), (1662, 0.0036444971957322893), (1663, 0.006643805911805593), (1664, 0.0033515083786962766), (1665, 0.004151837263962902), (1666, 0.005941343274073783), (1667, 0.018755352409575186), (1668, 0.004038123739658135), (1669, 0.05705639642827927), (1670, 0.01783446377814448), (1671, 0.034922843358963826), (1672, 0.019996741165977407), (1673, 0.016387787412394824), (1674, 0.051667991027298896), (1675, 0.003561135984371337), (1676, 0.0035412845133351513), (1677, 0.006764020021581753), (1678, 0.003734993726268865), (1679, 0.024580928474211082), (1680, 0.02235932285092517), (1681, 0.0035783068932294746), (1682, 0.003495562196777161), (1683, 0.039146138120849244), (1684, 0.0036828557018551587), (1685, 0.018028761205795125), (1686, 0.003902353424181443), (1687, 0.019396309371925533), (1688, 0.003218593600836581), (1689, 0.0035618093016473494), (1690, 0.003458038076918513), (1691, 0.01696252434358956), (1692, 0.003269055651778982), (1693, 0.03223725615457124), (1694, 0.005827081521835353), (1695, 0.028771698676541946), (1696, 0.004869138312299952), (1697, 0.003575774552578368), (1698, 0.004194628479855183), (1699, 0.0038042814439188384), (1700, 0.01534301481486612), (1701, 0.005535788383656098), (1702, 0.01845154834785421), (1703, 0.017798152200640644), (1704, 0.003930957204756643), (1705, 0.005968047901679011), (1706, 0.006139060077864843), (1707, 0.032279863563972125), (1708, 0.003780239962063969), (1709, 0.01732448577582323), (1710, 0.0041867892568203625), (1711, 0.012380799072004683), (1712, 0.00560914328966449), (1713, 0.0037010311682372007), (1714, 0.0022742220629567342), (1715, 0.017615510473195917), (1716, 0.0036760688032989354), (1717, 0.004110907951436698), (1718, 0.0033806703707371768), (1719, 0.0032665740960588115), (1720, 0.0035369955672120397), (1721, 0.016934038140857526), (1722, 0.0037803312465205445), (1723, 0.003407046105724125), (1724, 0.0033901941728770747), (1725, 0.05686827945561425), (1726, 0.003271795055346579), (1727, 0.00390904310566375), (1728, 0.020345285493287922), (1729, 0.0035687822064879855), (1730, 0.06359863608264951), (1731, 0.005954196208213584), (1732, 0.0036711105494990947), (1733, 0.003879551012844567), (1734, 0.020211853889083014), (1735, 0.006891550114739297), (1736, 0.003497391774371617), (1737, 0.019177068829451666), (1738, 0.20310755819294998), (1739, 0.029899493740853128), (1740, 0.0035814569233430563), (1741, 0.056598277586669826), (1742, 0.004076197500551392), (1743, 0.006226444988474744), (1744, 0.041360297587816175), (1745, 0.0037829775363379023), (1746, 0.003686223902748057), (1747, 0.0034467333357515624), (1748, 0.004012233199195052), (1749, 0.0219679178871849), (1750, 0.018022133797152035), (1751, 0.05499506684092998), (1752, 0.0044236952192291895), (1753, 0.0040015682459773935), (1754, 0.007362042085182524), (1755, 0.04593118457897512), (1756, 0.004309492052975062), (1757, 0.02116064660197769), (1758, 0.0035245745535467314), (1759, 0.0039076091224715765), (1760, 0.05402465492904423), (1761, 0.003530979394822589), (1762, 0.02886169128111543), (1763, 0.03177689974569414), (1764, 0.006372214386138531), (1765, 0.024158260542752406), (1766, 0.0336739742143273), (1767, 0.060994475442067556), (1768, 0.0032329196227030323), (1769, 0.021984447961950676), (1770, 0.01985045092594656), (1771, 0.004004719262307468), (1772, 0.004165981232205841), (1773, 0.018279686865769203), (1774, 0.0031977799222356017), (1775, 0.016698512493405638), (1776, 0.017577772937017323), (1777, 0.003225389433501969), (1778, 0.015516749178065517), (1779, 0.00414518139594618), (1780, 0.0040396552756923835), (1781, 0.07153089991029123), (1782, 0.019446877095899505), (1783, 0.005290414351972096), (1784, 0.004035302823482282), (1785, 0.020720223954403334), (1786, 0.026961566200190103), (1787, 0.0036522974620010642), (1788, 0.0071015550447520795), (1789, 0.0174411240386303), (1790, 0.0038669619170927363), (1791, 0.004174646105342324), (1792, 0.16723795281971188), (1793, 0.0036812794826281106), (1794, 0.020118603614673), (1795, 0.017446580881375205), (1796, 0.02010920456311896), (1797, 0.03193291627535434), (1798, 0.017373360972318255), (1799, 0.0036048038770680824), (1800, 0.003933192175491583), (1801, 0.006083349768474067), (1802, 0.0034739192994476305), (1803, 0.1310106276699568), (1804, 0.0038397043610208766), (1805, 0.019788401199824116), (1806, 0.01957853075679184), (1807, 0.019923393927320898), (1808, 0.004275449944492327), (1809, 0.005729150290559221), (1810, 0.0034846810102779637), (1811, 0.057134495282237276), (1812, 0.006764020021581753), (1813, 0.15703021006335963), (1814, 0.02808528261637124), (1815, 0.01854631236055987), (1816, 0.0036039746560941775), (1817, 0.1481429108343605), (1818, 0.10384454716350273), (1819, 0.003957702437427937), (1820, 0.002263293798519381), (1821, 0.019398816804996045), (1822, 0.03746423639533814), (1823, 0.018876841980617697), (1824, 0.003665105042272421), (1825, 0.03301946160025865), (1826, 0.005978068763690909), (1827, 0.019740850107649435), (1828, 0.003925499191498431), (1829, 0.015610518940444195), (1830, 0.07461943165781217), (1831, 0.016580830246805157), (1832, 0.003464800596692197), (1833, 0.004045122398764223), (1834, 0.018938135474440156), (1835, 0.003325884815162983), (1836, 0.003466760682813059), (1837, 0.0031031431266337586), (1838, 0.0036039506534483495), (1839, 0.0034058068862296755), (1840, 0.003713647321685708), (1841, 0.0072077950179686625), (1842, 0.0036121493376460815), (1843, 0.0029922597944104868), (1844, 0.0038458290145896743), (1845, 0.018536395115159088), (1846, 0.0037895335214672156), (1847, 0.0043011726205130765), (1848, 0.024740190397958415), (1849, 0.003680508311445143), (1850, 0.0037113131781339338), (1851, 0.004254247562427226), (1852, 0.004278037112548158), (1853, 0.004195446486557896), (1854, 0.0035486961620015667), (1855, 0.003495562295593879), (1856, 0.004001670993506367), (1857, 0.00398907794858933), (1858, 0.003556297624276974), (1859, 0.01677235659231651), (1860, 0.0036019409741042483), (1861, 0.00406941583713814), (1862, 0.04191874764549918), (1863, 0.005295642438459966), (1864, 0.0031190989421652623), (1865, 0.00332477902630221), (1866, 0.004107157970928735), (1867, 0.003997837523614968), (1868, 0.003763942051163532), (1869, 0.017065385829168302), (1870, 0.0038191852079089055), (1871, 0.004059354141961116), (1872, 0.004148457424687261), (1873, 0.02105760012289364), (1874, 0.020409607908681904), (1875, 0.003945703584049652), (1876, 0.018712086958501857), (1877, 0.023031410317529456), (1878, 0.04276029299476157), (1879, 0.019635181966916188), (1880, 0.003698193940527093), (1881, 0.003284970544945856), (1882, 0.0035800712366584556), (1883, 0.0036467333455160655), (1884, 0.017001026549950414), (1885, 0.002927617484555703), (1886, 0.0034389900654928874), (1887, 0.0035652844098009763), (1888, 0.003186721799254148), (1889, 0.003359595179783148), (1890, 0.003302898509997819), (1891, 0.003359595179783148), (1892, 0.003605317276752075), (1893, 0.0038401144522552094), (1894, 0.0035067037390778136), (1895, 0.003165573451541194), (1896, 0.0030786672750218905), (1897, 0.0029971197475760535), (1898, 0.003657258339866885), (1899, 0.003378779769990691), (1900, 0.016229909204390942), (1901, 0.0035043645351559055), (1902, 0.002427605855229679), (1903, 0.0023225596656996964), (1904, 0.0023211815072616696), (1905, 0.0033145648964708774), (1906, 0.003342094534769382), (1907, 0.0033453387572933424), (1908, 0.003215623887557482), (1909, 0.0031468366753866816), (1910, 0.0031886609088478965), (1911, 0.015443862025049004), (1912, 0.01610517223743613), (1913, 0.015610518940444192), (1914, 0.018752782885457533), (1915, 0.017958872041776652), (1916, 0.05484213194566103), (1917, 0.003486632454393427), (1918, 0.15731825512974346), (1919, 0.006032390319111781), (1920, 0.0037244418888608814), (1921, 0.0037183745689197997), (1922, 0.05032320161439753), (1923, 0.05148585414244701), (1924, 0.0032429776953694306), (1925, 0.09789819989092317), (1926, 0.07988698632988961), (1927, 0.06400624082563426), (1928, 0.05307086482927329), (1929, 0.10272458464081802), (1930, 0.0039030634915169908), (1931, 0.00399129671016999), (1932, 0.004084074327236331), (1933, 0.0038464886347354186), (1934, 0.0037958347194562403), (1935, 0.003912605791664579), (1936, 0.14076195836593156), (1937, 0.004109054317414349), (1938, 0.019943095277360903), (1939, 0.0034381201819649035), (1940, 0.017807062857214936), (1941, 0.006643805911805593), (1942, 0.10835009650970322), (1943, 0.10835009650970322), (1944, 0.0881138862151331), (1945, 0.04106354390215015), (1946, 0.06367956361372762), (1947, 0.10285915204526551), (1948, 0.08307443593907643), (1949, 0.06925077674240375), (1950, 0.07423350430392914), (1951, 0.07701730479206964), (1952, 0.023886067353628068), (1953, 0.05534617144966818), (1954, 0.05452238501401508), (1955, 0.08721265544210008), (1956, 0.0037499264791621603), (1957, 0.044067553285793745), (1958, 0.06269655143573974), (1959, 0.14821032790426436), (1960, 0.09644132322022968), (1961, 0.05383626946900135), (1962, 0.04866232609769512), (1963, 0.05856110805145324), (1964, 0.0364774325066138), (1965, 0.0362210305212852), (1966, 0.08998626358671075), (1967, 0.049621659941447335), (1968, 0.04455335915462592), (1969, 0.0036185531139007847), (1970, 0.05501151235672381), (1971, 0.01951553627042765), (1972, 0.0034348077976910467), (1973, 0.00356546708245842), (1974, 0.0035245745535467314), (1975, 0.003316037931747652), (1976, 0.020508886573589725), (1977, 0.003945450291318044), (1978, 0.004016731041391577), (1979, 0.003628493027103632), (1980, 0.0030691173623534234), (1981, 0.0065917766065302945), (1982, 0.003960922227624604), (1983, 0.019054751357125664), (1984, 0.021197244779209028), (1985, 0.0036615699582489875), (1986, 0.003757889830102747), (1987, 0.0038608962189528567), (1988, 0.003448469542977523), (1989, 0.10323240343355058), (1990, 0.08002401486144073), (1991, 0.09872287974947895), (1992, 0.10479660140728833), (1993, 0.05491155341678743), (1994, 0.05750526631978228), (1995, 0.039123425711364644), (1996, 0.05905007182067905), (1997, 0.045259511199258515), (1998, 0.10073453718584709), (1999, 0.06121501010220234), (2000, 0.10049981677321382), (2001, 0.09101869161081179), (2002, 0.051879988565807306), (2003, 0.10793701666806985), (2004, 0.051661203343029545), (2005, 0.04135238532962126), (2006, 0.05483726054383128), (2007, 0.1151593212781706), (2008, 0.00410349495765515), (2009, 0.07623242828137504), (2010, 0.05369168428285468), (2011, 0.018180130249641165), (2012, 0.07423350430392914), (2013, 0.1191294319856103), (2014, 0.005278251947384934), (2015, 0.004316003115365275), (2016, 0.0030834282092112196), (2017, 0.0041052420199382015), (2018, 0.0035116328507905394), (2019, 0.01783170192214027), (2020, 0.017774500038364473), (2021, 0.01778676860572277), (2022, 0.017766317713021798), (2023, 0.003886565169719543), (2024, 0.003801830398832774), (2025, 0.00343987386897147), (2026, 0.0033612049173265958), (2027, 0.06294430343073622), (2028, 0.0034507186145861495), (2029, 0.004216249631790552), (2030, 0.003418168456254516), (2031, 0.004419271084083099), (2032, 0.0029697162168132413), (2033, 0.0031832879764310774), (2034, 0.10944677981340468), (2035, 0.016461252345663833), (2036, 0.020430775107312747), (2037, 0.0037471457829414824), (2038, 0.0037563929822022318), (2039, 0.01934936167218045), (2040, 0.003216098176661304), (2041, 0.003929288588751466), (2042, 0.003775808594597273), (2043, 0.004411524939647312), (2044, 0.017442173443777235), (2045, 0.018138957936159435), (2046, 0.05523042130123317), (2047, 0.057810597197806), (2048, 0.06820583118075293), (2049, 0.076223481787624), (2050, 0.1018769336131464), (2051, 0.003523471462889078), (2052, 0.11091661659485401), (2053, 0.10290155807420906), (2054, 0.004746100961513498), (2055, 0.018925090759927477), (2056, 0.018951208570652838), (2057, 0.003751493962242629), (2058, 0.0034322199971654364), (2059, 0.017463418212638332), (2060, 0.01983316490426646), (2061, 0.016953406097816155), (2062, 0.01601476889442178), (2063, 0.05625164699759574), (2064, 0.003437576674902833), (2065, 0.018480318039076443), (2066, 0.02179635999804879), (2067, 0.006764020021581753), (2068, 0.006643805911805593), (2069, 0.0022729158834676466), (2070, 0.0023933629250396933), (2071, 0.002077258810463004), (2072, 0.039707606709048084), (2073, 0.03512648244825735), (2074, 0.011677339751072914), (2075, 0.005883595728278657), (2076, 0.017707362233366667), (2077, 0.0037073857760384853), (2078, 0.0034672729598160174), (2079, 0.0038801457739240115), (2080, 0.018771706978531803), (2081, 0.018349641793291623), (2082, 0.028771698676541946), (2083, 0.029783116023564853), (2084, 0.004762025357965136), (2085, 0.017926937532762026), (2086, 0.0038414337991185487), (2087, 0.003645115880424974), (2088, 0.021135227385055508), (2089, 0.004577824138269008), (2090, 0.00441057643132227), (2091, 0.004477037527102442), (2092, 0.004097916934850657), (2093, 0.004137096805968995), (2094, 0.004233403191388291), (2095, 0.02160095404350025), (2096, 0.004308322271570493), (2097, 0.004148046595797379), (2098, 0.0047269503094391615), (2099, 0.004237050558083008), (2100, 0.14838041465366178), (2101, 0.0038005423560034906), (2102, 0.01887722263966273), (2103, 0.006372214386138531), (2104, 0.004130395661697744), (2105, 0.003302780577809949), (2106, 0.03358484047800173), (2107, 0.003323306580652248), (2108, 0.003619443076908711), (2109, 0.004308272662070387), (2110, 0.004113845219799785), (2111, 0.00364682837797547), (2112, 0.004448235836224761), (2113, 0.004375748085987005), (2114, 0.0044841320925758064), (2115, 0.004051100860894873), (2116, 0.021703514351232522), (2117, 0.003945831970777125), (2118, 0.004698323564915899), (2119, 0.00366464469090164), (2120, 0.0042365445454962975), (2121, 0.004874015137581139), (2122, 0.004457153902076146), (2123, 0.004967099786978677), (2124, 0.00866949321773545), (2125, 0.0034973549378210884), (2126, 0.028594821323816952), (2127, 0.007202508779032593), (2128, 0.01895033106326442), (2129, 0.01046579042308118), (2130, 0.008378020017508118), (2131, 0.004506894024822102), (2132, 0.00398474010591141), (2133, 0.02893359942075415), (2134, 0.004869138312299952), (2135, 0.003925219754205767), (2136, 0.0031836195338432174), (2137, 0.0042954393066330174), (2138, 0.0043427566460530745), (2139, 0.01046579042308118), (2140, 0.0038950548462567797), (2141, 0.0031287683056514357), (2142, 0.0036178453164669193), (2143, 0.006764020021581753), (2144, 0.003531988527561643), (2145, 0.0727658334733378), (2146, 0.003967030360746165), (2147, 0.018977316641432554), (2148, 0.026893841535639552), (2149, 0.05764843648692562), (2150, 0.020027620132009476), (2151, 0.004337202274211132), (2152, 0.017484091175984623), (2153, 0.02886169128111543), (2154, 0.019235994054211236), (2155, 0.027306638083327544), (2156, 0.019766968112518823), (2157, 0.01947167374222676), (2158, 0.02106527665344645), (2159, 0.0069628073455250405), (2160, 0.006764020021581753), (2161, 0.01820346222803416), (2162, 0.019947465331729267), (2163, 0.006643805911805593), (2164, 0.018684663609004493), (2165, 0.005006214266655437), (2166, 0.02096966259858154), (2167, 0.020962353333221478), (2168, 0.0040928093746115625), (2169, 0.07775836451681917), (2170, 0.03561500690241814), (2171, 0.0035125376012143886), (2172, 0.021977106030895584), (2173, 0.020423841430982095), (2174, 0.017937967298645014), (2175, 0.004262839306174511), (2176, 0.004387747838682203), (2177, 0.003864446478876196), (2178, 0.004349612862742187), (2179, 0.0035924603711636523), (2180, 0.015083374560165745), (2181, 0.003665782552538601), (2182, 0.00522705275746163), (2183, 0.0043316602339295695), (2184, 0.03301946160025865), (2185, 0.003874628155920565), (2186, 0.003275350933690612), (2187, 0.02020762631341285), (2188, 0.006588191749016461), (2189, 0.019717526050877104), (2190, 0.003901202216592675), (2191, 0.003322091049361047), (2192, 0.0038769960677732113), (2193, 0.01797896244791683), (2194, 0.0035835826636796777), (2195, 0.0032343805377194257), (2196, 0.01978558434480595), (2197, 0.018818278373208003), (2198, 0.0038827584554852732), (2199, 0.022111895103901533), (2200, 0.0038128480626422614), (2201, 0.12742135251320627), (2202, 0.01824824029871317), (2203, 0.018854074183416114), (2204, 0.0035265716805987692), (2205, 0.006289068634473905), (2206, 0.03516352050890979), (2207, 0.020305783527166107), (2208, 0.020639611449479487), (2209, 0.021780525680120934), (2210, 0.003543565186248597), (2211, 0.0035923127247802847), (2212, 0.00616619049357436), (2213, 0.019037064524163205), (2214, 0.0035841799591263012), (2215, 0.003838362835825661), (2216, 0.003605609980830767), (2217, 0.018640023411163168), (2218, 0.0032665846195344232), (2219, 0.002877151163720577), (2220, 0.0037269291417433843), (2221, 0.007536294268862718), (2222, 0.011908230312700043), (2223, 0.019100615201050063), (2224, 0.03358484047800173), (2225, 0.01896851085236427), (2226, 0.03301946160025865), (2227, 0.003965022537648873), (2228, 0.019774702438406833), (2229, 0.0033581799604404153), (2230, 0.0038949540888907255), (2231, 0.02019537884890907), (2232, 0.021882286199789255), (2233, 0.0071015550447520795), (2234, 0.018611698616693616), (2235, 0.003428989177338059), (2236, 0.0037695576622457363), (2237, 0.0036841143018218015), (2238, 0.01850685035169653), (2239, 0.006261267260486698), (2240, 0.0040936102134837135), (2241, 0.003452573077683844), (2242, 0.01891157180721161), (2243, 0.0030481533471157997), (2244, 0.0038580333228669388), (2245, 0.0033708354885692653), (2246, 0.0671752045184988), (2247, 0.003634683427967115), (2248, 0.18121941255691856), (2249, 0.02195427526920257), (2250, 0.01926407075122247), (2251, 0.003380001954861012), (2252, 0.07423350430392914), (2253, 0.003301284655573066), (2254, 0.02266433884918766), (2255, 0.0033308452747708235), (2256, 0.003755872084817858), (2257, 0.02279697715017579), (2258, 0.00398543632436581), (2259, 0.020882721517438665), (2260, 0.004234159762198408), (2261, 0.10637101391446926), (2262, 0.34159591474942996), (2263, 0.021077622145209994), (2264, 0.0035388910131861438), (2265, 0.00364301636924526), (2266, 0.017572653801729187), (2267, 0.004324333807087377), (2268, 0.01915710295015686), (2269, 0.018380765448707707), (2270, 0.0017048812872349375), (2271, 0.0016506411856725169), (2272, 0.0017034441690519544), (2273, 0.0014643262944806978), (2274, 0.0015614548477918288), (2275, 0.0013990609126925718), (2276, 0.01813682693871825), (2277, 0.0038371654902880966), (2278, 0.016763533605371535), (2279, 0.02010868323138455), (2280, 0.003434263173004005), (2281, 0.021155935886512208), (2282, 0.01832793245780314), (2283, 0.003821512930036506), (2284, 0.0037633431761770197), (2285, 0.017081617828107853), (2286, 0.017178264552240915), (2287, 0.01878992486113583), (2288, 0.016984358727301436), (2289, 0.017487074509379436), (2290, 0.017655720105017047), (2291, 0.0474120311084115), (2292, 0.019964079996435805), (2293, 0.02015175580238772), (2294, 0.01997262459483547), (2295, 0.004219496339325465), (2296, 0.004019673483787828), (2297, 0.01834572313814057), (2298, 0.003869187155093214), (2299, 0.05946130722620604), (2300, 0.0022455311937487287), (2301, 0.10486218202231803), (2302, 0.018316254086378204), (2303, 0.003348188178259985), (2304, 0.003030806404476966), (2305, 0.045221666721050095), (2306, 0.06554765314264929), (2307, 0.03894447080616212), (2308, 0.0036473206372742493), (2309, 0.0029580406983983386), (2310, 0.0033998829467494396), (2311, 0.0031354741405668443), (2312, 0.01699990808068278), (2313, 0.017438801893090786), (2314, 0.01629008721736283), (2315, 0.015738870785349766), (2316, 0.003644763453343635), (2317, 0.003564798288728101), (2318, 0.003599421396036007), (2319, 0.0033822595249978988), (2320, 0.01756254569029487), (2321, 0.042482708636757946), (2322, 0.006764020021581753), (2323, 0.018060154417533125), (2324, 0.022381281290303163), (2325, 0.023730548903759075), (2326, 0.0034900139564602605), (2327, 0.0030763653845640913), (2328, 0.03605490491816205), (2329, 0.038232361537935196), (2330, 0.011846133140316285), (2331, 0.020072839832602718), (2332, 0.003961564575794895), (2333, 0.0035627015126444175), (2334, 0.003968897445255606), (2335, 0.0037591189423839197), (2336, 0.048196462742772936), (2337, 0.0029136678495878957), (2338, 0.01977834409687991), (2339, 0.00362316820950822), (2340, 0.003628975817686675), (2341, 0.005879196393524116), (2342, 0.02968425609667867), (2343, 0.02066102197390784), (2344, 0.00404031327905694), (2345, 0.018944883301622296), (2346, 0.007582851527076305), (2347, 0.004015260496786919), (2348, 0.003402830298355121), (2349, 0.003584839060328017), (2350, 0.004430230021459288), (2351, 0.020566211083271488), (2352, 0.003964978643355503), (2353, 0.004492035918438389), (2354, 0.020244738843772706), (2355, 0.003360824314541829), (2356, 0.02016057103785916), (2357, 0.016902851488929407), (2358, 0.0030528883752124563), (2359, 0.003594812457631675), (2360, 0.06897582324539667), (2361, 0.0014520075476908425), (2362, 0.0033063206384575093), (2363, 0.0032819767978436894), (2364, 0.020504107469821613), (2365, 0.015790739118993122), (2366, 0.00341775031420185), (2367, 0.0032958572191022183), (2368, 0.0032186950269772157), (2369, 0.01710024459043285), (2370, 0.018983531395293667), (2371, 0.003590342335022391), (2372, 0.003998836538654557), (2373, 0.004378142397806573), (2374, 0.0034499205838523527), (2375, 0.019324745861629255), (2376, 0.02159654702151504), (2377, 0.018857686058178873), (2378, 0.017220228984876098), (2379, 0.02183868531152237), (2380, 0.019575316399918694), (2381, 0.0033282856673665017), (2382, 0.004303387812686086), (2383, 0.01796178066137348), (2384, 0.01933445355850129), (2385, 0.019538295383235593), (2386, 0.003541709407028909), (2387, 0.0037623998309104702), (2388, 0.00357354106619333), (2389, 0.01790789257158852), (2390, 0.016998372317370676), (2391, 0.0572783037237256), (2392, 0.01724525390700079), (2393, 0.019441491519966717), (2394, 0.030767918701079564), (2395, 0.0032984838958970164), (2396, 0.005962008802857587), (2397, 0.003648351967251019), (2398, 0.018689957319969596), (2399, 0.01832164540124836), (2400, 0.00374384508504833), (2401, 0.003313545644991296), (2402, 0.0751209247268303), (2403, 0.018661418222294574), (2404, 0.003564802268133202), (2405, 0.05757427766439087), (2406, 0.029783116023564853), (2407, 0.14066844704665532), (2408, 0.05537765017144542), (2409, 0.017152864123325683), (2410, 0.00445068101005952), (2411, 0.018301864131630347), (2412, 0.0031967030276277013), (2413, 0.027525962842027286), (2414, 0.02059664390562512), (2415, 0.03516352050890979), (2416, 0.022107435570264098), (2417, 0.020714652269872062), (2418, 0.003973605021360568), (2419, 0.005941343274073783), (2420, 0.0031664704074721457), (2421, 0.0033953004710295187), (2422, 0.003252092069762484), (2423, 0.15325341411374208), (2424, 0.003628374289507181), (2425, 0.020586390582379065), (2426, 0.0034745305140053027), (2427, 0.0036790296947008666), (2428, 0.003573514855820641), (2429, 0.003314850811204382), (2430, 0.0039862521072680564), (2431, 0.00412864566116695), (2432, 0.0030519013736856693), (2433, 0.003415901192900136), (2434, 0.00298471344109706), (2435, 0.003800796097399135), (2436, 0.0029556255471895917), (2437, 0.003244857838512843), (2438, 0.0031929224822112618), (2439, 0.0032941170060755147), (2440, 0.0031897902368567196), (2441, 0.003748360810224537), (2442, 0.0036514436273015847), (2443, 0.0032827696481187315), (2444, 0.0038015433859163263), (2445, 0.012380799072004683), (2446, 0.017538389608516766), (2447, 0.003933534064958941), (2448, 0.003422643008501234), (2449, 0.019655449349041138), (2450, 0.03358484047800173), (2451, 0.00419858238804402), (2452, 0.020595473507749394), (2453, 0.19500717541200047), (2454, 0.006643805911805593), (2455, 0.0035953517818900424), (2456, 0.003615223201172436), (2457, 0.003843724898929736), (2458, 0.004546686452386508), (2459, 0.017049096581355352), (2460, 0.004288038091548727), (2461, 0.004614717166186464), (2462, 0.056938603863870424), (2463, 0.03177689974569414), (2464, 0.003385347365403499), (2465, 0.018767532067208943), (2466, 0.11819898175105832), (2467, 0.017409481220647845), (2468, 0.003952640236359142), (2469, 0.004099787193072398), (2470, 0.003609324916569795), (2471, 0.0047561228482263605), (2472, 0.003417084249036729), (2473, 0.1298950229235252), (2474, 0.0188166977429648), (2475, 0.0036913846583313445), (2476, 0.019526200794745874), (2477, 0.0035930846284939004), (2478, 0.003354755817523114), (2479, 0.020123909085385545), (2480, 0.003739880880818554), (2481, 0.019914906813578603), (2482, 0.0034544513942839604), (2483, 0.005962008802857587), (2484, 0.01855518010212836), (2485, 0.003699355755955139), (2486, 0.004072062400298888), (2487, 0.01844085782177876), (2488, 0.02071805355279162), (2489, 0.0180118210090299), (2490, 0.022603180794896833), (2491, 0.018936776607772494), (2492, 0.0039635859106224676), (2493, 0.022159180122534462), (2494, 0.018323936226694253), (2495, 0.03177689974569414), (2496, 0.003624845587980878), (2497, 0.0036629683169490342), (2498, 0.006764020021581753), (2499, 0.03516352050890979), (2500, 0.0035322209455881104), (2501, 0.004239180643409492), (2502, 0.018006526785160612), (2503, 0.020075100444044952), (2504, 0.019831753501299357), (2505, 0.1429693196063271), (2506, 0.003490050152143965), (2507, 0.0071015550447520795), (2508, 0.0038497239867324156), (2509, 0.005978068763690909), (2510, 0.0053954085703322935), (2511, 0.003525317825317933), (2512, 0.017344491541935507), (2513, 0.00413037699983606), (2514, 0.003606149657441519), (2515, 0.003178487558970219), (2516, 0.0037725984187363683), (2517, 0.00386395261038873), (2518, 0.004109792208789978), (2519, 0.016339579320548317), (2520, 0.0038976627672020403), (2521, 0.049792531874965934), (2522, 0.0187942724943464), (2523, 0.003110733649447859), (2524, 0.020022515626034527), (2525, 0.00479964688727738), (2526, 0.00374473652512108), (2527, 0.004257013196897873), (2528, 0.01915490800919623), (2529, 0.021555852341943658), (2530, 0.00347059376874428), (2531, 0.0032920070819414996), (2532, 0.019179774947913383), (2533, 0.006643805911805593), (2534, 0.0033057624065001207), (2535, 0.020660197067452386), (2536, 0.003952112476202882), (2537, 0.01709564756336555), (2538, 0.01748916234797476), (2539, 0.0017472512656522099), (2540, 0.001591549038968675), (2541, 0.0017706343568244074), (2542, 0.0017639753291032625), (2543, 0.0017748190112267727), (2544, 0.0017458314371520524), (2545, 0.0035963735393528262), (2546, 0.0035343130066679777), (2547, 0.003423697472440014), (2548, 0.016809312299039064), (2549, 0.003158260284383085), (2550, 0.0017987527832842847), (2551, 0.001515762186803744), (2552, 0.0015513138596693718), (2553, 0.001797589909988854), (2554, 0.0015423578013822785), (2555, 0.0015852116449165301), (2556, 0.0016624798548559826), (2557, 0.0016000878601027274), (2558, 0.0017844879382072762), (2559, 0.0016685244402226528), (2560, 0.0036066646972972224), (2561, 0.003693210373045786), (2562, 0.016628913052988872), (2563, 0.003796741854619604), (2564, 0.018558338438534196), (2565, 0.0035338893162918444), (2566, 0.0038094741773283436), (2567, 0.003726539540918504), (2568, 0.0036961748461408553), (2569, 0.003939314599215644), (2570, 0.0030308659047750546), (2571, 0.003677487243451885), (2572, 0.002928663763747437), (2573, 0.0032556187894389964), (2574, 0.003897252173305332), (2575, 0.0038625804719797066), (2576, 0.02000098479106238), (2577, 0.003413961133770715), (2578, 0.005941343274073783), (2579, 0.00773552164533159), (2580, 0.018272460801061267), (2581, 0.004049951165580922), (2582, 0.003205561639142616), (2583, 0.018102299482941345), (2584, 0.00604879073901814), (2585, 0.00604879073901814), (2586, 0.005845479630155771), (2587, 0.005845479630155771), (2588, 0.00604879073901814), (2589, 0.00604879073901814), (2590, 0.005845479630155771), (2591, 0.005845479630155771), (2592, 0.006643805911805593), (2593, 0.019935176408984925), (2594, 0.006685143994851071), (2595, 0.017183573581639435), (2596, 0.023462959671363633), (2597, 0.03301946160025865), (2598, 0.003714695375200347), (2599, 0.17579111922143892), (2600, 0.004316458019233425), (2601, 0.02263371882765255), (2602, 0.033104157900230954), (2603, 0.0035963209563716907), (2604, 0.0036758476176888947), (2605, 0.0033845350833108644), (2606, 0.019466781708158857), (2607, 0.003924561290173189), (2608, 0.020477922314842644), (2609, 0.01792643406635464), (2610, 0.003810760237910094), (2611, 0.018502376269971144), (2612, 0.09015203051658226), (2613, 0.016972162869495433), (2614, 0.0034902901779539463), (2615, 0.006643805911805593), (2616, 0.003894807814624844), (2617, 0.005772511801080166), (2618, 0.016484829759548104), (2619, 0.003915695877478825), (2620, 0.003295592144575679), (2621, 0.05397332466069005), (2622, 0.0032062547044412882), (2623, 0.01915520493377958), (2624, 0.003970793226159605), (2625, 0.016846223547464786), (2626, 0.03177689974569414), (2627, 0.00666179265483767), (2628, 0.016246500583715746), (2629, 0.01613428944228159), (2630, 0.017233246727095707), (2631, 0.0037718175534078736), (2632, 0.058688871782610355), (2633, 0.01985138488147911), (2634, 0.0030130299950943858), (2635, 0.017254132455135233), (2636, 0.01755423144666769), (2637, 0.0057510094317974655), (2638, 0.004477662155881882), (2639, 0.003911623342943868), (2640, 0.0034661047796950436), (2641, 0.004189915304717562), (2642, 0.003438733277747425), (2643, 0.0033157481076211965), (2644, 0.004581060574610556), (2645, 0.01733988622934577), (2646, 0.0034969549976914564), (2647, 0.018730262428221338), (2648, 0.033104157900230954), (2649, 0.004632213796690932), (2650, 0.054569307496236924), (2651, 0.004610205719369043), (2652, 0.005883595728278657), (2653, 0.0037931824244896275), (2654, 0.017878982562127603), (2655, 0.004342280895672206), (2656, 0.007577516287898196), (2657, 0.0034817614410056355), (2658, 0.01748520986018514), (2659, 0.018139314558809804), (2660, 0.017697105010923364), (2661, 0.003907958124561998), (2662, 0.020843798322756388), (2663, 0.03565768194259968), (2664, 0.030800246156597943), (2665, 0.003940275176786634), (2666, 0.0040088184739016505), (2667, 0.003751669305379044), (2668, 0.003773211662589618), (2669, 0.00370433605250971), (2670, 0.007198609025217102), (2671, 0.017577772937017323), (2672, 0.006764020021581753), (2673, 0.11002166560554806), (2674, 0.0036629777722355567), (2675, 0.0034189248685730375), (2676, 0.003144851169788908), (2677, 0.02090992391389673), (2678, 0.03301946160025865), (2679, 0.003424269757444594), (2680, 0.019218431886674475), (2681, 0.003623920292206557), (2682, 0.018598584861726115), (2683, 0.004030268490293779), (2684, 0.020123906732548318), (2685, 0.007049914309876132), (2686, 0.0038457340631825746), (2687, 0.004196175339790213), (2688, 0.0053954085703322935), (2689, 0.0063807917289101165), (2690, 0.0039259188204366765), (2691, 0.01957279388668135), (2692, 0.023939005468516832), (2693, 0.0035524314358685374), (2694, 0.0037547706612353587), (2695, 0.0036602073569168285), (2696, 0.0038629290123817694), (2697, 0.018699373196345688), (2698, 0.022163819969471445), (2699, 0.019475276422371707), (2700, 0.018351265915717268), (2701, 0.002986958701333352), (2702, 0.0030195979101828793), (2703, 0.01795614145073679), (2704, 0.016896221062059732), (2705, 0.018463312867678935), (2706, 0.012300435261703855), (2707, 0.012165171910736038), (2708, 0.0211325293781933), (2709, 0.049722543934081806), (2710, 0.01739502801043639), (2711, 0.025777650392479815), (2712, 0.16656702403782872), (2713, 0.0036532708203401263), (2714, 0.0034996979556763284), (2715, 0.0033756288502482077), (2716, 0.05245261530609972), (2717, 0.020862479681843828), (2718, 0.01769791769403013), (2719, 0.003061959438933912), (2720, 0.0030720765849189453), (2721, 0.017049096581355352), (2722, 0.07959879943671726), (2723, 0.005883595728278657), (2724, 0.005986347959187071), (2725, 0.005312599139032231), (2726, 0.0040999223523736335), (2727, 0.003054711494851161), (2728, 0.003032600698518171), (2729, 0.0035206954428807537), (2730, 0.004246385453461527), (2731, 0.003688401161950822), (2732, 0.006764020021581753), (2733, 0.0048133326657155105), (2734, 0.0038297721540243917), (2735, 0.003251059078233382), (2736, 0.005962008802857587), (2737, 0.005962008802857587), (2738, 0.0036822506564278667), (2739, 0.003653392659634411), (2740, 0.06305417058353369), (2741, 0.0204573149849762), (2742, 0.004106851997939626), (2743, 0.07423350430392914), (2744, 0.005278468747854569), (2745, 0.0074096364320033305), (2746, 0.02641543435414081), (2747, 0.030767918701079564), (2748, 0.02217992746812878), (2749, 0.019601997536203928), (2750, 0.02236098168484414), (2751, 0.03177689974569414), (2752, 0.0036511057399796864), (2753, 0.003375639248766801), (2754, 0.00515523654965384), (2755, 0.01980922965217811), (2756, 0.006372214386138531), (2757, 0.03115612368500002), (2758, 0.04334942528733672), (2759, 0.003632698868583248), (2760, 0.003974082107149709), (2761, 0.02269519377762015), (2762, 0.006864668955176844), (2763, 0.0036253080733731117), (2764, 0.0033602736875322243), (2765, 0.0034913914198471787), (2766, 0.003803046672499054), (2767, 0.004209304650922708), (2768, 0.07103959483150553), (2769, 0.004341889373057424), (2770, 0.004685357735465152), (2771, 0.01999159445406757), (2772, 0.004010618038447811), (2773, 0.004062523819977724), (2774, 0.01830720476318871), (2775, 0.026242848747636514), (2776, 0.03232596797086537), (2777, 0.0035351004650779156), (2778, 0.0033053471801672706), (2779, 0.02433068015698749), (2780, 0.005772511801080166), (2781, 0.019529305122706148), (2782, 0.0035850859330274114), (2783, 0.0040460494121085004), (2784, 0.0034136914907989036), (2785, 0.024619783759624213), (2786, 0.00397311547101192), (2787, 0.14005048951904528), (2788, 0.003553714985660998), (2789, 0.003649875244673193), (2790, 0.003290330749748801), (2791, 0.01659791639035884), (2792, 0.003815910430547624), (2793, 0.017095543038094973), (2794, 0.036219063361538746), (2795, 0.0336739742143273), (2796, 0.004108064641062941), (2797, 0.07539986311562231), (2798, 0.030767918701079564), (2799, 0.05620822559833828), (2800, 0.02346474661510013), (2801, 0.016383824618337862), (2802, 0.019948121196117878), (2803, 0.004552463965698811), (2804, 0.018879059196531683), (2805, 0.03177689974569414), (2806, 0.06747962943948918), (2807, 0.0032889975979762533), (2808, 0.0171515717073358), (2809, 0.003770905062997134), (2810, 0.13171150432319437), (2811, 0.0034537957758636805), (2812, 0.002947602488017565), (2813, 0.0034229400538576624), (2814, 0.003512992520036288), (2815, 0.003886816775868657), (2816, 0.021139540203479867), (2817, 0.003763688065781437), (2818, 0.10285915204526551), (2819, 0.004081377215247306), (2820, 0.0053954085703322935), (2821, 0.0063807917289101165), (2822, 0.0039531162573343895), (2823, 0.0035765655055449144), (2824, 0.01859646492257111), (2825, 0.036219063361538746), (2826, 0.020073875211768323), (2827, 0.003614830947956887), (2828, 0.004185204318320461), (2829, 0.021273623052289053), (2830, 0.003526811725921551), (2831, 0.0033479133659862124), (2832, 0.0036246136975910293), (2833, 0.003904790382049499), (2834, 0.01848228901846255), (2835, 0.014563333793198264), (2836, 0.004700506632242507), (2837, 0.05580661140502869), (2838, 0.004081263926709069), (2839, 0.006643805911805593), (2840, 0.004226915286447416), (2841, 0.0035596422442008353), (2842, 0.019528734252662435), (2843, 0.004193575357789682), (2844, 0.004570530932354104), (2845, 0.0071015550447520795), (2846, 0.018486460534114242), (2847, 0.021173756774837453), (2848, 0.020896238090768085), (2849, 0.003410422332760738), (2850, 0.0036251585691950807), (2851, 0.12079322782784081), (2852, 0.003592883409327341), (2853, 0.0033439114375470058), (2854, 0.003504501498469133), (2855, 0.0034798829534907214), (2856, 0.003436044848207658), (2857, 0.017598760347652273), (2858, 0.0030821322571934597), (2859, 0.0035450658117412207), (2860, 0.0038199732560887643), (2861, 0.003301825079503069), (2862, 0.0031998483745416615), (2863, 0.00419810942683564), (2864, 0.0578617653803942), (2865, 0.0024331488743162713), (2866, 0.0026593796199341703), (2867, 0.0044006003510537045), (2868, 0.003841203205695336), (2869, 0.0037291366750001127), (2870, 0.0036539487728459883), (2871, 0.005512988074833368), (2872, 0.018053278918581165), (2873, 0.020187848322703452), (2874, 0.0036689857673640725), (2875, 0.023945246365829884), (2876, 0.0031302193764585024), (2877, 0.004097133640505294), (2878, 0.004453026076766382), (2879, 0.05722588696236324), (2880, 0.0036895918506425246), (2881, 0.003495010537254173), (2882, 0.003458269611127919), (2883, 0.0051990514370841715), (2884, 0.025095967409266434), (2885, 0.003119441380387011), (2886, 0.020027620132009476), (2887, 0.004301672784133438), (2888, 0.03301946160025865), (2889, 0.020632351263363234), (2890, 0.004329868254846202), (2891, 0.020018314694319857), (2892, 0.003900025785809044), (2893, 0.006116169283075993), (2894, 0.0032835270843565197), (2895, 0.0033845350833108644), (2896, 0.003304911523350283), (2897, 0.003329407650215295), (2898, 0.1259171364718746), (2899, 0.01996545800440503), (2900, 0.003763157689786189), (2901, 0.0036540910529562778), (2902, 0.0038169301921405344), (2903, 0.004462311553969416), (2904, 0.0035216450821373884), (2905, 0.003368376510509147), (2906, 0.0033732432413203003), (2907, 0.004975664505459605), (2908, 0.018966996425708607), (2909, 0.003844288073494217), (2910, 0.0203637147243637), (2911, 0.0733292429913035), (2912, 0.02070892472800511), (2913, 0.004038820990324931), (2914, 0.017496095679667437), (2915, 0.01986996654472454), (2916, 0.0036851103621098552), (2917, 0.003970945362299447), (2918, 0.003760527794652587), (2919, 0.004268851851305104), (2920, 0.03451617072906621), (2921, 0.0034638987866035297), (2922, 0.007997536877331606), (2923, 0.036592840610393834), (2924, 0.011703987052779388), (2925, 0.018542514432240684), (2926, 0.003598671313502732), (2927, 0.01577149721835234), (2928, 0.0032699222753527703), (2929, 0.011458089369361862), (2930, 0.0041689282923360405), (2931, 0.004029828228211648), (2932, 0.004020900622617557), (2933, 0.020410997459836537), (2934, 0.03177689974569414), (2935, 0.0031929550019898553), (2936, 0.003965624582734035), (2937, 0.0034623227483969498), (2938, 0.01886396201790763), (2939, 0.005858598629253387), (2940, 0.004014513503653789), (2941, 0.015918041467633866), (2942, 0.0033288439686340364), (2943, 0.019882024054788065), (2944, 0.11668764775518194), (2945, 0.0575578303440433), (2946, 0.0033002655929381362), (2947, 0.0036616571656773486), (2948, 0.0037263100275845423), (2949, 0.018376101328388312), (2950, 0.016704000080339936), (2951, 0.025457133687058788), (2952, 0.018799500013947083), (2953, 0.023578120197150523), (2954, 0.003997729225524866), (2955, 0.019657916161911045), (2956, 0.019275886564534883), (2957, 0.01987793559905886), (2958, 0.038218510553793855), (2959, 0.03312828259444705), (2960, 0.006372214386138531), (2961, 0.027400146995321596), (2962, 0.01851956504656065), (2963, 0.003704819520932449), (2964, 0.06712214061900192), (2965, 0.004521265740657888), (2966, 0.0038357598400677513), (2967, 0.023507091550657798), (2968, 0.00397460045814505), (2969, 0.003555135367532669), (2970, 0.016585369227076263), (2971, 0.018081489983528008), (2972, 0.0033995852899163263), (2973, 0.0035315414966991684), (2974, 0.003291321328878084), (2975, 0.006310965549127161), (2976, 0.003674639974537918), (2977, 0.020733863438261238), (2978, 0.003769855804054824), (2979, 0.0047561228482263605), (2980, 0.017665546300489145), (2981, 0.0030945850217380237), (2982, 0.022265122785812212), (2983, 0.0039700450538926605), (2984, 0.003580638191017544), (2985, 0.0039857729717218794), (2986, 0.021986176843182874), (2987, 0.00293135120174873), (2988, 0.004628139876394273), (2989, 0.004548617437845183), (2990, 0.020598153303949124), (2991, 0.0029857405136325616), (2992, 0.0033534876699040906), (2993, 0.01943886432726852), (2994, 0.012380799072004683), (2995, 0.003534247162282162), (2996, 0.3006712680678278), (2997, 0.019641670503167636), (2998, 0.018794846342334123), (2999, 0.0035388910131861438), (3000, 0.006584468324440853), (3001, 0.0035582256151390607), (3002, 0.003769576154549296), (3003, 0.004842139169492544), (3004, 0.004194877126796966), (3005, 0.0038855201298733737), (3006, 0.026608988111205562), (3007, 0.018643741200740638), (3008, 0.004344308908454296), (3009, 0.03561500690241814), (3010, 0.004418810036321389), (3011, 0.0036496925444208243), (3012, 0.003430670034603978), (3013, 0.003779304427031315), (3014, 0.016996858142694936), (3015, 0.004250779628384183), (3016, 0.005515841910275098), (3017, 0.0041999629711559), (3018, 0.019765568948187352), (3019, 0.005295642438459966), (3020, 0.0072077950179686625), (3021, 0.04473647164113431), (3022, 0.003671945037726449), (3023, 0.00356944111322762), (3024, 0.4831890279215211), (3025, 0.0339906652267444), (3026, 0.005356162444188224), (3027, 0.003522928567294847), (3028, 0.023837945304342058), (3029, 0.004499596583292259), (3030, 0.018231755671464248), (3031, 0.003727769570168241), (3032, 0.0035886236303039145), (3033, 0.006764020021581753), (3034, 0.003740551845909949), (3035, 0.15257940712081922), (3036, 0.0036047298653200137), (3037, 0.1671133051278026), (3038, 0.006643805911805593), (3039, 0.020925044045563543), (3040, 0.02148079154539271), (3041, 0.006764020021581753), (3042, 0.018321022331707966), (3043, 0.0315924613676507), (3044, 0.0037927283226270054), (3045, 0.0040243197254251906), (3046, 0.003984911122638952), (3047, 0.0030818105935462607), (3048, 0.00437903822317394), (3049, 0.0031501155340837666), (3050, 0.02041010756838281), (3051, 0.0035402918290458976), (3052, 0.0032677427661273427), (3053, 0.004086346527353158), (3054, 0.02299282508993599), (3055, 0.0072077950179686625), (3056, 0.016092656763878638), (3057, 0.0037860884415522713), (3058, 0.0036668473911928325), (3059, 0.030592852949209402), (3060, 0.0036099790801183067), (3061, 0.0038331868075724466), (3062, 0.003200851863815685), (3063, 0.03415389549778145), (3064, 0.003868156544022839), (3065, 0.003759354937498774), (3066, 0.018730574342827554), (3067, 0.125147123287975), (3068, 0.003891872597725713), (3069, 0.10706640477688666), (3070, 0.003983157109537515), (3071, 0.003386631652843664), (3072, 0.023945246365829884), (3073, 0.02086925765756461), (3074, 0.004493116385586084), (3075, 0.004283639994793842), (3076, 0.0030403599018202386), (3077, 0.00448237637001653), (3078, 0.0037558328991037404), (3079, 0.004763350839743654), (3080, 0.0037162404058830472), (3081, 0.004534288525360945), (3082, 0.006341186800986509), (3083, 0.00404932938350988), (3084, 0.01837626001833104), (3085, 0.055063672771229574), (3086, 0.0041957420677324895), (3087, 0.017775682681961703), (3088, 0.004194861637932018), (3089, 0.003303288334167392), (3090, 0.030878237896761078), (3091, 0.0036197169299566245), (3092, 0.003515455660634155), (3093, 0.006390073761997238), (3094, 0.0186898090652593), (3095, 0.004078489512461516), (3096, 0.004297671441969769), (3097, 0.006643805911805593), (3098, 0.06752667198551295), (3099, 0.05996833080188141), (3100, 0.0036054820776400876), (3101, 0.00524963430733618), (3102, 0.006643805911805593), (3103, 0.0036348502118509767), (3104, 0.004656784907234406), (3105, 0.0193512671134858), (3106, 0.0037825875160506497), (3107, 0.0031134780971288642), (3108, 0.018812816660141233), (3109, 0.019251015172277217), (3110, 0.0036616381574527727), (3111, 0.01781857017333141), (3112, 0.0035883146873862347), (3113, 0.0030291235020727288), (3114, 0.0038171046241842086), (3115, 0.003269047246034843), (3116, 0.003207840017929728), (3117, 0.020000055585619084), (3118, 0.0037561620835849935), (3119, 0.024475771070234235), (3120, 0.003723657835882248), (3121, 0.0232274937294801), (3122, 0.05133992988499853), (3123, 0.0039183072052771965), (3124, 0.0041356422803701135), (3125, 0.00432331062296845), (3126, 0.0035258040467136104), (3127, 0.004434886853598409), (3128, 0.003847121106643917), (3129, 0.0035854700073043914), (3130, 0.018349361698618224), (3131, 0.004059073273060292), (3132, 0.036592840610393834), (3133, 0.00384240990368586), (3134, 0.05504383709259578), (3135, 0.004715310930416183), (3136, 0.023683936354855006), (3137, 0.007362042085182524), (3138, 0.00411068791046849), (3139, 0.004290239593195801), (3140, 0.03301946160025865), (3141, 0.018352993387535894), (3142, 0.03046603135670399), (3143, 0.016887912043383132), (3144, 0.01875170856441319), (3145, 0.028100479924045685), (3146, 0.005312599139032231), (3147, 0.0035395154162371815), (3148, 0.026867206154399952), (3149, 0.01970929769498391), (3150, 0.028628378938203004), (3151, 0.005597480724132276), (3152, 0.05853814543303076), (3153, 0.025605949632408222), (3154, 0.003665782552538601), (3155, 0.004217934899761819), (3156, 0.016181462388051), (3157, 0.017823359079202274), (3158, 0.00365821080061067), (3159, 0.003372238525734584), (3160, 0.0035623740421226167), (3161, 0.0039019230568072224), (3162, 0.011645156646601955), (3163, 0.011200841462012959), (3164, 0.02306374914300113), (3165, 0.0031803088452570997), (3166, 0.0034581650655403184), (3167, 0.1362564722212589), (3168, 0.0035034650925330384), (3169, 0.004116506583384374), (3170, 0.019470021737695967), (3171, 0.003914417065581485), (3172, 0.019471161259385805), (3173, 0.018697497881659413), (3174, 0.003427533081234869), (3175, 0.0171739113197117), (3176, 0.002768964381331709), (3177, 0.020048095329721648), (3178, 0.0034396068959518613), (3179, 0.01740392609755207), (3180, 0.0037192427920281763), (3181, 0.004549418433922667), (3182, 0.0033119972994632607), (3183, 0.0036808220587477413), (3184, 0.0030799661108070137), (3185, 0.01830874648867557), (3186, 0.005772511801080166), (3187, 0.004308272662070387), (3188, 0.006310965549127161), (3189, 0.004346278732921812), (3190, 0.0053954085703322935), (3191, 0.029250781532268302), (3192, 0.02974574720802347), (3193, 0.0175493889547679), (3194, 0.003721524652793597), (3195, 0.09883686967148267), (3196, 0.10759788277891948), (3197, 0.005978068763690909), (3198, 0.19929175630688822), (3199, 0.021493053992655265), (3200, 0.006139060077864843), (3201, 0.003558010479824626), (3202, 0.005237664435260954), (3203, 0.003536873913299502), (3204, 0.036592840610393834), (3205, 0.002270020466970016), (3206, 0.005968047901679011), (3207, 0.003294453562090856), (3208, 0.020500381177763934), (3209, 0.003192868111914885), (3210, 0.011314501994189468), (3211, 0.019917107106218034), (3212, 0.005968047901679011), (3213, 0.0042205579950024726), (3214, 0.003663640450950006), (3215, 0.017954613967876856), (3216, 0.019103301112401258), (3217, 0.037242559176984935), (3218, 0.02005787150219403), (3219, 0.020722735192673026), (3220, 0.0034655760403684947), (3221, 0.003413722321331017), (3222, 0.03358484047800173), (3223, 0.003229718761646744), (3224, 0.018111050091282787), (3225, 0.004290268758191648), (3226, 0.024358174261442045), (3227, 0.003672913361965126), (3228, 0.02042190538066251), (3229, 0.016092957060643738), (3230, 0.03358484047800173), (3231, 0.02684757889314456), (3232, 0.020459306266475782), (3233, 0.018258437680575102), (3234, 0.021651326702974698), (3235, 0.01603654282572124), (3236, 0.003194055964464423), (3237, 0.003728413756830987), (3238, 0.006204951748941571), (3239, 0.004092936814083472), (3240, 0.01736757630290899), (3241, 0.07396995938688306), (3242, 0.01781857017333141), (3243, 0.004001249278415148), (3244, 0.0036627054096888836), (3245, 0.004467121946908708), (3246, 0.023945246365829884), (3247, 0.0034348077976910467), (3248, 0.003127152823348492), (3249, 0.0033494031298510808), (3250, 0.0186020166492205), (3251, 0.004152151189942859), (3252, 0.024532556648343213), (3253, 0.003985605582526983), (3254, 0.04348002591487836), (3255, 0.004153702230739777), (3256, 0.003444619571179043), (3257, 0.0038352486185369242), (3258, 0.024158260542752406), (3259, 0.003735472620128179), (3260, 0.0038281330604413998), (3261, 0.005677511115387944), (3262, 0.028376463872350495), (3263, 0.003749395953017103), (3264, 0.0038947765607518616), (3265, 0.0065046322857630744), (3266, 0.0040714895595229785), (3267, 0.02026582821247144), (3268, 0.019543517206791323), (3269, 0.04461617178948407), (3270, 0.14978679244288817), (3271, 0.004182576280640512), (3272, 0.017235970418432334), (3273, 0.0035222261871613817), (3274, 0.003968306024024143), (3275, 0.0031527282660682625), (3276, 0.0039047478077779024), (3277, 0.004126236434580586), (3278, 0.0033560558445929044), (3279, 0.0034463327667271014), (3280, 0.003560672692935079), (3281, 0.017113748740926218), (3282, 0.0038564518517456422), (3283, 0.004049566745439121), (3284, 0.00479964688727738), (3285, 0.0037768754903222714), (3286, 0.0034522812690392507), (3287, 0.003905826448999141), (3288, 0.003323116784651626), (3289, 0.022509151083436978), (3290, 0.0071015550447520795), (3291, 0.0071015550447520795), (3292, 0.003672087628105753), (3293, 0.019983211875625823), (3294, 0.004063496930740511), (3295, 0.016783434675685605), (3296, 0.05412334970344682), (3297, 0.004788571497060847), (3298, 0.006341186800986509), (3299, 0.021371112589999717)]\n"
     ]
    }
   ],
   "source": [
    "similarity_score = list(enumerate(similarity[index_of_the_movie]))\n",
    "print(similarity_score)"
   ]
  },
  {
   "cell_type": "code",
   "execution_count": 263,
   "id": "bc5a4b26",
   "metadata": {},
   "outputs": [
    {
     "name": "stdout",
     "output_type": "stream",
     "text": [
      "[(0, 1.0000000000000002), (3024, 0.4831890279215211), (2262, 0.34159591474942996), (2996, 0.3006712680678278), (1489, 0.2221392795504276), (1738, 0.20310755819294998), (3198, 0.19929175630688822), (2453, 0.19500717541200047), (2248, 0.18121941255691856), (2599, 0.17579111922143892), (405, 0.1692889170091611), (1792, 0.16723795281971188), (3037, 0.1671133051278026), (2712, 0.16656702403782872), (240, 0.16529710346257295), (129, 0.16312985964521892), (1491, 0.1575252279013067), (1918, 0.15731825512974346), (1813, 0.15703021006335963), (991, 0.15458292296384535), (2423, 0.15325341411374208), (3035, 0.15257940712081922), (1075, 0.15115874186758435), (3270, 0.14978679244288817), (2100, 0.14838041465366178), (1959, 0.14821032790426436), (1817, 0.1481429108343605), (691, 0.146464089917996), (2505, 0.1429693196063271), (1936, 0.14076195836593156), (1018, 0.1407116393076353), (2407, 0.14066844704665532), (608, 0.14051038064230054), (2787, 0.14005048951904528), (3167, 0.1362564722212589), (25, 0.13609552810887898), (1023, 0.13547168439776358), (1206, 0.13539935403785058), (662, 0.13205840742336447), (2810, 0.13171150432319437), (1803, 0.1310106276699568), (1635, 0.13065551486603236), (490, 0.1299073505387769), (2473, 0.1298950229235252), (291, 0.12926654565289972), (1515, 0.12851192103636697), (1022, 0.12820379624503128), (656, 0.1279784686742644), (935, 0.12782522732490753), (720, 0.12742798773764807), (2201, 0.12742135251320627), (589, 0.1264404749459833), (261, 0.12628832978076532), (1450, 0.1261611886207651), (2898, 0.1259171364718746), (753, 0.12534925136026476), (3067, 0.125147123287975), (42, 0.12189623676939608), (1021, 0.12188510070153079), (702, 0.12154512486395914), (1015, 0.12145167921629689), (622, 0.12142329075804757), (909, 0.12093058474630732), (2851, 0.12079322782784081), (587, 0.12074800100406889), (875, 0.12071119056892204), (546, 0.12032067018396586), (235, 0.12027812106954966), (1024, 0.1197594953891937), (811, 0.1197014845982347), (581, 0.11954723718248372), (2013, 0.1191294319856103), (1630, 0.11831385258415966), (2466, 0.11819898175105832), (961, 0.11727161450221132), (2944, 0.11668764775518194), (651, 0.11648960146895561), (770, 0.11538220703009414), (2007, 0.1151593212781706), (913, 0.1151317525332562), (2052, 0.11091661659485401), (2673, 0.11002166560554806), (1017, 0.10953895245766283), (2034, 0.10944677981340468), (860, 0.10926016912772678), (1942, 0.10835009650970322), (1943, 0.10835009650970322), (552, 0.10817361486057273), (1025, 0.1081502650096127), (2003, 0.10793701666806985), (3196, 0.10759788277891948), (3069, 0.10706640477688666), (2261, 0.10637101391446926), (2301, 0.10486218202231803), (1992, 0.10479660140728833), (1055, 0.10393462591991896), (1818, 0.10384454716350273), (455, 0.10367421932747108), (1014, 0.103503190089912), (1989, 0.10323240343355058), (2053, 0.10290155807420906), (1424, 0.10285915204526551), (1947, 0.10285915204526551), (2818, 0.10285915204526551), (1929, 0.10272458464081802), (2050, 0.1018769336131464), (1998, 0.10073453718584709), (2000, 0.10049981677321382), (588, 0.09963224649913173), (1375, 0.0992821930568259), (244, 0.09883686967148267), (481, 0.09883686967148267), (798, 0.09883686967148267), (3195, 0.09883686967148267), (1991, 0.09872287974947895), (1925, 0.09789819989092317), (359, 0.0977060780351389), (47, 0.09720478960010896), (675, 0.09697821045635714), (1258, 0.09647231067469897), (1960, 0.09644132322022968), (1016, 0.09480849073580297), (270, 0.09455055409446564), (387, 0.09391253327817604), (12, 0.09173332047239972), (2001, 0.09101869161081179), (202, 0.09057502797197758), (409, 0.0902293750836008), (2612, 0.09015203051658226), (1966, 0.08998626358671075), (1944, 0.0881138862151331), (734, 0.0874119529426353), (1955, 0.08721265544210008), (1131, 0.08611436549889967), (66, 0.08452036371237293), (1201, 0.08423971357343926), (74, 0.0840907078205744), (1948, 0.08307443593907643), (1990, 0.08002401486144073), (1926, 0.07988698632988961), (1013, 0.07988536030402231), (531, 0.0796339699982131), (2722, 0.07959879943671726), (999, 0.07887545353019922), (306, 0.07838069730173022), (2169, 0.07775836451681917), (1951, 0.07701730479206964), (1134, 0.07664889154868965), (2009, 0.07623242828137504), (2049, 0.076223481787624), (2797, 0.07539986311562231), (2402, 0.0751209247268303), (1830, 0.07461943165781217), (1250, 0.07424718705390876), (1950, 0.07423350430392914), (2012, 0.07423350430392914), (2252, 0.07423350430392914), (2743, 0.07423350430392914), (3241, 0.07396995938688306), (350, 0.0735245894626118), (563, 0.07346514361156009), (2911, 0.0733292429913035), (309, 0.07278659301416643), (2145, 0.0727658334733378), (1627, 0.07165323179940068), (1781, 0.07153089991029123), (2768, 0.07103959483150553), (1437, 0.07097044495123722), (7, 0.06976587461175522), (1020, 0.0697399983269357), (1010, 0.06965249017550958), (1949, 0.06925077674240375), (2360, 0.06897582324539667), (730, 0.06865785703990075), (2048, 0.06820583118075293), (921, 0.06820150601082972), (602, 0.06803245384549556), (978, 0.06752667198551295), (3098, 0.06752667198551295), (2806, 0.06747962943948918), (2246, 0.0671752045184988), (2964, 0.06712214061900192), (495, 0.0670880097223518), (2306, 0.06554765314264929), (904, 0.06543242849077083), (756, 0.06479523909717191), (1480, 0.06450824424623401), (1550, 0.06450261407822035), (736, 0.06416292255441894), (1927, 0.06400624082563426), (36, 0.06391826186291594), (1946, 0.06367956361372762), (246, 0.06359863608264951), (1730, 0.06359863608264951), (37, 0.06305417058353369), (2740, 0.06305417058353369), (2027, 0.06294430343073622), (858, 0.06288429001169314), (1958, 0.06269655143573974), (632, 0.06261595823868835), (628, 0.062361465784360144), (787, 0.06187842402178856), (872, 0.06183976129986201), (346, 0.06155886024790433), (1651, 0.0613242161346708), (1999, 0.06121501010220234), (1112, 0.061181950612730754), (611, 0.0610062683953091), (1767, 0.060994475442067556), (252, 0.06077873512150094), (569, 0.060697168513544314), (601, 0.060184740672023486), (1512, 0.06004246547976871), (3099, 0.05996833080188141), (26, 0.05991141983392091), (2299, 0.05946130722620604), (1588, 0.05943016783801159), (1380, 0.059390020941734824), (1286, 0.059389650136880016), (216, 0.05909118974698972), (1996, 0.05905007182067905), (796, 0.05887136565646611), (104, 0.05881340851932256), (1642, 0.05878570261790206), (1531, 0.05875669713202534), (2632, 0.058688871782610355), (541, 0.05867830716638039), (1963, 0.05856110805145324), (3152, 0.05853814543303076), (480, 0.05844073796007988), (500, 0.058285582993522746), (855, 0.058069743457545904), (2864, 0.0578617653803942), (2047, 0.057810597197806), (86, 0.057783395031163864), (1002, 0.05776542594522233), (2149, 0.05764843648692562), (1501, 0.05762441613257628), (2405, 0.05757427766439087), (2945, 0.0575578303440433), (1994, 0.05750526631978228), (1007, 0.057348993221466124), (614, 0.0572783037237256), (661, 0.0572783037237256), (718, 0.0572783037237256), (1293, 0.0572783037237256), (1426, 0.0572783037237256), (1482, 0.0572783037237256), (1509, 0.0572783037237256), (1646, 0.0572783037237256), (1652, 0.0572783037237256), (2391, 0.0572783037237256), (2879, 0.05722588696236324), (571, 0.05722538641301272), (1811, 0.057134495282237276), (823, 0.05707476198899658), (1669, 0.05705639642827927), (820, 0.05702445110212764), (2462, 0.056938603863870424), (1725, 0.05686827945561425), (338, 0.05684287117753096), (53, 0.05672394131654209), (1741, 0.056598277586669826), (2063, 0.05625164699759574), (2799, 0.05620822559833828), (2837, 0.05580661140502869), (2408, 0.05537765017144542), (1953, 0.05534617144966818), (1335, 0.05528561884500799), (2046, 0.05523042130123317), (579, 0.05515703925306938), (1005, 0.05512870818242499), (3085, 0.055063672771229574), (3134, 0.05504383709259578), (939, 0.05502928825232883), (1970, 0.05501151235672381), (1751, 0.05499506684092998), (1993, 0.05491155341678743), (1916, 0.05484213194566103), (2006, 0.05483726054383128), (2650, 0.054569307496236924), (1954, 0.05452238501401508), (869, 0.054488486774822854), (432, 0.0544861473354431), (1536, 0.05447857678920582), (479, 0.05430892717468866), (3296, 0.05412334970344682), (1332, 0.054104685612063184), (545, 0.054072413784251726), (693, 0.05407241378425172), (1760, 0.05402465492904423), (263, 0.053978509704083466), (2621, 0.05397332466069005), (254, 0.05396006007838578), (1961, 0.05383626946900135), (2010, 0.05369168428285468), (744, 0.05365551725010108), (155, 0.05358231374696583), (209, 0.0535514374672897), (1647, 0.05310876063947952), (1928, 0.05307086482927329), (997, 0.0530567026943921), (1176, 0.05285882044277908), (1008, 0.052790936259987764), (239, 0.052760640235509984), (1003, 0.05267444122887835), (2716, 0.05245261530609972), (1246, 0.05240978886072939), (313, 0.05232886274033273), (940, 0.052092693602261604), (2002, 0.051879988565807306), (1674, 0.051667991027298896), (2004, 0.051661203343029545), (1923, 0.05148585414244701), (3122, 0.05133992988499853), (1394, 0.05091316519919007), (105, 0.050721263060495514), (118, 0.050577744033626235), (369, 0.05040674117306406), (1922, 0.05032320161439753), (430, 0.04984191746015892), (2521, 0.049792531874965934), (2709, 0.049722543934081806), (1967, 0.049621659941447335), (1353, 0.04885293817651086), (1962, 0.04866232609769512), (1540, 0.04859978265618798), (33, 0.04848696788047049), (1530, 0.04826893473414221), (2336, 0.048196462742772936), (273, 0.048000954475051774), (237, 0.04764857844053455), (2291, 0.0474120311084115), (906, 0.04695867598416662), (234, 0.04638218986473278), (1755, 0.04593118457897512), (258, 0.04588899850005916), (1997, 0.045259511199258515), (2305, 0.045221666721050095), (1027, 0.04518663646682068), (1001, 0.044802559029567056), (3021, 0.04473647164113431), (176, 0.044619890146300675), (3269, 0.04461617178948407), (416, 0.04460701307548942), (1968, 0.04455335915462592), (1063, 0.044246383953629266), (1009, 0.04415092414658245), (979, 0.044119719278009735), (1957, 0.044067553285793745), (948, 0.04389274101361489), (1596, 0.04372562423149738), (310, 0.043484606618408556), (3254, 0.04348002591487836), (2758, 0.04334942528733672), (1878, 0.04276029299476157), (1086, 0.042533228665433145), (2321, 0.042482708636757946), (704, 0.04234472500338134), (79, 0.042284742601710855), (526, 0.04226222607916022), (1862, 0.04191874764549918), (143, 0.04185091138699276), (625, 0.04183494833290767), (473, 0.041821820288316394), (901, 0.04139468911496857), (1744, 0.041360297587816175), (2005, 0.04135238532962126), (357, 0.04135006919169118), (1945, 0.04106354390215015), (218, 0.04102512382048811), (59, 0.04085743559536214), (2072, 0.039707606709048084), (1683, 0.039146138120849244), (1995, 0.039123425711364644), (2307, 0.03894447080616212), (2329, 0.038232361537935196), (2958, 0.038218510553793855), (1497, 0.0379059041889213), (61, 0.037848434284893304), (1088, 0.037702152257978586), (1822, 0.03746423639533814), (294, 0.037391466372003336), (308, 0.037391466372003336), (1000, 0.037337337700074566), (3217, 0.037242559176984935), (719, 0.036756778257830566), (1453, 0.03668635207743677), (1479, 0.036642979516339165), (2923, 0.036592840610393834), (3132, 0.036592840610393834), (3204, 0.036592840610393834), (1964, 0.0364774325066138), (320, 0.03637276763911042), (328, 0.03637276763911042), (1965, 0.0362210305212852), (2794, 0.036219063361538746), (2825, 0.036219063361538746), (2328, 0.03605490491816205), (1, 0.035919026459725584), (178, 0.035909054438588814), (2663, 0.03565768194259968), (2170, 0.03561500690241814), (3009, 0.03561500690241814), (596, 0.03559379542617527), (2206, 0.03516352050890979), (2415, 0.03516352050890979), (2499, 0.03516352050890979), (2073, 0.03512648244825735), (442, 0.034922843358963826), (1671, 0.034922843358963826), (100, 0.03473139306729163), (793, 0.03473139306729163), (1485, 0.03473139306729163), (733, 0.03451617072906621), (1490, 0.03451617072906621), (2920, 0.03451617072906621), (154, 0.03430033399593738), (3063, 0.03415389549778145), (3025, 0.0339906652267444), (698, 0.0336739742143273), (1766, 0.0336739742143273), (2795, 0.0336739742143273), (424, 0.03358484047800173), (634, 0.03358484047800173), (729, 0.03358484047800173), (803, 0.03358484047800173), (993, 0.03358484047800173), (1087, 0.03358484047800173), (1096, 0.03358484047800173), (1155, 0.03358484047800173), (1405, 0.03358484047800173), (1431, 0.03358484047800173), (2106, 0.03358484047800173), (2224, 0.03358484047800173), (2450, 0.03358484047800173), (3222, 0.03358484047800173), (3230, 0.03358484047800173), (450, 0.0335248598577228), (2959, 0.03312828259444705), (2602, 0.033104157900230954), (2648, 0.033104157900230954), (175, 0.03301946160025865), (752, 0.03301946160025865), (781, 0.03301946160025865), (865, 0.03301946160025865), (1560, 0.03301946160025865), (1825, 0.03301946160025865), (2184, 0.03301946160025865), (2226, 0.03301946160025865), (2597, 0.03301946160025865), (2678, 0.03301946160025865), (2888, 0.03301946160025865), (3140, 0.03301946160025865), (428, 0.032562265863636225), (2776, 0.03232596797086537), (127, 0.032279863563972125), (274, 0.032279863563972125), (610, 0.032279863563972125), (859, 0.032279863563972125), (1064, 0.032279863563972125), (1577, 0.032279863563972125), (1707, 0.032279863563972125), (1693, 0.03223725615457124), (1213, 0.03219967472279628), (1418, 0.03219967472279628), (1797, 0.03193291627535434), (471, 0.03177689974569414), (1763, 0.03177689974569414), (2463, 0.03177689974569414), (2495, 0.03177689974569414), (2626, 0.03177689974569414), (2751, 0.03177689974569414), (2805, 0.03177689974569414), (2934, 0.03177689974569414), (213, 0.03167584566559964), (3043, 0.0315924613676507), (1102, 0.03134180205653622), (2757, 0.03115612368500002), (3090, 0.030878237896761078), (2664, 0.030800246156597943), (2394, 0.030767918701079564), (2747, 0.030767918701079564), (2798, 0.030767918701079564), (3059, 0.030592852949209402), (3142, 0.03046603135670399), (1398, 0.030331442070442773), (1568, 0.030154219739160812), (1648, 0.030111100294806677), (1654, 0.030111100294806677), (1739, 0.029899493740853128), (1288, 0.029870818068886047), (2083, 0.029783116023564853), (2406, 0.029783116023564853), (3192, 0.02974574720802347), (576, 0.02968425609667867), (2342, 0.02968425609667867), (1071, 0.029676006588804517), (146, 0.029493387878680843), (665, 0.029407771889119604), (1422, 0.02930215641900719), (710, 0.029250781532268302), (3191, 0.029250781532268302), (1289, 0.029143435635336192), (2133, 0.02893359942075415), (1410, 0.02893156275821384), (1762, 0.02886169128111543), (2153, 0.02886169128111543), (1508, 0.028831224412641125), (1695, 0.028771698676541946), (2082, 0.028771698676541946), (318, 0.028704066156848285), (3150, 0.028628378938203004), (2126, 0.028594821323816952), (3262, 0.028376463872350495), (3145, 0.028100479924045685), (1814, 0.02808528261637124), (567, 0.027963518332248864), (573, 0.027726199236598692), (1161, 0.027643482403223858), (2413, 0.027525962842027286), (2961, 0.027400146995321596), (1653, 0.027374544181363748), (447, 0.027336963571091256), (2155, 0.027306638083327544), (457, 0.027084508064796134), (128, 0.026961566200190103), (1786, 0.026961566200190103), (1527, 0.026940344618561186), (2148, 0.026893841535639552), (3148, 0.026867206154399952), (3231, 0.02684757889314456), (3006, 0.026608988111205562), (1339, 0.026482403295213907), (570, 0.026470152994184773), (2746, 0.02641543435414081), (71, 0.026369803822290407), (789, 0.026272273976411513), (2775, 0.026242848747636514), (635, 0.02618646821093088), (1419, 0.026175020073752976), (1533, 0.02597032386691646), (2711, 0.025777650392479815), (565, 0.02572276487012981), (3153, 0.025605949632408222), (1220, 0.025597358919051575), (1145, 0.025519335854095066), (2951, 0.025457133687058788), (806, 0.025352712190468644), (496, 0.025208243257604325), (639, 0.025208243257604325), (2884, 0.025095967409266434), (1848, 0.024740190397958415), (465, 0.024726279082941817), (92, 0.02464216083775197), (2785, 0.024619783759624213), (1679, 0.024580928474211082), (3252, 0.024532556648343213), (616, 0.02449802663410615), (3119, 0.024475771070234235), (3226, 0.024358174261442045), (1520, 0.02435655762009898), (466, 0.024343812398329), (2779, 0.02433068015698749), (938, 0.024246809446161408), (1765, 0.024158260542752406), (3258, 0.024158260542752406), (2875, 0.023945246365829884), (3072, 0.023945246365829884), (3246, 0.023945246365829884), (2692, 0.023939005468516832), (1952, 0.023886067353628068), (3028, 0.023837945304342058), (2325, 0.023730548903759075), (3136, 0.023683936354855006), (831, 0.023644038360334314), (2953, 0.023578120197150523), (2967, 0.023507091550657798), (2800, 0.02346474661510013), (2596, 0.023462959671363633), (604, 0.02335156505839487), (1255, 0.023333624133325483), (560, 0.02330796268859338), (3121, 0.0232274937294801), (3164, 0.02306374914300113), (440, 0.023052590519247084), (1877, 0.023031410317529456), (3054, 0.02299282508993599), (962, 0.022915978209209042), (1282, 0.022894965770013834), (1120, 0.02280826618161259), (2257, 0.02279697715017579), (200, 0.022789071245959608), (290, 0.022771482960420312), (11, 0.022765714072427657), (1488, 0.02276151052043735), (1291, 0.02275596114400486), (530, 0.022717717833707955), (2761, 0.02269519377762015), (2254, 0.02266433884918766), (2601, 0.02263371882765255), (2490, 0.022603180794896833), (433, 0.022572888355724175), (3289, 0.022509151083436978), (1108, 0.022412958733216824), (1037, 0.022405698395413936), (2324, 0.022381281290303163), (275, 0.022373422934050678), (2750, 0.02236098168484414), (1680, 0.02235932285092517), (183, 0.022304651430562546), (141, 0.022290265998851106), (2982, 0.022265122785812212), (1542, 0.022258066304525446), (575, 0.022241115764253774), (6, 0.022215084356006533), (558, 0.022203316572758536), (562, 0.022183156831548492), (2748, 0.02217992746812878), (2698, 0.022163819969471445), (509, 0.02216052791191301), (2493, 0.022159180122534462), (2199, 0.022111895103901533), (2416, 0.022107435570264098), (1048, 0.02205442988076598), (547, 0.022028954328728263), (1247, 0.022021264840145802), (2986, 0.021986176843182874), (1769, 0.021984447961950676), (2172, 0.021977106030895584), (1749, 0.0219679178871849), (2249, 0.02195427526920257), (879, 0.021948205987980213), (1099, 0.02193512553830184), (139, 0.021930418822279196), (366, 0.021914693829596873), (1496, 0.021909909102988942), (2232, 0.021882286199789255), (2379, 0.02183868531152237), (561, 0.02182694700747395), (2066, 0.02179635999804879), (2209, 0.021780525680120934), (91, 0.02177074722620491), (740, 0.021755915886648672), (2116, 0.021703514351232522), (3234, 0.021651326702974698), (842, 0.02164982617756389), (487, 0.021632191834850233), (1249, 0.021630125555699504), (513, 0.021627759892774046), (908, 0.021612047475402955), (397, 0.021607305004388847), (2095, 0.02160095404350025), (2376, 0.02159654702151504), (2529, 0.021555852341943658), (184, 0.021536542743378816), (534, 0.021529394693171194), (1631, 0.021516571873585886), (3199, 0.021493053992655265), (3040, 0.02148079154539271), (1042, 0.021468196213058875), (1204, 0.02146269972037369), (1066, 0.021417185371861703), (334, 0.021401620476212947), (1038, 0.021383038212299952), (3299, 0.021371112589999717), (933, 0.021329526481596202), (230, 0.021324082245154252), (1640, 0.02128194639927941), (2829, 0.021273623052289053), (1561, 0.021271698589576615), (1500, 0.021213150219010338), (1984, 0.021197244779209028), (2847, 0.021173756774837453), (1757, 0.02116064660197769), (925, 0.021156022286438775), (2281, 0.021155935886512208), (2816, 0.021139540203479867), (2088, 0.021135227385055508), (2708, 0.0211325293781933), (1261, 0.021126265216424783), (690, 0.021118549258291448), (887, 0.021118071393766355), (646, 0.021113048281838423), (1452, 0.021105149708805778), (1212, 0.021104633045239664), (99, 0.021099694592236734), (630, 0.02109861923044195), (435, 0.02109781418768821), (2263, 0.021077622145209994), (2158, 0.02106527665344645), (1559, 0.02106470691082792), (1873, 0.02105760012289364), (941, 0.021052752730678845), (436, 0.02103635631583415), (340, 0.02101007595867084), (1068, 0.021000035321103092), (145, 0.02098441556811028), (2166, 0.02096966259858154), (81, 0.02096436016138406), (2167, 0.020962353333221478), (877, 0.02095586899282703), (285, 0.02094680943477127), (232, 0.02094538593905717), (771, 0.020939902657539908), (3039, 0.020925044045563543), (1445, 0.020911746345786603), (2677, 0.02090992391389673), (2848, 0.020896238090768085), (2259, 0.020882721517438665), (1600, 0.02087114071324446), (3073, 0.02086925765756461), (2717, 0.020862479681843828), (2662, 0.020843798322756388), (1529, 0.020818491716461406), (742, 0.020817548199267753), (1420, 0.020802584596416422), (523, 0.0207796983452593), (1367, 0.020774629258968558), (10, 0.020768471582051286), (924, 0.020759679024137306), (492, 0.02075900007444729), (2977, 0.020733863438261238), (1643, 0.020726802840098004), (3219, 0.020722735192673026), (1785, 0.020720223954403334), (2488, 0.02071805355279162), (2417, 0.020714652269872062), (2912, 0.02070892472800511), (173, 0.020679261742249832), (2343, 0.02066102197390784), (2535, 0.020660197067452386), (2208, 0.020639611449479487), (2889, 0.020632351263363234), (2990, 0.020598153303949124), (2414, 0.02059664390562512), (2452, 0.020595473507749394), (317, 0.02058888725542118), (117, 0.020586396024972323), (2425, 0.020586390582379065), (629, 0.020584090109821596), (277, 0.02057724571100227), (110, 0.020575683366001386), (2351, 0.020566211083271488), (934, 0.020561883070980908), (44, 0.02055463154387487), (844, 0.020553777786333), (301, 0.020551592927811353), (1142, 0.020541539380012824), (1976, 0.020508886573589725), (2364, 0.020504107469821613), (1057, 0.020500519842639356), (3208, 0.020500381177763934), (1364, 0.02048233344497393), (783, 0.020477922314842644), (2608, 0.020477922314842644), (380, 0.020463010378849143), (3232, 0.020459306266475782), (2741, 0.0204573149849762), (2036, 0.020430775107312747), (2173, 0.020423841430982095), (3228, 0.02042190538066251), (2933, 0.020410997459836537), (3050, 0.02041010756838281), (1874, 0.020409607908681904), (1608, 0.020400710998805645), (957, 0.02039574637414157), (1268, 0.020372786037173282), (1639, 0.020371682198162492), (2910, 0.0203637147243637), (1232, 0.02034936131201266), (1728, 0.020345285493287922), (135, 0.020339581746629705), (2207, 0.020305783527166107), (898, 0.02027467401981872), (3267, 0.02026582821247144), (116, 0.020251131419218357), (590, 0.020250456239760593), (1326, 0.02024551619433295), (2354, 0.020244738843772706), (1168, 0.020243603708122393), (532, 0.020221318762038393), (1734, 0.020211853889083014), (2187, 0.02020762631341285), (2231, 0.02019537884890907), (337, 0.020192980021710605), (2873, 0.020187848322703452), (2356, 0.02016057103785916), (406, 0.02015175580238772), (2293, 0.02015175580238772), (2479, 0.020123909085385545), (2684, 0.020123906732548318), (425, 0.020120531317593705), (568, 0.020120081713752423), (1794, 0.020118603614673), (1796, 0.02010920456311896), (2279, 0.02010868323138455), (942, 0.020093311041902463), (1439, 0.020078312447147494), (2503, 0.020075100444044952), (814, 0.020074898934007268), (2826, 0.020073875211768323), (2331, 0.020072839832602718), (3218, 0.02005787150219403), (3177, 0.020048095329721648), (1446, 0.0200351580361276), (2150, 0.020027620132009476), (2886, 0.020027620132009476), (1126, 0.02002355623169423), (739, 0.020023304951161804), (2524, 0.020022515626034527), (2891, 0.020018314694319857), (2576, 0.02000098479106238), (3117, 0.020000055585619084), (1672, 0.019996741165977407), (2771, 0.01999159445406757), (3293, 0.019983211875625823), (2294, 0.01997262459483547), (2899, 0.01996545800440503), (2292, 0.019964079996435805), (57, 0.019963676324917322), (51, 0.01995633092425696), (319, 0.019955264071930146), (2802, 0.019948121196117878), (2162, 0.019947465331729267), (556, 0.01994685376088602), (373, 0.01994528353137811), (1938, 0.019943095277360903), (897, 0.019938163192790924), (2593, 0.019935176408984925), (1257, 0.019933706562232482), (1807, 0.019923393927320898), (903, 0.019919896068265282), (932, 0.019918712169524674), (3211, 0.019917107106218034), (2481, 0.019914906813578603), (412, 0.01991051396617387), (816, 0.019892576854518652), (2943, 0.019882024054788065), (462, 0.0198812022511567), (1292, 0.01987906880070813), (2957, 0.01987793559905886), (1245, 0.01987115290682955), (2915, 0.01986996654472454), (889, 0.01986219334011787), (2633, 0.01985138488147911), (1770, 0.01985045092594656), (515, 0.01984270851484781), (1365, 0.01983768967780363), (1067, 0.019837325583527292), (2060, 0.01983316490426646), (1164, 0.019831944431259782), (2504, 0.019831753501299357), (902, 0.019825298051045867), (1337, 0.019820100786145826), (1215, 0.019818484963118513), (231, 0.019816630655927783), (2755, 0.01980922965217811), (1553, 0.019795575908956836), (1805, 0.019788401199824116), (2196, 0.01978558434480595), (1012, 0.019783133244834595), (2338, 0.01977834409687991), (1091, 0.019777421059523834), (2228, 0.019774702438406833), (716, 0.01977457885428101), (2156, 0.019766968112518823), (3018, 0.019765568948187352), (347, 0.01975093541430025), (1541, 0.019750077422479195), (1827, 0.019740850107649435), (168, 0.019738981139595584), (1366, 0.019738853550477903), (115, 0.0197318775074986), (537, 0.019728469856320454), (352, 0.019727031848089143), (2189, 0.019717526050877104), (3149, 0.01970929769498391), (945, 0.019691368693412165), (351, 0.01969097123091988), (1421, 0.01968056512672807), (1069, 0.01967634363119033), (177, 0.019663814470094847), (1624, 0.019658363950290695), (2955, 0.019657916161911045), (2449, 0.019655449349041138), (1034, 0.01964431793813768), (2997, 0.019641670503167636), (1879, 0.019635181966916188), (102, 0.019631267529072266), (414, 0.01960201656910214), (2749, 0.019601997536203928), (1432, 0.019591103295104856), (1806, 0.01957853075679184), (1270, 0.01957536419641727), (2380, 0.019575316399918694), (2691, 0.01957279388668135), (215, 0.019548242277191014), (3268, 0.019543517206791323), (482, 0.01954013958997304), (2385, 0.019538295383235593), (2781, 0.019529305122706148), (2842, 0.019528734252662435), (1051, 0.019526921549502422), (2476, 0.019526200794745874), (381, 0.01952275112821323), (1619, 0.019516450263707536), (1971, 0.01951553627042765), (653, 0.019501847865696646), (981, 0.01949875144264869), (494, 0.01949225949805975), (1475, 0.01948566882453293), (1406, 0.019483124366436917), (888, 0.019480997136166564), (2699, 0.019475276422371707), (2157, 0.01947167374222676), (3172, 0.019471161259385805), (3170, 0.019470021737695967), (2606, 0.019466781708158857), (19, 0.01946572656353396), (1514, 0.019447639189147), (1782, 0.019446877095899505), (2393, 0.019441491519966717), (1148, 0.019441428625549578), (2993, 0.01943886432726852), (1254, 0.019429293733502325), (923, 0.019418796776357796), (1821, 0.019398816804996045), (1687, 0.019396309371925533), (894, 0.019392474815145146), (896, 0.019385006645850245), (300, 0.019353672538058694), (3105, 0.0193512671134858), (2039, 0.01934936167218045), (885, 0.01934586246222106), (2384, 0.01933445355850129), (38, 0.01932758599679666), (2375, 0.019324745861629255), (1275, 0.019314968966045294), (251, 0.019310260716193916), (336, 0.01930666486699924), (2956, 0.019275886564534883), (591, 0.019268584582394888), (2250, 0.01926407075122247), (268, 0.019261339482295838), (3109, 0.019251015172277217), (2154, 0.019235994054211236), (484, 0.01923103287108892), (2680, 0.019218431886674475), (2532, 0.019179774947913383), (1737, 0.019177068829451666), (224, 0.019166392121456193), (2268, 0.01915710295015686), (2623, 0.01915520493377958), (2528, 0.01915490800919623), (1363, 0.019143184984100288), (1295, 0.019142691566522384), (233, 0.019126956606836637), (3216, 0.019103301112401258), (179, 0.019102583338465855), (2223, 0.019100615201050063), (1146, 0.01909382314425029), (538, 0.019087502301105477), (63, 0.019069356009650377), (1983, 0.019054751357125664), (228, 0.019052885614378717), (1471, 0.01905201956832677), (1518, 0.019050682397752303), (356, 0.019048330366758383), (2213, 0.019037064524163205), (950, 0.019030456801620306), (808, 0.01902029878752623), (1399, 0.01900252189294048), (2370, 0.018983531395293667), (1552, 0.018981029744489057), (1207, 0.01898102909759427), (766, 0.018978347352036882), (2147, 0.018977316641432554), (17, 0.0189696125790692), (2225, 0.01896851085236427), (2908, 0.018966996425708607), (641, 0.018960734907279748), (2056, 0.018951208570652838), (1451, 0.01895073685238287), (2128, 0.01895033106326442), (2345, 0.018944883301622296), (533, 0.0189441082633535), (1834, 0.018938135474440156), (1584, 0.018936776607772494), (2491, 0.018936776607772494), (271, 0.018931800032079688), (892, 0.018926180566845297), (2055, 0.018925090759927477), (772, 0.01891157180721161), (2242, 0.01891157180721161), (1121, 0.018882681467034486), (192, 0.018882420202996665), (248, 0.01887923653109338), (2804, 0.018879059196531683), (2102, 0.01887722263966273), (1823, 0.018876841980617697), (1499, 0.018874400690433883), (2938, 0.01886396201790763), (3, 0.018859330915349373), (2377, 0.018857686058178873), (2203, 0.018854074183416114), (655, 0.018837979289900157), (1400, 0.018830814694757617), (1440, 0.018828530125034583), (2197, 0.018818278373208003), (2474, 0.0188166977429648), (354, 0.018814657206802463), (3108, 0.018812816660141233), (618, 0.018804552365192427), (2952, 0.018799500013947083), (785, 0.018795482762870002), (2998, 0.018794846342334123), (2522, 0.0187942724943464), (2287, 0.01878992486113583), (120, 0.01878657834922698), (1379, 0.018773577299895355), (2080, 0.018771706978531803), (1467, 0.01876781463684944), (2465, 0.018767532067208943), (1667, 0.018755352409575186), (1914, 0.018752782885457533), (3144, 0.01875170856441319), (947, 0.0187409934604991), (131, 0.018736879888184416), (3066, 0.018730574342827554), (2647, 0.018730262428221338), (1461, 0.01872901319880583), (1876, 0.018712086958501857), (597, 0.01870071747370904), (2697, 0.018699373196345688), (3173, 0.018697497881659413), (2398, 0.018689957319969596), (3094, 0.0186898090652593), (2164, 0.018684663609004493), (790, 0.018670487719720224), (813, 0.01867021485331132), (463, 0.01866447314682231), (1427, 0.01866447314682231), (1415, 0.018663153311251724), (2403, 0.018661418222294574), (3007, 0.018643741200740638), (2217, 0.018640023411163168), (67, 0.0186328538212871), (1621, 0.01862758319301979), (1217, 0.01862519596371148), (626, 0.018613773078837555), (2234, 0.018611698616693616), (1152, 0.01860745765004756), (1309, 0.01860545630050541), (1468, 0.018603856012044364), (3250, 0.0186020166492205), (2682, 0.018598584861726115), (2824, 0.01859646492257111), (914, 0.01858631962616615), (220, 0.018560745481543087), (2564, 0.018558338438534196), (2484, 0.01855518010212836), (1815, 0.01854631236055987), (2925, 0.018542514432240684), (817, 0.018536785289461635), (1845, 0.018536395115159088), (1417, 0.01853378654220307), (617, 0.01852499428580099), (94, 0.018521486488590404), (1198, 0.018520875991975688), (2962, 0.01851956504656065), (2238, 0.01850685035169653), (2611, 0.018502376269971144), (2846, 0.018486460534114242), (2834, 0.01848228901846255), (2065, 0.018480318039076443), (1583, 0.01847117826610683), (2705, 0.018463312867678935), (411, 0.018456238371891663), (1702, 0.01845154834785421), (2487, 0.01844085782177876), (498, 0.01843941448325241), (926, 0.01843669933281311), (732, 0.018420800797574577), (163, 0.018418328871136775), (1436, 0.01840873829133707), (20, 0.0183863144338955), (355, 0.018385897379514918), (2269, 0.018380765448707707), (3084, 0.01837626001833104), (2949, 0.018376101328388312), (821, 0.01835589930835061), (1100, 0.018353208089802262), (3141, 0.018352993387535894), (2700, 0.018351265915717268), (2081, 0.018349641793291623), (3130, 0.018349361698618224), (1264, 0.018347340428601144), (2297, 0.01834572313814057), (1641, 0.018343555512413526), (2282, 0.01832793245780314), (2494, 0.018323936226694253), (2399, 0.01832164540124836), (3042, 0.018321022331707966), (977, 0.018316843809418185), (1144, 0.018316254086378204), (2302, 0.018316254086378204), (3185, 0.01830874648867557), (2774, 0.01830720476318871), (511, 0.018303728677194195), (2411, 0.018301864131630347), (701, 0.018287444570314768), (1773, 0.018279686865769203), (650, 0.01827356778919912), (2580, 0.018272460801061267), (905, 0.018270197745121113), (1605, 0.018266010800465297), (3233, 0.018258437680575102), (2202, 0.01824824029871317), (3030, 0.018231755671464248), (468, 0.018230591784366954), (2161, 0.01820346222803416), (322, 0.018198478269135603), (382, 0.01819688682576792), (684, 0.018194521321028584), (754, 0.01819130766095043), (2011, 0.018180130249641165), (578, 0.018175491490180953), (1393, 0.018167284536760347), (1581, 0.01814685186736511), (795, 0.018141154002792807), (2659, 0.018139314558809804), (2045, 0.018138957936159435), (2276, 0.01813682693871825), (448, 0.01813526910984471), (439, 0.018126721781306004), (1368, 0.01811141092634384), (3224, 0.018111050091282787), (1219, 0.018110093769452187), (1070, 0.01810523251255587), (2583, 0.018102299482941345), (2971, 0.018081489983528008), (113, 0.018073601824878972), (1072, 0.018065305084679618), (873, 0.018062615329128562), (2323, 0.018060154417533125), (2872, 0.018053278918581165), (1685, 0.018028761205795125), (1750, 0.018022133797152035), (607, 0.018021876350241897), (64, 0.018016300005525128), (1233, 0.018016300005525128), (2489, 0.0180118210090299), (2502, 0.018006526785160612), (1058, 0.017988605812090757), (171, 0.017983884505506056), (2193, 0.01797896244791683), (2383, 0.01796178066137348), (1915, 0.017958872041776652), (2703, 0.01795614145073679), (3215, 0.017954613967876856), (1170, 0.01795224799149284), (1178, 0.017940083678704435), (2174, 0.017937967298645014), (553, 0.017927429139397457), (1181, 0.017927429139397457), (2085, 0.017926937532762026), (2609, 0.01792643406635464), (389, 0.017919797376157794), (1582, 0.01790955392912352), (2389, 0.01790789257158852), (363, 0.017903817806578248), (2654, 0.017878982562127603), (1412, 0.017865053212486326), (343, 0.017844274785930196), (1670, 0.01783446377814448), (1483, 0.0178320709525018), (2019, 0.01783170192214027), (3157, 0.017823359079202274), (445, 0.01781857017333141), (647, 0.01781857017333141), (3111, 0.01781857017333141), (3242, 0.01781857017333141), (1940, 0.017807062857214936), (1703, 0.017798152200640644), (624, 0.017792984765145767), (1384, 0.017792984765145767), (1231, 0.017787555220370316), (2021, 0.01778676860572277), (1622, 0.017782169771341807), (413, 0.017776858406822565), (3087, 0.017775682681961703), (87, 0.017774500038364473), (2020, 0.017774500038364473), (2022, 0.017766317713021798), (186, 0.017763512429250422), (56, 0.017761563091204982), (825, 0.017748027626698075), (654, 0.017729758555579428), (2076, 0.017707362233366667), (812, 0.017698722602348258), (2718, 0.01769791769403013), (2660, 0.017697105010923364), (408, 0.01768882976788367), (724, 0.01768654214040782), (660, 0.017666086909104806), (2980, 0.017665546300489145), (886, 0.017660338778778144), (2290, 0.017655720105017047), (1397, 0.017639676637017924), (491, 0.017626474401456968), (703, 0.01762161052216857), (960, 0.017620593739579006), (1715, 0.017615510473195917), (2857, 0.017598760347652273), (1272, 0.01759051528863655), (1776, 0.017577772937017323), (2671, 0.017577772937017323), (2266, 0.017572653801729187), (2320, 0.01756254569029487), (2636, 0.01755423144666769), (3193, 0.0175493889547679), (2446, 0.017538389608516766), (1193, 0.01753122145532757), (1492, 0.017507769069168684), (937, 0.017498059247686625), (2914, 0.017496095679667437), (2538, 0.01748916234797476), (2289, 0.017487074509379436), (2658, 0.01748520986018514), (2152, 0.017484091175984623), (2059, 0.017463418212638332), (1795, 0.017446580881375205), (2044, 0.017442173443777235), (1789, 0.0174411240386303), (2313, 0.017438801893090786), (272, 0.01742181953748702), (2467, 0.017409481220647845), (3179, 0.01740392609755207), (1458, 0.017396608905667826), (2710, 0.01739502801043639), (1407, 0.0173880452090045), (922, 0.017387178537339128), (1798, 0.017373360972318255), (3240, 0.01736757630290899), (1156, 0.017347663666064144), (2512, 0.017344491541935507), (992, 0.017344093284344806), (2645, 0.01733988622934577), (1709, 0.01732448577582323), (1510, 0.017267217372220443), (2635, 0.017254132455135233), (2392, 0.01724525390700079), (3272, 0.017235970418432334), (2630, 0.017233246727095707), (415, 0.01722790267947533), (2378, 0.017220228984876098), (508, 0.017217928616611568), (527, 0.017193781681972876), (2595, 0.017183573581639435), (2286, 0.017178264552240915), (3175, 0.0171739113197117), (2409, 0.017152864123325683), (2808, 0.0171515717073358), (3281, 0.017113748740926218), (1241, 0.017101547227356788), (2369, 0.01710024459043285), (2537, 0.01709564756336555), (2793, 0.017095543038094973), (142, 0.017091675244562593), (2285, 0.017081617828107853), (1869, 0.017065385829168302), (2459, 0.017049096581355352), (2721, 0.017049096581355352), (1884, 0.017001026549950414), (2312, 0.01699990808068278), (1472, 0.016999050847852207), (2390, 0.016998372317370676), (3014, 0.016996858142694936), (2288, 0.016984358727301436), (2613, 0.016972162869495433), (1691, 0.01696252434358956), (2061, 0.016953406097816155), (1721, 0.016934038140857526), (2357, 0.016902851488929407), (133, 0.016896478154297574), (2704, 0.016896221062059732), (3143, 0.016887912043383132), (725, 0.016881141534703804), (2625, 0.016846223547464786), (1362, 0.016833576806514525), (219, 0.01682102136369073), (444, 0.01681830862408026), (2548, 0.016809312299039064), (3295, 0.016783434675685605), (191, 0.016780140231440626), (1859, 0.01677235659231651), (1567, 0.016771182148935578), (2, 0.016766065936181976), (2278, 0.016763533605371535), (68, 0.016762586582345553), (802, 0.01675491366921697), (410, 0.016744321774815853), (365, 0.016732501388321826), (2950, 0.016704000080339936), (1775, 0.016698512493405638), (1575, 0.01664701237311736), (2562, 0.016628913052988872), (1026, 0.016628310632666565), (4, 0.01662469018652658), (2791, 0.01659791639035884), (2970, 0.016585369227076263), (1831, 0.016580830246805157), (2618, 0.016484829759548104), (1253, 0.01647914452559058), (2035, 0.016461252345663833), (153, 0.016459393713361765), (1443, 0.01641705782824896), (1528, 0.01641128193428933), (1673, 0.016387787412394824), (2801, 0.016383824618337862), (304, 0.016364704380957103), (2519, 0.016339579320548317), (1211, 0.016330077588996614), (362, 0.01632726279944631), (467, 0.016322983452077954), (18, 0.016319887994020333), (339, 0.016316142083871058), (2314, 0.01629008721736283), (62, 0.016247297355578127), (2628, 0.016246500583715746), (1900, 0.016229909204390942), (3156, 0.016181462388051), (227, 0.01617599504152852), (1413, 0.01614427280191074), (427, 0.016136588594398083), (2629, 0.01613428944228159), (1590, 0.016129451166570503), (1912, 0.01610517223743613), (3229, 0.016092957060643738), (3056, 0.016092656763878638), (3235, 0.01603654282572124), (2062, 0.01601476889442178), (2941, 0.015918041467633866), (2365, 0.015790739118993122), (2927, 0.01577149721835234), (835, 0.015755128410557713), (2315, 0.015738870785349766), (775, 0.015619260671830082), (1829, 0.015610518940444195), (1913, 0.015610518940444192), (1237, 0.015582914741145761), (1778, 0.015516749178065517), (1911, 0.015443862025049004), (1700, 0.01534301481486612), (323, 0.01520260809049974), (2180, 0.015083374560165745), (711, 0.01506807818901821), (712, 0.014983862704114512), (123, 0.014622312643792868), (2835, 0.014563333793198264), (121, 0.013554662401258057), (189, 0.012380799072004683), (1414, 0.012380799072004683), (1711, 0.012380799072004683), (2445, 0.012380799072004683), (2994, 0.012380799072004683), (2706, 0.012300435261703855), (2707, 0.012165171910736038), (1425, 0.012134021907002024), (1607, 0.012028534548247444), (1513, 0.012027161338075383), (2222, 0.011908230312700043), (2330, 0.011846133140316285), (2924, 0.011703987052779388), (2074, 0.011677339751072914), (3162, 0.011645156646601955), (1080, 0.011508039713887702), (2929, 0.011458089369361862), (461, 0.011447093393516024), (1411, 0.011445069054946128), (3210, 0.011314501994189468), (1174, 0.011286279560243338), (3163, 0.011200841462012959), (2129, 0.01046579042308118), (2139, 0.01046579042308118), (2124, 0.00866949321773545), (2130, 0.008378020017508118), (2922, 0.007997536877331606), (1111, 0.007983272952383536), (89, 0.00773552164533159), (208, 0.00773552164533159), (2579, 0.00773552164533159), (2346, 0.007582851527076305), (2656, 0.007577516287898196), (458, 0.007536294268862718), (2221, 0.007536294268862718), (717, 0.007431513572537642), (644, 0.0074096364320033305), (2745, 0.0074096364320033305), (83, 0.007362042085182524), (401, 0.007362042085182524), (671, 0.007362042085182524), (763, 0.007362042085182524), (1754, 0.007362042085182524), (3137, 0.007362042085182524), (768, 0.007328835802297736), (1103, 0.0072077950179686625), (1841, 0.0072077950179686625), (3020, 0.0072077950179686625), (3055, 0.0072077950179686625), (2127, 0.007202508779032593), (2670, 0.007198609025217102), (1135, 0.007186299646155344), (1788, 0.0071015550447520795), (2233, 0.0071015550447520795), (2507, 0.0071015550447520795), (2845, 0.0071015550447520795), (3290, 0.0071015550447520795), (3291, 0.0071015550447520795), (829, 0.007049914309876132), (1047, 0.007049914309876132), (2685, 0.007049914309876132), (111, 0.007038350860008417), (1043, 0.0069628073455250405), (1462, 0.0069628073455250405), (1498, 0.0069628073455250405), (2159, 0.0069628073455250405), (1735, 0.006891550114739297), (122, 0.006875396029405887), (1454, 0.006875396029405887), (2762, 0.006864668955176844), (810, 0.0067727026724370394), (55, 0.006764020021581753), (126, 0.006764020021581753), (137, 0.006764020021581753), (398, 0.006764020021581753), (620, 0.006764020021581753), (648, 0.006764020021581753), (692, 0.006764020021581753), (747, 0.006764020021581753), (778, 0.006764020021581753), (779, 0.006764020021581753), (780, 0.006764020021581753), (799, 0.006764020021581753), (827, 0.006764020021581753), (828, 0.006764020021581753), (839, 0.006764020021581753), (871, 0.006764020021581753), (876, 0.006764020021581753), (994, 0.006764020021581753), (1123, 0.006764020021581753), (1141, 0.006764020021581753), (1283, 0.006764020021581753), (1493, 0.006764020021581753), (1677, 0.006764020021581753), (1812, 0.006764020021581753), (2067, 0.006764020021581753), (2143, 0.006764020021581753), (2160, 0.006764020021581753), (2322, 0.006764020021581753), (2498, 0.006764020021581753), (2672, 0.006764020021581753), (2732, 0.006764020021581753), (3033, 0.006764020021581753), (3041, 0.006764020021581753), (260, 0.006726535771188752), (2594, 0.006685143994851071), (326, 0.00666179265483767), (2627, 0.00666179265483767), (305, 0.006643805911805593), (383, 0.006643805911805593), (384, 0.006643805911805593), (521, 0.006643805911805593), (645, 0.006643805911805593), (728, 0.006643805911805593), (782, 0.006643805911805593), (809, 0.006643805911805593), (826, 0.006643805911805593), (866, 0.006643805911805593), (1139, 0.006643805911805593), (1466, 0.006643805911805593), (1525, 0.006643805911805593), (1663, 0.006643805911805593), (1941, 0.006643805911805593), (2068, 0.006643805911805593), (2163, 0.006643805911805593), (2454, 0.006643805911805593), (2533, 0.006643805911805593), (2592, 0.006643805911805593), (2615, 0.006643805911805593), (2839, 0.006643805911805593), (3038, 0.006643805911805593), (3097, 0.006643805911805593), (3102, 0.006643805911805593), (1981, 0.0065917766065302945), (2188, 0.006588191749016461), (3000, 0.006584468324440853), (3265, 0.0065046322857630744), (197, 0.006478048905417988), (3093, 0.006390073761997238), (283, 0.0063807917289101165), (566, 0.0063807917289101165), (633, 0.0063807917289101165), (674, 0.0063807917289101165), (882, 0.0063807917289101165), (1122, 0.0063807917289101165), (1333, 0.0063807917289101165), (1574, 0.0063807917289101165), (2689, 0.0063807917289101165), (2821, 0.0063807917289101165), (627, 0.006372214386138531), (1336, 0.006372214386138531), (1764, 0.006372214386138531), (2103, 0.006372214386138531), (2756, 0.006372214386138531), (2960, 0.006372214386138531), (3082, 0.006341186800986509), (3298, 0.006341186800986509), (2975, 0.006310965549127161), (3188, 0.006310965549127161), (2205, 0.006289068634473905), (164, 0.006261267260486698), (1097, 0.006261267260486698), (2239, 0.006261267260486698), (544, 0.006249983401256402), (1743, 0.006226444988474744), (3238, 0.006204951748941571), (247, 0.0061683764016152555), (396, 0.0061683764016152555), (974, 0.00616619049357436), (2212, 0.00616619049357436), (1592, 0.006155025100143815), (801, 0.006139270068342786), (1706, 0.006139060077864843), (3200, 0.006139060077864843), (58, 0.006138088635219614), (2893, 0.006116169283075993), (1076, 0.00610501645401797), (1369, 0.006096801128542296), (1606, 0.006096801128542296), (1801, 0.006083349768474067), (2584, 0.00604879073901814), (2585, 0.00604879073901814), (2588, 0.00604879073901814), (2589, 0.00604879073901814), (1504, 0.006032926492702329), (572, 0.006032390319111781), (1919, 0.006032390319111781), (2724, 0.005986347959187071), (1447, 0.005978068763690909), (1826, 0.005978068763690909), (2509, 0.005978068763690909), (3197, 0.005978068763690909), (76, 0.005968047901679011), (106, 0.005968047901679011), (713, 0.005968047901679011), (774, 0.005968047901679011), (1409, 0.005968047901679011), (1433, 0.005968047901679011), (1705, 0.005968047901679011), (3206, 0.005968047901679011), (3212, 0.005968047901679011), (554, 0.005962008802857587), (595, 0.005962008802857587), (797, 0.005962008802857587), (1503, 0.005962008802857587), (2396, 0.005962008802857587), (2483, 0.005962008802857587), (2736, 0.005962008802857587), (2737, 0.005962008802857587), (518, 0.005954196208213584), (1731, 0.005954196208213584), (1661, 0.005941343274073783), (1666, 0.005941343274073783), (2419, 0.005941343274073783), (2578, 0.005941343274073783), (705, 0.0059288826009634135), (1469, 0.005922472655243001), (1416, 0.005917250409722027), (2075, 0.005883595728278657), (2652, 0.005883595728278657), (2723, 0.005883595728278657), (125, 0.005879196393524116), (838, 0.005879196393524116), (1147, 0.005879196393524116), (1476, 0.005879196393524116), (2341, 0.005879196393524116), (2939, 0.005858598629253387), (2586, 0.005845479630155771), (2587, 0.005845479630155771), (2590, 0.005845479630155771), (2591, 0.005845479630155771), (1694, 0.005827081521835353), (241, 0.0057799649346835374), (280, 0.0057799649346835374), (686, 0.005772511801080166), (714, 0.005772511801080166), (1495, 0.005772511801080166), (2617, 0.005772511801080166), (2780, 0.005772511801080166), (3186, 0.005772511801080166), (1548, 0.005756343249674578), (2637, 0.0057510094317974655), (666, 0.005744727031672478), (777, 0.005729150290559221), (1809, 0.005729150290559221), (540, 0.005714962485686688), (404, 0.005698449390478676), (1505, 0.0056945903528394844), (507, 0.005692475523729174), (3261, 0.005677511115387944), (236, 0.005646226470652409), (1169, 0.005637488513692617), (1712, 0.00560914328966449), (3151, 0.005597480724132276), (748, 0.005562116560568988), (1031, 0.005562116560568988), (1150, 0.005562116560568988), (1701, 0.005535788383656098), (3016, 0.005515841910275098), (2871, 0.005512988074833368), (132, 0.0055007051769982145), (1389, 0.0055007051769982145), (759, 0.005486398567589553), (670, 0.005471521734932511), (1284, 0.005465052297965996), (32, 0.005447419314266058), (874, 0.005414366036817041), (1132, 0.005409176426050224), (1125, 0.0054064462527500315), (1340, 0.0054064462527500315), (776, 0.005402809415203403), (1290, 0.0053954085703322935), (2510, 0.0053954085703322935), (2688, 0.0053954085703322935), (2820, 0.0053954085703322935), (3190, 0.0053954085703322935), (755, 0.005375652762775781), (3026, 0.005356162444188224), (1054, 0.005327606385707719), (2725, 0.005312599139032231), (3146, 0.005312599139032231), (1105, 0.005302413031517915), (1863, 0.005295642438459966), (3019, 0.005295642438459966), (52, 0.005293735933604173), (1783, 0.005290414351972096), (2744, 0.005278468747854569), (2014, 0.005278251947384934), (976, 0.005275018025432677), (764, 0.005269895200580007), (3101, 0.00524963430733618), (3202, 0.005237664435260954), (1486, 0.005233446113255988), (2182, 0.00522705275746163), (2883, 0.0051990514370841715), (1434, 0.005183652257475927), (1401, 0.005180976051611323), (119, 0.005171297376393881), (2754, 0.00515523654965384), (1138, 0.005147676527665468), (1459, 0.005085627547913243), (1645, 0.0050409673663717154), (535, 0.005026993209163775), (134, 0.00502311388404564), (557, 0.005022396764519927), (944, 0.005014675800195589), (746, 0.005009615499370024), (2165, 0.005006214266655437), (2907, 0.004975664505459605), (2123, 0.004967099786978677), (1046, 0.00493739560609042), (741, 0.0049158702731370366), (1429, 0.004903293271123433), (1649, 0.00489761841404096), (689, 0.004876222667629383), (2121, 0.004874015137581139), (39, 0.004869138312299952), (972, 0.004869138312299952), (1356, 0.004869138312299952), (1696, 0.004869138312299952), (2134, 0.004869138312299952), (1385, 0.0048508902543369925), (593, 0.004850540612023771), (3003, 0.004842139169492544), (1474, 0.00483895570763907), (2733, 0.0048133326657155105), (390, 0.00479964688727738), (840, 0.00479964688727738), (1129, 0.00479964688727738), (1140, 0.00479964688727738), (2525, 0.00479964688727738), (3284, 0.00479964688727738), (982, 0.004797835428058209), (419, 0.004793989770833595), (3297, 0.004788571497060847), (1191, 0.004774957407215964), (3079, 0.004763350839743654), (2084, 0.004762025357965136), (293, 0.0047561228482263605), (669, 0.0047561228482263605), (2471, 0.0047561228482263605), (2979, 0.0047561228482263605), (2054, 0.004746100961513498), (2098, 0.0047269503094391615), (3135, 0.004715310930416183), (255, 0.004713221626993902), (2836, 0.004700506632242507), (2118, 0.004698323564915899), (1383, 0.004697481711797415), (1056, 0.0046971798036046335), (2770, 0.004685357735465152), (805, 0.004679275596428733), (1151, 0.004669541710734441), (3104, 0.004656784907234406), (96, 0.004644031710095393), (1036, 0.0046362321964120564), (615, 0.004632213796690932), (2649, 0.004632213796690932), (2988, 0.004628139876394273), (845, 0.004625475743197736), (846, 0.004625475743197736), (849, 0.004625475743197736), (850, 0.004625475743197736), (2461, 0.004614717166186464), (2651, 0.004610205719369043), (1403, 0.004595499468511953), (438, 0.004583499488486489), (1095, 0.004583499488486489), (1109, 0.004583499488486489), (1599, 0.004583499488486489), (2644, 0.004581060574610556), (2089, 0.004577824138269008), (687, 0.004572259498481882), (2844, 0.004570530932354104), (1555, 0.004570034474842415), (694, 0.004553202236822051), (2803, 0.004552463965698811), (3181, 0.004549418433922667), (2989, 0.004548617437845183), (2458, 0.004546686452386508), (329, 0.0045463645824900464), (1558, 0.00454225527647951), (1316, 0.004535117335643022), (50, 0.004534585719660478), (3081, 0.004534288525360945), (1200, 0.004529745985217392), (2965, 0.004521265740657888), (1235, 0.004520191771275196), (289, 0.004515011536688958), (2131, 0.004506894024822102), (3029, 0.004499596583292259), (470, 0.004498044365269094), (863, 0.004494084529851305), (3074, 0.004493116385586084), (2353, 0.004492035918438389), (203, 0.004488857062901492), (399, 0.004488857062901492), (1127, 0.004488857062901492), (1184, 0.004486604252908598), (2114, 0.0044841320925758064), (3077, 0.00448237637001653), (2638, 0.004477662155881882), (1516, 0.004477460780592628), (2091, 0.004477037527102442), (3245, 0.004467121946908708), (2903, 0.004462311553969416), (758, 0.004459280787714812), (2122, 0.004457153902076146), (2878, 0.004453026076766382), (2410, 0.00445068101005952), (2112, 0.004448235836224761), (24, 0.0044422664829976595), (3127, 0.004434886853598409), (1297, 0.004433499973123065), (2350, 0.004430230021459288), (1752, 0.0044236952192291895), (2031, 0.004419271084083099), (3010, 0.004418810036321389), (2043, 0.004411524939647312), (2090, 0.00441057643132227), (695, 0.004403920759187088), (2867, 0.0044006003510537045), (2176, 0.004387747838682203), (407, 0.0043831611037778665), (3048, 0.00437903822317394), (2373, 0.004378142397806573), (2113, 0.004375748085987005), (899, 0.0043740661937812335), (1460, 0.004368962761321322), (434, 0.0043664808440043515), (1278, 0.004364915597142549), (1388, 0.004358412615163805), (936, 0.004356617030396126), (1507, 0.004354664503849001), (867, 0.004354489332193349), (1093, 0.00435426910268721), (2178, 0.004349612862742187), (3189, 0.004346278732921812), (3008, 0.004344308908454296), (2138, 0.0043427566460530745), (1044, 0.004342462678162953), (2655, 0.004342280895672206), (2769, 0.004341889373057424), (503, 0.00433942468918803), (2151, 0.004337202274211132), (1136, 0.004336663390544665), (1423, 0.00433546347351637), (973, 0.004334855936516076), (2183, 0.0043316602339295695), (1444, 0.004330625006145267), (2890, 0.004329868254846202), (1166, 0.004326886793310168), (2267, 0.004324333807087377), (3125, 0.00432331062296845), (1158, 0.0043181561963628965), (2600, 0.004316458019233425), (2015, 0.004316003115365275), (1756, 0.004309492052975062), (483, 0.004308529531698929), (2096, 0.004308322271570493), (2109, 0.004308272662070387), (3187, 0.004308272662070387), (1303, 0.004304514465556133), (1545, 0.004303390510752281), (2382, 0.004303387812686086), (847, 0.004302610392007259), (848, 0.004302610392007259), (851, 0.004302610392007259), (852, 0.004302610392007259), (519, 0.004302079010776658), (2887, 0.004301672784133438), (1847, 0.0043011726205130765), (54, 0.004300280827151441), (3096, 0.004297671441969769), (2137, 0.0042954393066330174), (3225, 0.004290268758191648), (3139, 0.004290239593195801), (652, 0.004289654299830019), (2460, 0.004288038091548727), (3075, 0.004283639994793842), (721, 0.0042827158890374), (1852, 0.004278037112548158), (226, 0.004277826461564567), (959, 0.00427625597848166), (1808, 0.004275449944492327), (952, 0.0042754081539752905), (2919, 0.004268851851305104), (2175, 0.004262839306174511), (864, 0.004262683644263832), (987, 0.00426207006132203), (364, 0.0042609280455216305), (349, 0.004259929157487023), (2527, 0.004257013196897873), (895, 0.00425500564440843), (1851, 0.004254247562427226), (918, 0.004251351701628267), (3015, 0.004250779628384183), (1556, 0.004249100536875986), (1579, 0.004247502948669861), (958, 0.004247368350981674), (2730, 0.004246385453461527), (1106, 0.0042420027171195945), (2501, 0.004239180643409492), (1049, 0.004237257952023117), (2099, 0.004237050558083008), (2120, 0.0042365445454962975), (2260, 0.004234159762198408), (2094, 0.004233403191388291), (1083, 0.004230323315182009), (2840, 0.004226915286447416), (243, 0.004223456144973834), (891, 0.004221379165540368), (3213, 0.0042205579950024726), (2295, 0.004219496339325465), (35, 0.004218781306941847), (281, 0.0042185976748017745), (3155, 0.004217934899761819), (2029, 0.004216249631790552), (151, 0.004214945367555122), (446, 0.004214484974053041), (1035, 0.004210532623033291), (2767, 0.004209304650922708), (1252, 0.004209051312817393), (103, 0.004208661489962572), (314, 0.0042076437471505876), (917, 0.004207229707381751), (915, 0.004202283062859697), (3017, 0.0041999629711559), (2451, 0.00419858238804402), (2863, 0.00419810942683564), (673, 0.004197328647572281), (2687, 0.004196175339790213), (1194, 0.004196007155839349), (3086, 0.0041957420677324895), (1853, 0.004195446486557896), (477, 0.004195336000179256), (3004, 0.004194877126796966), (3088, 0.004194861637932018), (1698, 0.004194628479855183), (2843, 0.004193575357789682), (2641, 0.004189915304717562), (1710, 0.0041867892568203625), (1374, 0.004186300763947088), (2828, 0.004185204318320461), (109, 0.004184168757760903), (375, 0.0041837273700477805), (1317, 0.004183496954947753), (3271, 0.004182576280640512), (1242, 0.004179940914213981), (250, 0.00417535079553064), (1791, 0.004174646105342324), (1185, 0.004171777094533403), (149, 0.004169478710060463), (1280, 0.004169153462033421), (2930, 0.0041689282923360405), (1033, 0.0041660823264934406), (1772, 0.004165981232205841), (512, 0.004165190732500359), (883, 0.004163571480347755), (667, 0.004161667495867329), (3255, 0.004153702230739777), (3251, 0.004152151189942859), (1665, 0.004151837263962902), (136, 0.004149797257241612), (1872, 0.004148457424687261), (2097, 0.004148046595797379), (1779, 0.00414518139594618), (1616, 0.004144871291377318), (998, 0.004144142437220751), (431, 0.0041439786175666935), (259, 0.004141392440777145), (2093, 0.004137096805968995), (3124, 0.0041356422803701135), (1114, 0.004132125932145163), (2104, 0.004130395661697744), (2513, 0.00413037699983606), (73, 0.004130369361574375), (2431, 0.00412864566116695), (147, 0.004128259425046885), (3277, 0.004126236434580586), (1370, 0.004117100402422169), (3169, 0.004116506583384374), (928, 0.00411603469613769), (22, 0.004115574083526918), (2110, 0.004113845219799785), (1717, 0.004110907951436698), (3138, 0.00411068791046849), (5, 0.004110156429375586), (2518, 0.004109792208789978), (1937, 0.004109054317414349), (2796, 0.004108064641062941), (1866, 0.004107157970928735), (2742, 0.004106851997939626), (995, 0.004106649362151095), (2017, 0.0041052420199382015), (2008, 0.00410349495765515), (16, 0.004101459594504675), (2726, 0.0040999223523736335), (2469, 0.004099787193072398), (1644, 0.0040993747418489), (2092, 0.004097916934850657), (1615, 0.004097405698394369), (2877, 0.004097133640505294), (107, 0.004095883956743582), (963, 0.004093800004584799), (964, 0.004093800004584799), (965, 0.004093800004584799), (966, 0.004093800004584799), (967, 0.004093800004584799), (968, 0.004093800004584799), (969, 0.004093800004584799), (970, 0.004093800004584799), (2240, 0.0040936102134837135), (3239, 0.004092936814083472), (2168, 0.0040928093746115625), (1167, 0.004092719831743108), (1205, 0.004092467043476082), (605, 0.004088692976582114), (1428, 0.004088330929944533), (3053, 0.004086346527353158), (1932, 0.004084074327236331), (1277, 0.004083936850304085), (2819, 0.004081377215247306), (2838, 0.004081263926709069), (423, 0.004079307500837453), (3095, 0.004078489512461516), (1502, 0.0040776838770837), (1463, 0.004076490176555521), (1742, 0.004076197500551392), (2486, 0.004072062400298888), (834, 0.004071773877874497), (3266, 0.0040714895595229785), (1861, 0.00406941583713814), (1620, 0.004068249254001229), (167, 0.004067165309554575), (1341, 0.004065025573867223), (1260, 0.004064308476415961), (1391, 0.004063680571293818), (3294, 0.004063496930740511), (2773, 0.004062523819977724), (1871, 0.004059354141961116), (3131, 0.004059073273060292), (621, 0.004056887288586585), (504, 0.004055488020114327), (1564, 0.004054829433427992), (1073, 0.004054546638308786), (929, 0.0040535610531621915), (1576, 0.0040532208121846335), (2115, 0.004051100860894873), (2581, 0.004049951165580922), (3283, 0.004049566745439121), (3083, 0.00404932938350988), (1256, 0.00404849398284002), (792, 0.004047988363624512), (422, 0.004047792636836476), (40, 0.004047081470390206), (2783, 0.0040460494121085004), (890, 0.004045874468153108), (1833, 0.004045122398764223), (1082, 0.004044054009285944), (2344, 0.00404031327905694), (1780, 0.0040396552756923835), (2913, 0.004038820990324931), (172, 0.004038294063804098), (868, 0.004038236544694476), (1668, 0.004038123739658135), (910, 0.0040358321231570736), (1784, 0.004035302823482282), (1570, 0.004033758720829586), (1312, 0.004032206009410746), (884, 0.004030918830833426), (2683, 0.004030268490293779), (2931, 0.004029828228211648), (636, 0.004025123301661768), (3045, 0.0040243197254251906), (525, 0.004024098635410835), (856, 0.004022322486268785), (1039, 0.0040217516916208045), (2932, 0.004020900622617557), (2296, 0.004019673483787828), (1978, 0.004016731041391577), (345, 0.004015568284357501), (2347, 0.004015260496786919), (2940, 0.004014513503653789), (1041, 0.004013208600072107), (1748, 0.004012233199195052), (749, 0.004011665478474981), (2772, 0.004010618038447811), (2666, 0.0040088184739016505), (1532, 0.004006528106608365), (295, 0.004006484038040385), (1222, 0.004005477929330102), (1104, 0.004004719262307468), (1771, 0.004004719262307468), (499, 0.004003902473638392), (456, 0.004002273541000275), (1856, 0.004001670993506367), (1753, 0.0040015682459773935), (3243, 0.004001249278415148), (80, 0.0040009453502260275), (2372, 0.003998836538654557), (1867, 0.003997837523614968), (2954, 0.003997729225524866), (912, 0.003997202001801637), (833, 0.003994605899398405), (181, 0.00399424271226443), (196, 0.003993238577052671), (1065, 0.0039931964395183315), (1613, 0.003992895760470941), (1931, 0.00399129671016999), (1324, 0.0039909345328585635), (984, 0.003990504848060285), (376, 0.003989778110904768), (1857, 0.00398907794858933), (1578, 0.003988577969087787), (791, 0.003987961025004369), (1281, 0.003987931206606149), (1107, 0.003987887575647916), (441, 0.003987041622155689), (70, 0.0039868470712585554), (2430, 0.0039862521072680564), (2985, 0.0039857729717218794), (3253, 0.003985605582526983), (2258, 0.00398543632436581), (3046, 0.003984911122638952), (2132, 0.00398474010591141), (187, 0.003983415266195264), (3070, 0.003983157109537515), (199, 0.003983112715638774), (321, 0.003978098923202946), (564, 0.0039773203063629145), (204, 0.003975729287505579), (2968, 0.00397460045814505), (577, 0.003974151630726097), (2760, 0.003974082107149709), (2418, 0.003973605021360568), (2786, 0.00397311547101192), (48, 0.003972622493326914), (506, 0.003972243453581465), (1373, 0.00397112923190374), (2917, 0.003970945362299447), (2624, 0.003970793226159605), (1404, 0.003970048454810457), (2983, 0.0039700450538926605), (1092, 0.003969033319622426), (2334, 0.003968897445255606), (3274, 0.003968306024024143), (2146, 0.003967030360746165), (609, 0.003966862846731498), (2936, 0.003965624582734035), (2227, 0.003965022537648873), (2352, 0.003964978643355503), (2492, 0.0039635859106224676), (98, 0.003963141672447264), (325, 0.003962700894638925), (1477, 0.003962537886086852), (2332, 0.003961564575794895), (1381, 0.0039612636850887145), (830, 0.00396117641356611), (861, 0.00396117641356611), (1982, 0.003960922227624604), (262, 0.0039585580693191815), (676, 0.00395846632082078), (677, 0.00395846632082078), (678, 0.00395846632082078), (679, 0.00395846632082078), (680, 0.00395846632082078), (681, 0.00395846632082078), (682, 0.00395846632082078), (683, 0.00395846632082078), (1819, 0.003957702437427937), (2822, 0.0039531162573343895), (2468, 0.003952640236359142), (2536, 0.003952112476202882), (1195, 0.003951693858269809), (1322, 0.003951522686873591), (1159, 0.0039502349601265), (1223, 0.003948209240088282), (101, 0.003946654086232587), (1585, 0.0039459683849976035), (2117, 0.003945831970777125), (1875, 0.003945703584049652), (1977, 0.003945450291318044), (1612, 0.003941623827484879), (2665, 0.003940275176786634), (2569, 0.003939314599215644), (1221, 0.0039383783982129845), (78, 0.003936042553975811), (426, 0.003934259995156981), (378, 0.003933589231312647), (2447, 0.003933534064958941), (1800, 0.003933192175491583), (1244, 0.00393233706241579), (1704, 0.003930957204756643), (1396, 0.003929961193157281), (2041, 0.003929288588751466), (900, 0.003926415524456292), (2690, 0.0039259188204366765), (8, 0.003925633709791419), (1828, 0.003925499191498431), (2135, 0.003925219754205767), (222, 0.003925181905338088), (2607, 0.003924561290173189), (688, 0.0039228889482598546), (542, 0.00392138206262016), (1487, 0.003918777513986513), (3123, 0.0039183072052771965), (217, 0.003915718592605757), (2619, 0.003915695877478825), (1227, 0.003915242469208757), (1438, 0.0039149385026484166), (214, 0.003914846981911617), (267, 0.0039146370015654495), (3171, 0.003914417065581485), (743, 0.003913256349151395), (1935, 0.003912605791664579), (195, 0.003912601230113789), (2639, 0.003911623342943868), (1727, 0.00390904310566375), (2661, 0.003907958124561998), (1759, 0.0039076091224715765), (3287, 0.003905826448999141), (1435, 0.003905342227029008), (2833, 0.003904790382049499), (3276, 0.0039047478077779024), (1930, 0.0039030634915169908), (1686, 0.003902353424181443), (3161, 0.0039019230568072224), (2190, 0.003901202216592675), (1598, 0.003900733121231883), (1189, 0.0039006944114973467), (2892, 0.003900025785809044), (920, 0.00390000123503649), (1628, 0.003899637202902228), (1119, 0.003899607104032901), (664, 0.0038991096961178877), (1304, 0.0038986341270814124), (1455, 0.0038981768758105965), (1587, 0.0038980194789122596), (1028, 0.0038980150170288236), (1306, 0.003897685931310711), (2520, 0.0038976627672020403), (2574, 0.003897252173305332), (953, 0.003896253313217117), (88, 0.003895880413289053), (699, 0.003895303877178953), (2140, 0.0038950548462567797), (2230, 0.0038949540888907255), (2616, 0.003894807814624844), (3264, 0.0038947765607518616), (335, 0.003893508837550481), (3068, 0.003891872597725713), (1537, 0.003891653649945194), (330, 0.0038892465706352095), (476, 0.0038880480363615313), (986, 0.0038869578731199807), (2815, 0.003886816775868657), (2023, 0.003886565169719543), (1061, 0.0038855360697319704), (3005, 0.0038855201298733737), (2198, 0.0038827584554852732), (72, 0.0038821156872021955), (1274, 0.0038807528695373045), (2079, 0.0038801457739240115), (1733, 0.003879551012844567), (1101, 0.003879521120458846), (1604, 0.003878398386429607), (198, 0.0038777517822214404), (2192, 0.0038769960677732113), (2185, 0.003874628155920565), (735, 0.003874225795915729), (700, 0.0038736466643112207), (672, 0.0038715316818124686), (2298, 0.003869187155093214), (3064, 0.003868156544022839), (489, 0.003868129694714935), (773, 0.003867856226673713), (1790, 0.0038669619170927363), (1372, 0.0038664136639759046), (862, 0.0038646580264111), (2177, 0.003864446478876196), (2517, 0.00386395261038873), (2696, 0.0038629290123817694), (2575, 0.0038625804719797066), (1544, 0.0038620123038885464), (1987, 0.0038608962189528567), (15, 0.003860742315766037), (1196, 0.0038586532939442167), (1465, 0.0038583569218390307), (880, 0.003858223773512869), (2244, 0.0038580333228669388), (417, 0.0038565649223661746), (3282, 0.0038564518517456422), (893, 0.0038555237451129254), (1325, 0.0038546158606293296), (1448, 0.0038539680821169267), (1563, 0.00385319218882829), (586, 0.0038506875709955943), (2508, 0.0038497239867324156), (1305, 0.003849365033947496), (824, 0.0038486038270608923), (1160, 0.0038475139943298714), (3128, 0.003847121106643917), (1933, 0.0038464886347354186), (1844, 0.0038458290145896743), (2686, 0.0038457340631825746), (332, 0.0038449131440024746), (2909, 0.003844288073494217), (253, 0.00384417979706625), (2457, 0.003843724898929736), (1521, 0.003843113215715037), (379, 0.0038429928345543422), (592, 0.003842464938366011), (3133, 0.00384240990368586), (2086, 0.0038414337991185487), (1128, 0.0038412223228089463), (2868, 0.003841203205695336), (1893, 0.0038401144522552094), (1464, 0.0038400023130118633), (1804, 0.0038397043610208766), (2215, 0.003838362835825661), (1625, 0.003837521482486772), (2277, 0.0038371654902880966), (784, 0.0038363975189467945), (2966, 0.0038357598400677513), (3257, 0.0038352486185369242), (1143, 0.0038349760804891105), (3061, 0.0038331868075724466), (469, 0.0038322860535544793), (1243, 0.00383224365711873), (97, 0.003830430552921008), (549, 0.00383042981729287), (750, 0.0038299013418278596), (2734, 0.0038297721540243917), (1534, 0.003829234367579115), (3260, 0.0038281330604413998), (284, 0.003827062297620125), (449, 0.00382654605895717), (180, 0.003826336229947831), (93, 0.003825378416781816), (1208, 0.0038249576107529594), (1182, 0.003824786928248703), (1473, 0.003823198682859565), (715, 0.0038228322152005726), (980, 0.0038226204192347403), (1402, 0.003821783853811979), (2283, 0.003821512930036506), (1045, 0.0038208809066863944), (2860, 0.0038199732560887643), (1870, 0.0038191852079089055), (418, 0.0038184978255027505), (292, 0.003818445557169073), (21, 0.0038175263283160028), (3114, 0.0038171046241842086), (2902, 0.0038169301921405344), (2792, 0.003815910430547624), (1234, 0.0038136717722461067), (144, 0.0038136373345391958), (279, 0.0038134544559237002), (2200, 0.0038128480626422614), (2610, 0.003810760237910094), (194, 0.00381051359058443), (2566, 0.0038094741773283436), (1011, 0.003808848411908026), (368, 0.0038074917961111836), (1597, 0.003807195366713703), (907, 0.0038056358475624507), (1699, 0.0038042814439188384), (223, 0.003803876609870112), (2766, 0.003803046672499054), (1110, 0.0038027389670906657), (370, 0.0038027291954229377), (2024, 0.003801830398832774), (2444, 0.0038015433859163263), (1074, 0.003800827275809951), (2435, 0.003800796097399135), (2101, 0.0038005423560034906), (1523, 0.003799492645045752), (402, 0.0037990383519702566), (2563, 0.003796741854619604), (1934, 0.0037958347194562403), (1331, 0.003795811644958261), (502, 0.003794592445809441), (600, 0.0037936152488324006), (2653, 0.0037931824244896275), (229, 0.003792996976541048), (3044, 0.0037927283226270054), (613, 0.0037895335214672156), (1846, 0.0037895335214672156), (1052, 0.0037884522683653984), (1162, 0.003787937986416798), (510, 0.003787567909377786), (551, 0.0037869465970405336), (3057, 0.0037860884415522713), (342, 0.0037846647502754057), (1626, 0.0037846294174239447), (765, 0.0037846121681378232), (696, 0.0037843926892276677), (1745, 0.0037829775363379023), (1408, 0.003782606675887136), (3106, 0.0037825875160506497), (1571, 0.0037824579459577678), (520, 0.003781208984694671), (1722, 0.0037803312465205445), (1708, 0.003780239962063969), (3013, 0.003779304427031315), (45, 0.0037785927802093484), (3285, 0.0037768754903222714), (2042, 0.003775808594597273), (1660, 0.003774775273413788), (437, 0.0037735178230495175), (2668, 0.003773211662589618), (2516, 0.0037725984187363683), (2631, 0.0037718175534078736), (2809, 0.003770905062997134), (2978, 0.003769855804054824), (3002, 0.003769576154549296), (2236, 0.0037695576622457363), (1084, 0.0037675695729800646), (486, 0.003766908585013173), (1868, 0.003763942051163532), (2817, 0.003763688065781437), (2284, 0.0037633431761770197), (2900, 0.003763157689786189), (2387, 0.0037623998309104702), (395, 0.0037616420709657853), (2918, 0.003760527794652587), (1059, 0.0037597026420837934), (3065, 0.003759354937498774), (474, 0.003759177520931543), (2335, 0.0037591189423839197), (1986, 0.003757889830102747), (1214, 0.0037576792048488626), (707, 0.0037576025149802894), (1165, 0.003756989247718118), (1637, 0.003756403354600994), (2038, 0.0037563929822022318), (3118, 0.0037561620835849935), (2256, 0.003755872084817858), (3078, 0.0037558328991037404), (124, 0.0037553022322540995), (2694, 0.0037547706612353587), (505, 0.003754578623733562), (82, 0.0037531911614778635), (2667, 0.003751669305379044), (2057, 0.003751493962242629), (90, 0.003750744440867473), (599, 0.003750395043606841), (1956, 0.0037499264791621603), (3263, 0.003749395953017103), (2441, 0.003748360810224537), (393, 0.0037481751251908424), (377, 0.0037474139291076678), (2037, 0.0037471457829414824), (429, 0.003746285431232814), (1617, 0.0037459979116059774), (2526, 0.00374473652512108), (1526, 0.0037446368672687303), (2400, 0.00374384508504833), (1210, 0.0037437682054752303), (1040, 0.0037428129209893133), (3034, 0.003740551845909949), (2480, 0.003739880880818554), (919, 0.0037387080360383957), (1172, 0.0037381543347726072), (1524, 0.003736952758398987), (1376, 0.0037366134798385354), (1287, 0.003736082230914762), (723, 0.0037355800987599573), (211, 0.0037355668593805394), (3259, 0.003735472620128179), (1678, 0.003734993726268865), (501, 0.003733855721700427), (1225, 0.0037334009043925613), (1371, 0.003732900707584048), (1478, 0.003732900707584048), (296, 0.0037325762655238607), (943, 0.0037298598813768546), (2869, 0.0037291366750001127), (1226, 0.003728836677822444), (516, 0.0037285282746104534), (3237, 0.003728413756830987), (3031, 0.003727769570168241), (2220, 0.0037269291417433843), (2567, 0.003726539540918504), (2948, 0.0037263100275845423), (584, 0.0037244496110526754), (1920, 0.0037244418888608814), (1573, 0.003723799821543069), (3120, 0.003723657835882248), (3194, 0.003721524652793597), (3180, 0.0037192427920281763), (493, 0.003718709328359233), (1921, 0.0037183745689197997), (815, 0.0037178087256165755), (288, 0.0037177482277649275), (1187, 0.0037172515375844904), (1300, 0.0037165991734670555), (3080, 0.0037162404058830472), (2598, 0.003714695375200347), (1840, 0.003713647321685708), (205, 0.003712147812593671), (988, 0.0037115480811460346), (1224, 0.003711360041276961), (1850, 0.0037113131781339338), (1387, 0.003710327512931312), (1657, 0.0037088490564947552), (1186, 0.00370840904260117), (1614, 0.003708265884760367), (2077, 0.0037073857760384853), (1633, 0.003707165827054619), (1004, 0.00370686404874736), (14, 0.0037062613860202142), (46, 0.0037057240926313085), (1636, 0.0037055293781895226), (2963, 0.003704819520932449), (2669, 0.00370433605250971), (1171, 0.0037031910533796503), (460, 0.0037030511355519357), (751, 0.0037030174876233925), (1658, 0.0037023568914507036), (161, 0.003701734437067431), (762, 0.00370149011108069), (1713, 0.0037010311682372007), (2485, 0.003699355755955139), (1880, 0.003698193940527093), (394, 0.0036975484139537673), (916, 0.003697067186931283), (2568, 0.0036961748461408553), (130, 0.003695975198279842), (158, 0.0036958666762315255), (2561, 0.003693210373045786), (1650, 0.003692938102541994), (1330, 0.003692883841625231), (800, 0.0036928474631848056), (529, 0.00369239450532523), (1546, 0.003691932645773725), (257, 0.0036916466746367005), (2475, 0.0036913846583313445), (265, 0.003690326354741444), (956, 0.00368989317833659), (2880, 0.0036895918506425246), (316, 0.003689437557046857), (2731, 0.003688401161950822), (1302, 0.0036878368584014327), (1266, 0.0036868091830901404), (276, 0.0036864410086328765), (1746, 0.003686223902748057), (2916, 0.0036851103621098552), (2237, 0.0036841143018218015), (1349, 0.003683522380232074), (1684, 0.0036828557018551587), (2738, 0.0036822506564278667), (1793, 0.0036812794826281106), (3183, 0.0036808220587477413), (1849, 0.003680508311445143), (550, 0.0036803515736257447), (269, 0.003679615913788082), (2427, 0.0036790296947008666), (170, 0.003678954340920705), (2571, 0.003677487243451885), (1716, 0.0036760688032989354), (2604, 0.0036758476176888947), (2976, 0.003674639974537918), (1285, 0.003672962330582144), (3227, 0.003672913361965126), (3292, 0.003672087628105753), (3022, 0.003671945037726449), (1732, 0.0036711105494990947), (757, 0.0036709631764437227), (1430, 0.003670475119096359), (1019, 0.003670404253879647), (1236, 0.0036691909816304324), (2874, 0.0036689857673640725), (1589, 0.0036688590748337477), (1203, 0.0036688259272998278), (3058, 0.0036668473911928325), (1307, 0.0036665299783619587), (488, 0.0036659086581499667), (2181, 0.003665782552538601), (3154, 0.003665782552538601), (769, 0.0036655500040263015), (1824, 0.003665105042272421), (2119, 0.00366464469090164), (3214, 0.003663640450950006), (1342, 0.003663034051795691), (2674, 0.0036629777722355567), (2497, 0.0036629683169490342), (3244, 0.0036627054096888836), (2947, 0.0036616571656773486), (1229, 0.0036616481991666966), (3110, 0.0036616381574527727), (1985, 0.0036615699582489875), (1562, 0.003661123848476081), (2695, 0.0036602073569168285), (1079, 0.0036591331363549666), (1050, 0.003659012257351534), (3158, 0.00365821080061067), (13, 0.003657956841073183), (1898, 0.003657258339866885), (249, 0.003656548569744704), (637, 0.003656489767922998), (2901, 0.0036540910529562778), (2870, 0.0036539487728459883), (1259, 0.0036537667043861264), (2739, 0.003653392659634411), (2713, 0.0036532708203401263), (315, 0.0036528934779683324), (1787, 0.0036522974620010642), (2442, 0.0036514436273015847), (2752, 0.0036511057399796864), (1202, 0.0036502127607419862), (2789, 0.003649875244673193), (3011, 0.0036496925444208243), (761, 0.003649435028923981), (1053, 0.003649146310361968), (2397, 0.003648351967251019), (2308, 0.0036473206372742493), (1634, 0.0036472341388381242), (2111, 0.00364682837797547), (1883, 0.0036467333455160655), (299, 0.003646351512089976), (333, 0.003645946865486237), (522, 0.003645464890591295), (2087, 0.003645115880424974), (1090, 0.0036450574995200093), (344, 0.0036447736377890447), (2316, 0.003644763453343635), (1662, 0.0036444971957322893), (210, 0.003644496682665901), (2265, 0.00364301636924526), (1081, 0.0036428812781448597), (443, 0.0036428447507669813), (1153, 0.003641141621378124), (1547, 0.0036409086024058288), (311, 0.0036391787052068468), (1659, 0.003638361275167679), (975, 0.003638334789482172), (619, 0.003638022536443017), (786, 0.0036371011224961155), (188, 0.0036351561188971166), (1591, 0.003634929579631435), (3103, 0.0036348502118509767), (2247, 0.003634683427967115), (2759, 0.003632698868583248), (1137, 0.003631193528908684), (1062, 0.003629643950766565), (1298, 0.003629126941542331), (2340, 0.003628975817686675), (1979, 0.003628493027103632), (2424, 0.003628374289507181), (1190, 0.0036255177981790124), (2763, 0.0036253080733731117), (2850, 0.0036251585691950807), (138, 0.003624845587980878), (2496, 0.003624845587980878), (2832, 0.0036246136975910293), (1239, 0.003624544045927926), (2681, 0.003623920292206557), (949, 0.003623679108211415), (2339, 0.00362316820950822), (726, 0.0036199702168297765), (3091, 0.0036197169299566245), (2108, 0.003619443076908711), (85, 0.003618878167781135), (1338, 0.0036186415293479055), (1969, 0.0036185531139007847), (156, 0.0036183510940378965), (2142, 0.0036178453164669193), (524, 0.0036168883173319896), (464, 0.0036164285699081147), (371, 0.0036162066483533865), (49, 0.0036154434599348717), (2456, 0.003615223201172436), (2827, 0.003614830947956887), (264, 0.0036148250385539702), (95, 0.0036141530322697556), (853, 0.003612264355516951), (1842, 0.0036121493376460815), (931, 0.0036121342481921577), (367, 0.0036099790801183075), (3060, 0.0036099790801183067), (2470, 0.003609324916569795), (206, 0.0036090869724108416), (836, 0.00360874882148605), (1149, 0.0036086344410542655), (841, 0.0036083168576609777), (1218, 0.003607304709389988), (242, 0.0036071262136470545), (2560, 0.0036066646972972224), (1130, 0.0036062953893733246), (2514, 0.003606149657441519), (2216, 0.003605609980830767), (3100, 0.0036054820776400876), (29, 0.003605411118745815), (1892, 0.003605317276752075), (1799, 0.0036048038770680824), (3036, 0.0036047298653200137), (1816, 0.0036039746560941775), (1838, 0.0036039506534483495), (278, 0.0036037544106442684), (162, 0.003603710293694635), (985, 0.003602149307381812), (1860, 0.0036019409741042483), (34, 0.0036007929479771965), (2318, 0.003599421396036007), (1355, 0.003599041106230134), (2926, 0.003598671313502732), (794, 0.003597617196712352), (159, 0.0035967019410746196), (1133, 0.0035965074049589115), (2545, 0.0035963735393528262), (2603, 0.0035963209563716907), (2455, 0.0035953517818900424), (2359, 0.003594812457631675), (140, 0.003594786156853396), (1030, 0.003594475591832125), (517, 0.003593865265908926), (745, 0.003593119083818044), (2477, 0.0035930846284939004), (1318, 0.003592957930082529), (2852, 0.003592883409327341), (2179, 0.0035924603711636523), (2211, 0.0035923127247802847), (152, 0.0035921105769288683), (1273, 0.0035919709749927713), (1351, 0.003590998702827181), (2371, 0.003590342335022391), (709, 0.0035892139287146655), (31, 0.0035891817347469776), (3032, 0.0035886236303039145), (3112, 0.0035883146873862347), (1481, 0.0035862370482571417), (3129, 0.0035854700073043914), (2782, 0.0035850859330274114), (2349, 0.003584839060328017), (2214, 0.0035841799591263012), (2194, 0.0035835826636796777), (1163, 0.0035822972875827856), (1740, 0.0035814569233430563), (108, 0.00358121523069135), (2984, 0.003580638191017544), (640, 0.0035803283662166666), (1882, 0.0035800712366584556), (238, 0.003578464073152422), (1681, 0.0035783068932294746), (1113, 0.0035773151974570917), (2823, 0.0035765655055449144), (1697, 0.003575774552578368), (1077, 0.00357466651265006), (1173, 0.00357460864856154), (2388, 0.00357354106619333), (2428, 0.003573514855820641), (946, 0.00357309913488736), (649, 0.00357266684918893), (818, 0.0035702189628849827), (3023, 0.00356944111322762), (1729, 0.0035687822064879855), (685, 0.003565886443727544), (1973, 0.00356546708245842), (1887, 0.0035652844098009763), (2404, 0.003564802268133202), (2317, 0.003564798288728101), (451, 0.00356393444737787), (1602, 0.0035627015126444175), (2333, 0.0035627015126444175), (3160, 0.0035623740421226167), (1689, 0.0035618093016473494), (1675, 0.003561135984371337), (3280, 0.003560672692935079), (2841, 0.0035596422442008353), (738, 0.0035595192544251903), (353, 0.0035587593158417532), (1006, 0.003558512663178049), (3001, 0.0035582256151390607), (3201, 0.003558010479824626), (403, 0.0035573652338061874), (1858, 0.003556297624276974), (1595, 0.003555377634341139), (2969, 0.003555135367532669), (1580, 0.0035547870011134997), (574, 0.003553918603859125), (2788, 0.003553714985660998), (1386, 0.0035533436743138387), (1294, 0.003553223316566997), (1449, 0.0035524451233295185), (2693, 0.0035524314358685374), (1271, 0.003551313562304921), (971, 0.003551181964331037), (27, 0.003550170334347501), (1854, 0.0035486961620015667), (2859, 0.0035450658117412207), (360, 0.00354491894996019), (1157, 0.0035448688565806663), (2210, 0.003543565186248597), (2386, 0.003541709407028909), (927, 0.0035413247028379287), (1676, 0.0035412845133351513), (580, 0.0035403491757864756), (3051, 0.0035402918290458976), (3147, 0.0035395154162371815), (307, 0.0035393604220829286), (112, 0.0035388910131861438), (2264, 0.0035388910131861438), (2999, 0.0035388910131861438), (1720, 0.0035369955672120397), (3203, 0.003536873913299502), (1078, 0.0035364120708669144), (169, 0.003536272167719273), (1060, 0.0035353278410415316), (2777, 0.0035351004650779156), (2546, 0.0035343130066679777), (2995, 0.003534247162282162), (2565, 0.0035338893162918444), (60, 0.003533879261562891), (1311, 0.003532717186463725), (2500, 0.0035322209455881104), (421, 0.0035321253701714314), (2144, 0.003531988527561643), (1603, 0.0035318735556237944), (2973, 0.0035315414966991684), (1761, 0.003530979394822589), (807, 0.0035299609785333914), (1354, 0.0035294377479176556), (837, 0.003529117460994848), (1230, 0.0035289334457125373), (2830, 0.003526811725921551), (1085, 0.0035267536378054934), (2204, 0.0035265716805987692), (9, 0.0035258145465273303), (3126, 0.0035258040467136104), (2511, 0.003525317825317933), (286, 0.003524711715858705), (1758, 0.0035245745535467314), (1974, 0.0035245745535467314), (2051, 0.003523471462889078), (1593, 0.0035234009758864553), (3027, 0.003522928567294847), (1238, 0.0035223102188445816), (3273, 0.0035222261871613817), (983, 0.003521984254180732), (2904, 0.0035216450821373884), (1197, 0.003520747249142094), (2729, 0.0035206954428807537), (1327, 0.003517960794975032), (485, 0.003517674218435507), (1124, 0.0035170685020392595), (3092, 0.003515455660634155), (819, 0.0035139298157562844), (2814, 0.003512992520036288), (2171, 0.0035125376012143886), (2018, 0.0035116328507905394), (420, 0.0035113782299822528), (1894, 0.0035067037390778136), (1267, 0.0035057535356735796), (478, 0.003505681998655052), (2854, 0.003504501498469133), (1901, 0.0035043645351559055), (3168, 0.0035034650925330384), (386, 0.0034997677542746627), (2714, 0.0034996979556763284), (497, 0.0034994166497508542), (391, 0.003498060016320981), (287, 0.003498058572494124), (266, 0.003497391774371617), (1736, 0.003497391774371617), (2125, 0.0034973549378210884), (2646, 0.0034969549976914564), (1855, 0.003495562295593879), (1682, 0.003495562196777161), (361, 0.0034955306000244743), (2881, 0.003495010537254173), (1522, 0.00349432446509662), (990, 0.0034938892562526185), (207, 0.0034926350305813977), (2765, 0.0034913914198471787), (2614, 0.0034902901779539463), (2506, 0.003490050152143965), (2326, 0.0034900139564602605), (1269, 0.003489733270021312), (1611, 0.003488051539960654), (1917, 0.003486632454393427), (1810, 0.0034846810102779637), (2657, 0.0034817614410056355), (2855, 0.0034798829534907214), (583, 0.003478780844608789), (28, 0.003477535017906247), (2426, 0.0034745305140053027), (1802, 0.0034739192994476305), (1538, 0.0034732955624853243), (2530, 0.00347059376874428), (543, 0.0034691540876286373), (400, 0.003468961463021686), (585, 0.0034677839956733115), (312, 0.0034674949990240234), (2078, 0.0034672729598160174), (1836, 0.003466760682813059), (2640, 0.0034661047796950436), (3220, 0.0034655760403684947), (1832, 0.003464800596692197), (854, 0.003464658750308626), (2921, 0.0034638987866035297), (606, 0.003463738875208396), (1319, 0.0034629065712350232), (2937, 0.0034623227483969498), (954, 0.003461457604418002), (1323, 0.00345828707659772), (2882, 0.003458269611127919), (3166, 0.0034581650655403184), (1690, 0.003458038076918513), (1228, 0.00345740096524999), (1549, 0.0034566072124465413), (1299, 0.00345572909124692), (2482, 0.0034544513942839604), (1216, 0.0034543171134218766), (536, 0.003454260379953504), (2811, 0.0034537957758636805), (1262, 0.0034535475089183918), (1456, 0.003452980828100532), (2241, 0.003452573077683844), (3286, 0.0034522812690392507), (539, 0.0034516017367315047), (2028, 0.0034507186145861495), (1209, 0.003450190112371184), (2374, 0.0034499205838523527), (1572, 0.0034488174803453146), (1988, 0.003448469542977523), (1251, 0.003447342000913589), (878, 0.0034472639387985), (1747, 0.0034467333357515624), (3279, 0.0034463327667271014), (559, 0.0034459784005459494), (3256, 0.003444619571179043), (1470, 0.003441509082502389), (2025, 0.00343987386897147), (3178, 0.0034396068959518613), (1886, 0.0034389900654928874), (2642, 0.003438733277747425), (598, 0.0034386990277375227), (69, 0.0034384207166001115), (1939, 0.0034381201819649035), (1320, 0.003437766383824004), (2064, 0.003437576674902833), (663, 0.0034363780252379323), (2856, 0.003436044848207658), (1972, 0.0034348077976910467), (3247, 0.0034348077976910467), (881, 0.0034344850985473636), (1517, 0.0034344850985473636), (2280, 0.003434263173004005), (1382, 0.0034336232882796044), (857, 0.0034330557866270248), (2058, 0.0034322199971654364), (3012, 0.003430670034603978), (2235, 0.003428989177338059), (3174, 0.003427533081234869), (870, 0.003425394673101988), (2679, 0.003424269757444594), (2547, 0.003423697472440014), (2813, 0.0034229400538576624), (2448, 0.003422643008501234), (1177, 0.0034226129522609734), (1511, 0.003419742102461972), (2675, 0.0034189248685730375), (2030, 0.003418168456254516), (2366, 0.00341775031420185), (2472, 0.003417084249036729), (2433, 0.003415901192900136), (1183, 0.003414599297090145), (2577, 0.003413961133770715), (3221, 0.003413722321331017), (2784, 0.0034136914907989036), (788, 0.003413375443135293), (1392, 0.0034114753713220614), (2849, 0.003410422332760738), (722, 0.0034091655348386794), (996, 0.003407199648186075), (1723, 0.003407046105724125), (1557, 0.003406384132683088), (1839, 0.0034058068862296755), (1098, 0.003404766688232079), (2348, 0.003402830298355121), (1656, 0.003400937210537806), (2310, 0.0033998829467494396), (2972, 0.0033995852899163263), (2421, 0.0033953004710295187), (297, 0.003392292717662257), (1377, 0.003390402051318151), (1724, 0.0033901941728770747), (453, 0.0033884824324963434), (697, 0.0033880224969630984), (1352, 0.0033877505085522174), (3071, 0.003386631652843664), (2464, 0.003385347365403499), (1360, 0.003384899549656962), (2605, 0.0033845350833108644), (2895, 0.0033845350833108644), (706, 0.0033842614329982314), (1321, 0.003382813102823408), (623, 0.0033827798101005286), (2319, 0.0033822595249978988), (1718, 0.0033806703707371768), (1240, 0.0033801339216072137), (2251, 0.003380001954861012), (1899, 0.003378779769990691), (1263, 0.0033781903241016506), (372, 0.003376905582954456), (2753, 0.003375639248766801), (2715, 0.0033756288502482077), (472, 0.0033739923127436033), (174, 0.0033732432413203003), (2906, 0.0033732432413203003), (1314, 0.003372702752007012), (3159, 0.003372238525734584), (2245, 0.0033708354885692653), (1334, 0.003369168698252244), (2905, 0.003368376510509147), (804, 0.0033677652733097624), (454, 0.003364696952147116), (30, 0.003362633178546181), (1610, 0.003362615322431757), (148, 0.0033614911408585573), (731, 0.0033613661182787416), (2026, 0.0033612049173265958), (2355, 0.003360824314541829), (2764, 0.0033602736875322243), (165, 0.0033596125366911907), (1889, 0.003359595179783148), (1891, 0.003359595179783148), (2229, 0.0033581799604404153), (1179, 0.003358122134408833), (1192, 0.003358122134408833), (3278, 0.0033560558445929044), (2478, 0.003354755817523114), (2992, 0.0033534876699040906), (658, 0.0033529571518418765), (631, 0.003351785920743492), (1664, 0.0033515083786962766), (3249, 0.0033494031298510808), (2303, 0.003348188178259985), (1601, 0.0033480840520764095), (2831, 0.0033479133659862124), (555, 0.003345412072575234), (41, 0.003345374684206323), (1907, 0.0033453387572933424), (2853, 0.0033439114375470058), (843, 0.0033435431208936306), (1906, 0.003342094534769382), (221, 0.0033374200366032085), (1094, 0.003335563892003707), (1310, 0.0033354935477878183), (594, 0.003331416486751116), (2255, 0.0033308452747708235), (2897, 0.003329407650215295), (2942, 0.0033288439686340364), (2381, 0.0033282856673665017), (1328, 0.0033280723975932505), (911, 0.003326410154378918), (1835, 0.003325884815162983), (1594, 0.0033256950874356902), (1865, 0.00332477902630221), (150, 0.0033238812497590033), (2107, 0.003323306580652248), (3288, 0.003323116784651626), (2191, 0.003322091049361047), (1629, 0.003319955715941997), (303, 0.00331933496520703), (514, 0.0033187520229749504), (1975, 0.003316037931747652), (2643, 0.0033157481076211965), (2429, 0.003314850811204382), (1905, 0.0033145648964708774), (2401, 0.003313545644991296), (3182, 0.0033119972994632607), (298, 0.0033087960800125605), (157, 0.0033071776145647625), (2362, 0.0033063206384575093), (2534, 0.0033057624065001207), (2778, 0.0033053471801672706), (2896, 0.003304911523350283), (3089, 0.003303288334167392), (1890, 0.003302898509997819), (2105, 0.003302780577809949), (1175, 0.003302081417111748), (1442, 0.003301948373889409), (2861, 0.003301825079503069), (2253, 0.003301284655573066), (2946, 0.0033002655929381362), (1361, 0.0033000345376430085), (302, 0.0032992585088900566), (2395, 0.0032984838958970164), (2367, 0.0032958572191022183), (2620, 0.003295592144575679), (3207, 0.003294453562090856), (2439, 0.0032941170060755147), (2531, 0.0032920070819414996), (1188, 0.0032919738213238532), (2974, 0.003291321328878084), (2790, 0.003290330749748801), (1609, 0.0032899015906753316), (2807, 0.0032889975979762533), (1276, 0.003287611167505419), (727, 0.003286717389385419), (1881, 0.003284970544945856), (1543, 0.003284881420254722), (475, 0.0032841648513984158), (2894, 0.0032835270843565197), (2443, 0.0032827696481187315), (2363, 0.0032819767978436894), (1279, 0.003279660336255622), (43, 0.003276411101469112), (2186, 0.003275350933690612), (374, 0.0032727161470710673), (1726, 0.003271795055346579), (1565, 0.0032716097915604825), (1248, 0.0032702045158207824), (2928, 0.0032699222753527703), (1390, 0.0032692570064605077), (1692, 0.003269055651778982), (3115, 0.003269047246034843), (1180, 0.0032683995518145415), (3052, 0.0032677427661273427), (2218, 0.0032665846195344232), (1719, 0.0032665740960588115), (1118, 0.003266438541872236), (708, 0.0032584591232739913), (659, 0.0032576573606887737), (1554, 0.003257557229503834), (2573, 0.0032556187894389964), (1506, 0.003255289776090917), (1618, 0.0032538683333769827), (2422, 0.003252092069762484), (2735, 0.003251059078233382), (1586, 0.003250552796340431), (643, 0.0032501881410977236), (1032, 0.0032475992055417627), (2437, 0.003244857838512843), (1924, 0.0032429776953694306), (1494, 0.003241568612593033), (1301, 0.00323664521071727), (1350, 0.003236207579959507), (2195, 0.0032343805377194257), (1768, 0.0032329196227030323), (1569, 0.0032310047080086517), (1357, 0.0032300341948067425), (930, 0.003229782433352194), (951, 0.003229718761646744), (3223, 0.003229718761646744), (1296, 0.0032295041720276766), (160, 0.0032289956448995085), (1154, 0.003228107109658295), (1777, 0.003225389433501969), (528, 0.003220545915821092), (2368, 0.0032186950269772157), (1688, 0.003218593600836581), (2040, 0.003216098176661304), (1908, 0.003215623887557482), (1378, 0.0032146541268832235), (23, 0.0032140351493088505), (327, 0.0032132671702651367), (201, 0.003209742646011663), (3116, 0.003207840017929728), (2622, 0.0032062547044412882), (190, 0.00320573385863604), (2582, 0.003205561639142616), (114, 0.0032029050027927077), (1359, 0.0032013951772733385), (3062, 0.003200851863815685), (2862, 0.0031998483745416615), (1774, 0.0031977799222356017), (1116, 0.003196852764065476), (2412, 0.0031967030276277013), (3236, 0.003194055964464423), (2935, 0.0031929550019898553), (2438, 0.0031929224822112618), (3209, 0.003192868111914885), (1029, 0.0031917138511594013), (193, 0.003191385280262269), (1395, 0.0031902309238002204), (1315, 0.003189964575747331), (2440, 0.0031897902368567196), (1910, 0.0031886609088478965), (1888, 0.003186721799254148), (1632, 0.003184754946523298), (2136, 0.0031836195338432174), (2033, 0.0031832879764310774), (3165, 0.0031803088452570997), (392, 0.003178662047774285), (2515, 0.003178487558970219), (1117, 0.0031784054895441683), (1566, 0.0031746254086325995), (2420, 0.0031664704074721457), (1895, 0.003165573451541194), (955, 0.0031631168672728352), (65, 0.0031600757265869213), (2549, 0.003158260284383085), (3275, 0.0031527282660682625), (256, 0.0031503219533184517), (3049, 0.0031501155340837666), (1909, 0.0031468366753866816), (2676, 0.003144851169788908), (1551, 0.0031378777698885373), (2311, 0.0031354741405668443), (582, 0.0031326775693464267), (2876, 0.0031302193764585024), (2141, 0.0031287683056514357), (3248, 0.003127152823348492), (1655, 0.0031228819845134557), (822, 0.0031220353220215535), (2885, 0.003119441380387011), (767, 0.00311941412064755), (1864, 0.0031190989421652623), (459, 0.0031178248507949032), (225, 0.003117515702277517), (657, 0.0031171481519213597), (3107, 0.0031134780971288642), (2523, 0.003110733649447859), (75, 0.0031050796279437245), (1837, 0.0031031431266337586), (1638, 0.0030945850217380237), (2981, 0.0030945850217380237), (282, 0.0030905679526595066), (348, 0.0030876872953572282), (2016, 0.0030834282092112196), (2858, 0.0030821322571934597), (3047, 0.0030818105935462607), (3184, 0.0030799661108070137), (1896, 0.0030786672750218905), (2327, 0.0030763653845640913), (2720, 0.0030720765849189453), (1980, 0.0030691173623534234), (331, 0.003068292752654739), (341, 0.0030660736907515843), (185, 0.0030638072144059895), (2719, 0.003061959438933912), (1519, 0.003060702287192579), (603, 0.003059458400534642), (1535, 0.0030582223846171842), (358, 0.003056691739652913), (612, 0.003055722294144135), (1441, 0.0030556808485297476), (2727, 0.003054711494851161), (2358, 0.0030528883752124563), (1484, 0.0030519123364273542), (2432, 0.0030519013736856693), (1358, 0.003051549303598543), (2243, 0.0030481533471157997), (1199, 0.003047860245540514), (1457, 0.0030432090657474234), (3076, 0.0030403599018202386), (668, 0.0030349470449149638), (245, 0.0030331236597888793), (2728, 0.003032600698518171), (84, 0.0030325084891857277), (2570, 0.0030308659047750546), (2304, 0.003030806404476966), (3113, 0.0030291235020727288), (385, 0.003024551726158923), (2702, 0.0030195979101828793), (2634, 0.0030130299950943858), (1897, 0.0029971197475760535), (1843, 0.0029922597944104868), (388, 0.002991469162394147), (642, 0.0029884469930958244), (2701, 0.002986958701333352), (2991, 0.0029857405136325616), (2434, 0.00298471344109706), (2032, 0.0029697162168132413), (166, 0.0029634124081510185), (548, 0.002959073075049727), (2309, 0.0029580406983983386), (2436, 0.0029556255471895917), (2812, 0.002947602488017565), (1539, 0.0029419469017522635), (989, 0.002941530891134922), (737, 0.0029363313656251837), (2987, 0.00293135120174873), (2572, 0.002928663763747437), (1885, 0.002927617484555703), (1265, 0.0029206603827219824), (2337, 0.0029136678495878957), (77, 0.002882376580224564), (2219, 0.002877151163720577), (1623, 0.0028624535860239495), (1308, 0.002851631615901734), (1347, 0.0028512594260745004), (1089, 0.0028095371026621617), (3176, 0.002768964381331709), (2866, 0.0026593796199341703), (1348, 0.0024820197821471086), (1343, 0.0024396573479432), (2865, 0.0024331488743162713), (1902, 0.002427605855229679), (1115, 0.0024151697218363325), (1344, 0.0024118029569280093), (832, 0.0023962957260624793), (2070, 0.0023933629250396933), (638, 0.002378617881326969), (1345, 0.0023582357532471792), (1346, 0.002351481994132606), (1903, 0.0023225596656996964), (1904, 0.0023211815072616696), (452, 0.0022980054011460796), (324, 0.002287455428981599), (1329, 0.0022792207926425868), (1714, 0.0022742220629567342), (2069, 0.0022729158834676466), (3205, 0.002270020466970016), (1820, 0.002263293798519381), (2300, 0.0022455311937487287), (212, 0.0022196457257638094), (2071, 0.002077258810463004), (2550, 0.0017987527832842847), (2553, 0.001797589909988854), (1313, 0.001785166687627597), (2558, 0.0017844879382072762), (2543, 0.0017748190112267727), (2541, 0.0017706343568244074), (2542, 0.0017639753291032625), (2539, 0.0017472512656522099), (2544, 0.0017458314371520524), (2270, 0.0017048812872349375), (2272, 0.0017034441690519544), (2559, 0.0016685244402226528), (2556, 0.0016624798548559826), (2271, 0.0016506411856725169), (2557, 0.0016000878601027274), (2540, 0.001591549038968675), (2555, 0.0015852116449165301), (2274, 0.0015614548477918288), (2552, 0.0015513138596693718), (2554, 0.0015423578013822785), (2551, 0.001515762186803744), (2273, 0.0014643262944806978), (2361, 0.0014520075476908425), (182, 0.0014510221609684427), (2275, 0.0013990609126925718), (760, 0.001346256065491664)]\n"
     ]
    }
   ],
   "source": [
    "sorted_similar_movies = sorted(similarity_score, key = lambda x:x[1], reverse = True) \n",
    "print(sorted_similar_movies)"
   ]
  },
  {
   "cell_type": "code",
   "execution_count": 264,
   "id": "9eb9b398",
   "metadata": {},
   "outputs": [
    {
     "name": "stdout",
     "output_type": "stream",
     "text": [
      "Movies suggested for you : \n",
      "\n",
      "1 . Toy Story\n",
      "2 . The Two Jakes\n",
      "3 . The Money Pit\n",
      "4 . End of Days\n",
      "5 . The Next Step\n",
      "6 . Nil by Mouth\n",
      "7 . Reindeer Games\n",
      "8 . Doug's 1st Movie\n",
      "9 . Pink Flamingos\n",
      "10 . The Wood\n",
      "11 . Addams Family Values\n",
      "12 . Dear Jesse\n",
      "13 . Blood on the Sun\n",
      "14 . The Astronaut's Wife\n",
      "15 . Gumby: The Movie\n",
      "16 . Frankie Starlight\n",
      "17 . Batman & Robin\n",
      "18 . Jane Austen's Mafia!\n",
      "19 . Whatever\n"
     ]
    }
   ],
   "source": [
    "print('Movies suggested for you : \\n')\n",
    "\n",
    "i = 1\n",
    "\n",
    "for movie in sorted_similar_movies:\n",
    "    index = movie[0]\n",
    "    title_from_index = df2[df2.index==index]['original_title'].values[0]\n",
    "    if (i<20):\n",
    "        print(i, '.',title_from_index)\n",
    "        i+=1"
   ]
  },
  {
   "cell_type": "code",
   "execution_count": null,
   "id": "fdad2410",
   "metadata": {},
   "outputs": [],
   "source": []
  },
  {
   "cell_type": "code",
   "execution_count": 265,
   "id": "c31d2d6f",
   "metadata": {},
   "outputs": [],
   "source": [
    "#count = CountVectorizer(analyzer='word', ngram_range=(1, 2), min_df=0, stop_words='english')\n",
    "#count_matrix = count.fit_transform(merged_df['TfidfTXT'][:3300])\n",
    "#cosine_sim = cosine_similarity(count_matrix, count_matrix)\n",
    "#similarity_score = list(enumerate(cosine_sim[index_of_the_movie]))\n",
    "#sorted_similar_movies = sorted(similarity_score, key = lambda x:x[1], reverse = True) \n",
    "#print('Movies suggested for you : \\n')\n",
    "\n",
    "#i = 1\n",
    "\n",
    "#for movie in sorted_similar_movies:\n",
    "#    index = movie[0]\n",
    "#    title_from_index = df2[df2.index==index]['original_title'].values[0]\n",
    "#    if (i<30):\n",
    "#        print(i, '.',title_from_index)\n",
    "#        i+=1\n"
   ]
  },
  {
   "cell_type": "code",
   "execution_count": null,
   "id": "93968f73",
   "metadata": {},
   "outputs": [],
   "source": []
  }
 ],
 "metadata": {
  "kernelspec": {
   "display_name": "Python 3 (ipykernel)",
   "language": "python",
   "name": "python3"
  },
  "language_info": {
   "codemirror_mode": {
    "name": "ipython",
    "version": 3
   },
   "file_extension": ".py",
   "mimetype": "text/x-python",
   "name": "python",
   "nbconvert_exporter": "python",
   "pygments_lexer": "ipython3",
   "version": "3.9.15"
  }
 },
 "nbformat": 4,
 "nbformat_minor": 5
}
